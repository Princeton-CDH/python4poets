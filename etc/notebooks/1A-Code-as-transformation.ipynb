{
  "cells": [
    {
      "cell_type": "markdown",
      "metadata": {
        "id": "QwGAqecuZTUY"
      },
      "source": [
        "# Python for Poets"
      ]
    },
    {
      "attachments": {},
      "cell_type": "markdown",
      "metadata": {
        "id": "BGUDwRPE38Af"
      },
      "source": [
        "## Poetics of programming\n",
        "\n",
        "Does python have any poetry to it? Is 'programming' also 'poetics' in any way—or are these activities in some way contradictory? \n",
        "\n",
        "This course is an introduction to Python programming that at the same time is asking these questions.\n",
        "\n",
        "Python _for poets_ means we'll be learning and re-imagining the key processes of programming as fundamentally poetic processes."
      ]
    },
    {
      "attachments": {},
      "cell_type": "markdown",
      "metadata": {},
      "source": [
        "## Variables are the Names We Give to Things\n",
        "    \n",
        "    Juliet:\n",
        "    \n",
        "    ... O, be some other name!\n",
        "    What's in a name? That which we call a rose\n",
        "    By any other name would smell as sweet;\n",
        "    So Romeo would, were he not Romeo call'd,\n",
        "    Retain that dear perfection which he owes\n",
        "    Without that title. Romeo, doff thy name,\n",
        "    And for that name which is no part of thee\n",
        "    Take all myself.\n",
        "\n",
        "    Romeo:\n",
        "\n",
        "    I take thee at thy word:\n",
        "    Call me but love, and I'll be new baptized;\n",
        "    Henceforth I never will be Romeo."
      ]
    },
    {
      "cell_type": "code",
      "execution_count": 217,
      "metadata": {},
      "outputs": [],
      "source": [
        "# give the name 'juliet' to this sequence of characters (between the r\"\"\" and \"\"\")\n",
        "juliet=r\"\"\"\n",
        "            ________________________\n",
        "         ///\\\\//\\\\//\\\\//\\\\//\\\\//\\\\/\\\\\\\n",
        "       //\\{}//\\\\//\\\\//\\\\//\\\\//\\\\//{}/\\\\\n",
        "      ///&%&%&%&/~~~~~~~~~~~~\\&%&%&%&\\\\\\\n",
        "      ||&%&%&_.'              '._&%&%&||\n",
        "      ||&%'''                o~  '''%&||\n",
        "      ||&%&                  /`\\   &%&||\n",
        "      ||&%&                  [ /%\\ &%&||\n",
        "      ||&%&                  [_|_\\_&%&||\n",
        "\"\"\"\n",
        "\n",
        "# give the name 'romeo' to this sequence of characters:\n",
        "romeo=r\"\"\"\n",
        "      ||&%&            c           &%&||\n",
        "      ||&%&           <)\\/         &%&||\n",
        "      ||&%&            /\\          &%&||\n",
        "ejm97 ||&%&&          / /         &&%&||\n",
        "______||&%&&&====================&&&%&||______\n",
        "\"\"\""
      ]
    },
    {
      "cell_type": "code",
      "execution_count": 220,
      "metadata": {},
      "outputs": [
        {
          "name": "stdout",
          "output_type": "stream",
          "text": [
            "\n",
            "            ________________________\n",
            "         ///\\\\//\\\\//\\\\//\\\\//\\\\//\\\\/\\\\\\\n",
            "       //\\{}//\\\\//\\\\//\\\\//\\\\//\\\\//{}/\\\\\n",
            "      ///&%&%&%&/~~~~~~~~~~~~\\&%&%&%&\\\\\\\n",
            "      ||&%&%&_.'              '._&%&%&||\n",
            "      ||&%'''                o~  '''%&||\n",
            "      ||&%&                  /`\\   &%&||\n",
            "      ||&%&                  [ /%\\ &%&||\n",
            "      ||&%&                  [_|_\\_&%&||\n",
            "\n"
          ]
        }
      ],
      "source": [
        "# what does the name 'juliet' refer to?\n",
        "print(juliet)"
      ]
    },
    {
      "cell_type": "code",
      "execution_count": 221,
      "metadata": {},
      "outputs": [
        {
          "name": "stdout",
          "output_type": "stream",
          "text": [
            "\n",
            "      ||&%&            c           &%&||\n",
            "      ||&%&           <)\\/         &%&||\n",
            "      ||&%&            /\\          &%&||\n",
            "ejm97 ||&%&&          / /         &&%&||\n",
            "______||&%&&&====================&&&%&||______\n",
            "\n"
          ]
        }
      ],
      "source": [
        "# what does the name 'romeo' refer to?\n",
        "print(romeo)"
      ]
    },
    {
      "cell_type": "code",
      "execution_count": null,
      "metadata": {},
      "outputs": [],
      "source": [
        "# \"Call me but love, and I'll be new baptized;\"\n",
        "\n",
        "# give the name 'love' to what is named by 'romeo'\n",
        "love = romeo"
      ]
    },
    {
      "cell_type": "code",
      "execution_count": 222,
      "metadata": {},
      "outputs": [
        {
          "name": "stdout",
          "output_type": "stream",
          "text": [
            "\n",
            "      ||&%&            c           &%&||\n",
            "      ||&%&           <)\\/         &%&||\n",
            "      ||&%&            /\\          &%&||\n",
            "ejm97 ||&%&&          / /         &&%&||\n",
            "______||&%&&&====================&&&%&||______\n",
            "\n"
          ]
        }
      ],
      "source": [
        "# show/print us love\n",
        "print(love)"
      ]
    },
    {
      "cell_type": "code",
      "execution_count": 223,
      "metadata": {},
      "outputs": [],
      "source": [
        "# \"Romeo, doff thy name,\"\n",
        "# \"Henceforth I never will be Romeo\"\n",
        "\n",
        "# remove the name 'romeo' from our memory\n",
        "del romeo"
      ]
    },
    {
      "cell_type": "code",
      "execution_count": 224,
      "metadata": {},
      "outputs": [
        {
          "ename": "NameError",
          "evalue": "name 'romeo' is not defined",
          "output_type": "error",
          "traceback": [
            "\u001b[0;31m---------------------------------------------------------------------------\u001b[0m",
            "\u001b[0;31mNameError\u001b[0m                                 Traceback (most recent call last)",
            "Cell \u001b[0;32mIn[224], line 2\u001b[0m\n\u001b[1;32m      1\u001b[0m \u001b[39m# show/print us romeo?\u001b[39;00m\n\u001b[0;32m----> 2\u001b[0m \u001b[39mprint\u001b[39m(romeo)\n",
            "\u001b[0;31mNameError\u001b[0m: name 'romeo' is not defined"
          ]
        }
      ],
      "source": [
        "# show/print us romeo?\n",
        "print(romeo)"
      ]
    },
    {
      "cell_type": "code",
      "execution_count": 225,
      "metadata": {},
      "outputs": [
        {
          "name": "stdout",
          "output_type": "stream",
          "text": [
            "\n",
            "      ||&%&            c           &%&||\n",
            "      ||&%&           <)\\/         &%&||\n",
            "      ||&%&            /\\          &%&||\n",
            "ejm97 ||&%&&          / /         &&%&||\n",
            "______||&%&&&====================&&&%&||______\n",
            "\n"
          ]
        }
      ],
      "source": [
        "# show/print us love?\n",
        "print(love)"
      ]
    },
    {
      "attachments": {},
      "cell_type": "markdown",
      "metadata": {},
      "source": [
        "### Functions are the Verbs of Transformation we put them through"
      ]
    },
    {
      "cell_type": "code",
      "execution_count": 160,
      "metadata": {},
      "outputs": [],
      "source": [
        "austen = 'It is a truth universally acknowledged, that a single man in possession of a good fortune, must be in want of a wife.'\n",
        "potter = '''Harry had a thin face, knobbly knees, black hair and bright-green eyes. He wore round glasses held together with a lot of Sellotape because of all the times Dudley had punched him on the nose. The only thing Harry liked about his own appearance was a very thin scar zon his forehead which was shaped like a bolt of lightning.'''"
      ]
    },
    {
      "cell_type": "code",
      "execution_count": 227,
      "metadata": {},
      "outputs": [],
      "source": [
        "from python4poets import swap_words\n",
        "\n",
        "def genderflip(text):\n",
        "    swap = {\n",
        "        'he':'she',\n",
        "        'He':'She',\n",
        "        'she':'he',\n",
        "        'She':'He',        \n",
        "        'him':'her',\n",
        "        'her':'him',\n",
        "        'his':'her',\n",
        "        'her':'his',\n",
        "        'man':'woman',\n",
        "        'woman':'man',\n",
        "        'husband':'wife',\n",
        "        'wife':'husband',\n",
        "        '???':'???', # ...\n",
        "    }\n",
        "    return swap_words(text, swap)"
      ]
    },
    {
      "cell_type": "code",
      "execution_count": 162,
      "metadata": {},
      "outputs": [
        {
          "data": {
            "text/plain": [
              "'Harry had a thin face, knobbly knees, black hair and bright-green eyes. She wore round glasses held together with a lot of Sellotape because of all the times Dudley had punched her on the nose. The only thing Harry liked about her own appearance was a very thin scar zon her forehead which was shaped like a bolt of lightning.'"
            ]
          },
          "execution_count": 162,
          "metadata": {},
          "output_type": "execute_result"
        }
      ],
      "source": [
        "genderflip(potter)"
      ]
    },
    {
      "cell_type": "code",
      "execution_count": 163,
      "metadata": {},
      "outputs": [
        {
          "data": {
            "text/plain": [
              "'It is a truth universally acknowledged, that a single woman in possession of a good fortune, must be in want of a husband.'"
            ]
          },
          "execution_count": 163,
          "metadata": {},
          "output_type": "execute_result"
        }
      ],
      "source": [
        "genderflip(austen)"
      ]
    },
    {
      "cell_type": "code",
      "execution_count": 164,
      "metadata": {},
      "outputs": [],
      "source": [
        "def debinarize(text):\n",
        "    swap={\n",
        "        'he':'they',\n",
        "        'He':'They',\n",
        "        'she':'they',\n",
        "        'She':'They',        \n",
        "        'him':'them',\n",
        "        'her':'them',\n",
        "        'his':'their',\n",
        "        'her':'their',\n",
        "        'man':'person',\n",
        "        'woman':'person',\n",
        "        'husband':'spouse',\n",
        "        'wife':'spouse',\n",
        "        '???':'???', # ...\n",
        "    }\n",
        "    return swap_words(text, swap)"
      ]
    },
    {
      "cell_type": "code",
      "execution_count": 165,
      "metadata": {},
      "outputs": [
        {
          "data": {
            "text/plain": [
              "'It is a truth universally acknowledged, that a single person in possession of a good fortune, must be in want of a spouse.'"
            ]
          },
          "execution_count": 165,
          "metadata": {},
          "output_type": "execute_result"
        }
      ],
      "source": [
        "debinarize(austen)"
      ]
    },
    {
      "cell_type": "code",
      "execution_count": 166,
      "metadata": {},
      "outputs": [
        {
          "data": {
            "text/plain": [
              "'Harry had a thin face, knobbly knees, black hair and bright-green eyes. They wore round glasses held together with a lot of Sellotape because of all the times Dudley had punched them on the nose. The only thing Harry liked about their own appearance was a very thin scar zon their forehead which was shaped like a bolt of lightning.'"
            ]
          },
          "execution_count": 166,
          "metadata": {},
          "output_type": "execute_result"
        }
      ],
      "source": [
        "debinarize(potter)"
      ]
    },
    {
      "cell_type": "code",
      "execution_count": 167,
      "metadata": {},
      "outputs": [],
      "source": [
        "def problematize(text):\n",
        "    swap = {\n",
        "        'universally':'in some circumstances',\n",
        "        'truth':'position',\n",
        "        'must':'might',  # replace the ??'s here to continue\n",
        "        '??':'??',\n",
        "    }\n",
        "    return swap_words(text, swap)"
      ]
    },
    {
      "cell_type": "code",
      "execution_count": 168,
      "metadata": {},
      "outputs": [
        {
          "data": {
            "text/plain": [
              "'It is a position in some circumstances acknowledged, that a single man in possession of a good fortune, might be in want of a wife.'"
            ]
          },
          "execution_count": 168,
          "metadata": {},
          "output_type": "execute_result"
        }
      ],
      "source": [
        "problematize(austen)"
      ]
    },
    {
      "cell_type": "code",
      "execution_count": 169,
      "metadata": {},
      "outputs": [
        {
          "data": {
            "text/plain": [
              "'It is a position in some circumstances acknowledged, that a single person in possession of a good fortune, might be in want of a spouse.'"
            ]
          },
          "execution_count": 169,
          "metadata": {},
          "output_type": "execute_result"
        }
      ],
      "source": [
        "problematize(debinarize(austen))"
      ]
    },
    {
      "cell_type": "code",
      "execution_count": 170,
      "metadata": {},
      "outputs": [
        {
          "data": {
            "text/plain": [
              "'It is a position in some circumstances acknowledged, that a single person in possession of a good fortune, might be in want of a spouse.'"
            ]
          },
          "execution_count": 170,
          "metadata": {},
          "output_type": "execute_result"
        }
      ],
      "source": [
        "debinarize(problematize(austen))"
      ]
    },
    {
      "cell_type": "code",
      "execution_count": 171,
      "metadata": {},
      "outputs": [
        {
          "data": {
            "text/plain": [
              "True"
            ]
          },
          "execution_count": 171,
          "metadata": {},
          "output_type": "execute_result"
        }
      ],
      "source": [
        "problematize(debinarize(austen)) == debinarize(problematize(austen))"
      ]
    },
    {
      "attachments": {},
      "cell_type": "markdown",
      "metadata": {
        "id": "4pXHtz5hZlE9"
      },
      "source": [
        "### Oulipo constraints\n",
        "\n",
        "#### Snowball, or a Rhopalism\n",
        "A poem in which each line is a single word, and each successive word is one letter longer.\n",
        "\n",
        "#### Stile\n",
        "A method wherein each “new” sentence in a paragraph stems from the last word or phrase in the previous sentence (e.g. “I descend the long ladder brings me to the ground floor is spacious…”). In this technique the sentences in a narrative continually overlap, often turning the grammatical object in a previous sentence into the grammatical subject of the next. The author may also pivot on an adverb, prepositional phrase, or other transitory moment.\n",
        "\n",
        "#### Lipogram\n",
        "Writing that excludes one or more letters. The previous sentence is a lipogram in B, F, J, K, Q, V, Y, and Z (it does not contain any of those letters).\n",
        "\n",
        "#### Prisoner's constraint, also called Macao constraint\n",
        "A type of lipogram that omits letters with ascenders and descenders (b, d, f, g, h, j, k, l, p, q, t, and y).\n",
        "\n",
        "#### Palindromes\n",
        "Sonnets and other poems constructed using palindromic techniques.\n",
        "\n",
        "#### Univocalism\n",
        "A poem using only one vowel letter. In English and some other languages the same vowel letter can represent different sounds, which means that, for example, \"born\" and \"cot\" could both be used in a univocalism. (Words with the same American English vowel sound but represented by different 'vowel' letters could not be used – e.g. \"blue\" and \"stew\".)\n",
        "\n",
        "#### Mathews' Algorithm\n",
        "Elements in a text are moved around by a set of predetermined rules\n",
        "\n",
        "#### S+7, sometimes called N+7\n",
        "Replace every noun in a text with the seventh noun after it in a dictionary. For example, \"Call me Ishmael. Some years ago...\" becomes \"Call me islander. Some yeggs ago...\". Results will vary depending upon the dictionary used. This technique can also be performed on other lexical classes, such as verbs.\n",
        "\n",
        "Draft:\n",
        "\n",
        "```python\n",
        "def oulipo_n7(text):\n",
        "    # get a list of nouns\n",
        "    \n",
        "    # in each list of those nouns, find its corresponding noun 7 nouns up\n",
        "\n",
        "    # return a version of the input text with those correspondences as swap\n",
        "\n",
        "```"
      ]
    },
    {
      "cell_type": "code",
      "execution_count": 172,
      "metadata": {},
      "outputs": [
        {
          "name": "stdout",
          "output_type": "stream",
          "text": [
            "40791 ['a-bomb', 'a-hole', 'a-listers', 'a-team', 'aahs', 'aardvark', 'abacus', 'abalone', 'abandonment', 'abasement']\n"
          ]
        }
      ],
      "source": [
        "# get a list of nouns\n",
        "list_of_nouns = get_list_of_nouns()\n",
        "\n",
        "# how many?\n",
        "num_nouns = len(list_of_nouns)\n",
        "\n",
        "print(num_nouns, list_of_nouns[:10])"
      ]
    },
    {
      "cell_type": "code",
      "execution_count": 173,
      "metadata": {},
      "outputs": [
        {
          "data": {
            "text/plain": [
              "[('mescaline', 'mesocosms'),\n",
              " ('morphs', 'mortality'),\n",
              " ('regeneration', 'regimens'),\n",
              " ('thumpers', 'thundercloud'),\n",
              " ('acacia', 'academics'),\n",
              " ('regulator', 'rehearing'),\n",
              " ('luggage', 'lumbago'),\n",
              " ('misbehavior', 'miscarriages'),\n",
              " ('developers', 'deviants'),\n",
              " ('mater', 'materialization')]"
            ]
          },
          "execution_count": 173,
          "metadata": {},
          "output_type": "execute_result"
        }
      ],
      "source": [
        "# create a \"dictionary\" mapping each noun n to its n+7\n",
        "orig_to_n7 = {\n",
        "    # a mapping of orig noun (located at n) to new noun (located at n7)\n",
        "    list_of_nouns[n] : list_of_nouns[n+7]\n",
        "    for n in range(num_nouns)\n",
        "    if n < num_nouns - 7\n",
        "}\n",
        "\n",
        "# show 10 random examples\n",
        "random.sample(orig_to_n7.items(), 10)"
      ]
    },
    {
      "cell_type": "code",
      "execution_count": 174,
      "metadata": {},
      "outputs": [],
      "source": [
        "# use this to swap\n",
        "def oulipo_n7(text):\n",
        "    return swap_words(text, orig_to_n7)"
      ]
    },
    {
      "cell_type": "code",
      "execution_count": 146,
      "metadata": {
        "id": "p_aajM2JPJka"
      },
      "outputs": [
        {
          "data": {
            "text/plain": [
              "'It is a tryout universally acknowledged, that a single mana in possum of a good forty-niners, must be in want of a wigglers.'"
            ]
          },
          "execution_count": 146,
          "metadata": {},
          "output_type": "execute_result"
        }
      ],
      "source": [
        "oulipo_n7(austen)"
      ]
    },
    {
      "cell_type": "code",
      "execution_count": 149,
      "metadata": {},
      "outputs": [
        {
          "data": {
            "text/plain": [
              "'Harry had a thin faceful, knobbly knife, black haircut and bright-green eyesores. He wore round glassware held together with a lotus of Sellotape because of all the timespan Dudley had punched him on the nosepiece. The only think-tanks Harry liked about his own appellation was a very thin scaremongering on his forelegs which was shaped like a bombard of lightyears.'"
            ]
          },
          "execution_count": 149,
          "metadata": {},
          "output_type": "execute_result"
        }
      ],
      "source": [
        "oulipo_n7(potter)"
      ]
    },
    {
      "cell_type": "code",
      "execution_count": null,
      "metadata": {},
      "outputs": [],
      "source": []
    },
    {
      "attachments": {},
      "cell_type": "markdown",
      "metadata": {
        "id": "c-ruiT6hZX04"
      },
      "source": []
    }
  ],
  "metadata": {
    "accelerator": "GPU",
    "colab": {
      "provenance": []
    },
    "gpuClass": "standard",
    "kernelspec": {
      "display_name": "venv",
      "language": "python",
      "name": "python3"
    },
    "language_info": {
      "codemirror_mode": {
        "name": "ipython",
        "version": 3
      },
      "file_extension": ".py",
      "mimetype": "text/x-python",
      "name": "python",
      "nbconvert_exporter": "python",
      "pygments_lexer": "ipython3",
      "version": "3.8.14"
    },
    "vscode": {
      "interpreter": {
        "hash": "c86a577c2ee3cd1756d92900367eba84168978c7d1ae96c257f3cab35f5d6e2a"
      }
    }
  },
  "nbformat": 4,
  "nbformat_minor": 0
}
