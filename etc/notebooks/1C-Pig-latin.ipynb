{
  "cells": [
    {
      "cell_type": "markdown",
      "metadata": {
        "id": "QwGAqecuZTUY"
      },
      "source": [
        "# Python for Poets"
      ]
    },
    {
      "cell_type": "code",
      "execution_count": 1,
      "metadata": {
        "colab": {
          "base_uri": "https://localhost:8080/"
        },
        "id": "8dfA4WbWM5OA",
        "outputId": "1dbd0f95-a1bd-4f3a-9f71-ded09df6570e"
      },
      "outputs": [],
      "source": [
        "%run ../python4poets.py"
      ]
    },
    {
      "cell_type": "markdown",
      "metadata": {
        "id": "BGUDwRPE38Af"
      },
      "source": [
        "## Poetics of programming"
      ]
    },
    {
      "cell_type": "markdown",
      "metadata": {
        "id": "iOx7AYK1aI3s"
      },
      "source": [
        "### Language functions\n",
        "\n",
        "\n",
        "#### Pig-latin?\n",
        "\n",
        "* pig latin -> igpay atinlay\n",
        "* simple -> implesay\n",
        "* smile -> ilesmay"
      ]
    },
    {
      "cell_type": "code",
      "execution_count": null,
      "metadata": {
        "id": "9G-0yRC9aLDV"
      },
      "outputs": [],
      "source": [
        "def to_pig_latin(english_word):\n",
        "  # find first consonants\n",
        "  \n",
        "  # put consonants at end of word\n",
        "\n",
        "  # add final vowel\n",
        "\n",
        "  # return finished word\n",
        "  pass"
      ]
    },
    {
      "cell_type": "code",
      "execution_count": null,
      "metadata": {
        "id": "Kru-luXderzC"
      },
      "outputs": [],
      "source": [
        "def find_first_consonants(word, vowels = {'a','e','i','o','u'}):\n",
        "    \"\"\"\n",
        "    A function which finds the first consonants of any word.\n",
        "    Give it the input `word`, return the first few consonant letters (if any).\n",
        "\n",
        "    For example:\n",
        "    * \"pig\" -> \"p\"\n",
        "    * \"smile\" -> \"sm\"\n",
        "    \"\"\"\n",
        "\n",
        "    # start an empty \"string\" of letters\n",
        "    first_consonants = ''\n",
        "\n",
        "    # for each letter in the word we were given...\n",
        "    for letter in word:\n",
        "\n",
        "        # if this letter is a vowel...\n",
        "        if letter in vowels:\n",
        "            # stop the loop! we've gone too far!\n",
        "            break\n",
        "\n",
        "        # otherwise, it's a consonant\n",
        "        else: \n",
        "            # add this consonant to string above\n",
        "            first_consonants += letter\n",
        "\n",
        "    # return back the string of consonants\n",
        "    return first_consonants"
      ]
    },
    {
      "cell_type": "code",
      "execution_count": null,
      "metadata": {
        "colab": {
          "base_uri": "https://localhost:8080/",
          "height": 35
        },
        "id": "iu56TLVVg46P",
        "outputId": "0445128e-6198-40e1-a918-ffa304ad3420"
      },
      "outputs": [
        {
          "data": {
            "application/vnd.google.colaboratory.intrinsic+json": {
              "type": "string"
            },
            "text/plain": [
              "'p'"
            ]
          },
          "execution_count": 4,
          "metadata": {},
          "output_type": "execute_result"
        }
      ],
      "source": [
        "# Is this \"p\"?\n",
        "find_first_consonants('pig')"
      ]
    },
    {
      "cell_type": "code",
      "execution_count": null,
      "metadata": {
        "colab": {
          "base_uri": "https://localhost:8080/",
          "height": 35
        },
        "id": "L5_9uMjJhPA5",
        "outputId": "1ec3e482-1e26-4ce7-8961-f53f1a2f4a8b"
      },
      "outputs": [
        {
          "data": {
            "application/vnd.google.colaboratory.intrinsic+json": {
              "type": "string"
            },
            "text/plain": [
              "'sm'"
            ]
          },
          "execution_count": 5,
          "metadata": {},
          "output_type": "execute_result"
        }
      ],
      "source": [
        "# Is this \"sm\"?\n",
        "find_first_consonants('smile')"
      ]
    },
    {
      "cell_type": "code",
      "execution_count": null,
      "metadata": {
        "colab": {
          "base_uri": "https://localhost:8080/",
          "height": 35
        },
        "id": "dtQqKyoLhWBY",
        "outputId": "de3ab18c-04c9-41e1-af91-27872256d089"
      },
      "outputs": [
        {
          "data": {
            "application/vnd.google.colaboratory.intrinsic+json": {
              "type": "string"
            },
            "text/plain": [
              "''"
            ]
          },
          "execution_count": 6,
          "metadata": {},
          "output_type": "execute_result"
        }
      ],
      "source": [
        "# Is this... empty?\n",
        "find_first_consonants('energy')"
      ]
    },
    {
      "cell_type": "code",
      "execution_count": null,
      "metadata": {
        "id": "t7g6XRpeer6x"
      },
      "outputs": [],
      "source": [
        "# Let's make a bunch of assertions that OUGHT to be true!\n",
        "# if any of them break, we'll know to fix the function\n",
        "\n",
        "assert find_first_consonants('pig') == 'p'\n",
        "assert find_first_consonants('smile') == 'sm'\n",
        "assert find_first_consonants('joke') == 'j'\n",
        "assert find_first_consonants('energy') == ''\n",
        "assert find_first_consonants('yellow') == 'y'"
      ]
    },
    {
      "cell_type": "code",
      "execution_count": null,
      "metadata": {
        "id": "9K7Id047hQ52"
      },
      "outputs": [],
      "source": []
    },
    {
      "cell_type": "code",
      "execution_count": null,
      "metadata": {
        "id": "W6xtQjm6fMB9"
      },
      "outputs": [],
      "source": []
    },
    {
      "cell_type": "code",
      "execution_count": null,
      "metadata": {
        "id": "LjIYClrLfQOi"
      },
      "outputs": [],
      "source": [
        "def to_pig_latin(word):\n",
        "  # find first consonants\n",
        "  first_consonants = find_first_consonants(word)\n",
        "\n",
        "  # move consonants to end of word\n",
        "  num_first_consonants = len(first_consonants)\n",
        "  word_without_first_consonants = word[num_first_consonants:]\n",
        "  word_with_first_consonants_moved_to_end = word_without_first_consonants + first_consonants\n",
        "\n",
        "  # add final vowel\n",
        "  word_with_first_consonants_moved_to_end_plus_final_vowel = word_with_first_consonants_moved_to_end + 'ay'\n",
        "\n",
        "  # return finished word\n",
        "  return word_with_first_consonants_moved_to_end_plus_final_vowel"
      ]
    },
    {
      "cell_type": "code",
      "execution_count": null,
      "metadata": {
        "colab": {
          "base_uri": "https://localhost:8080/",
          "height": 35
        },
        "id": "z_ptvzL2gBDc",
        "outputId": "0d4a3208-d5e7-4acf-e4e6-25413fd37faf"
      },
      "outputs": [
        {
          "data": {
            "application/vnd.google.colaboratory.intrinsic+json": {
              "type": "string"
            },
            "text/plain": [
              "'igpay'"
            ]
          },
          "execution_count": 38,
          "metadata": {},
          "output_type": "execute_result"
        }
      ],
      "source": [
        "to_pig_latin('pig')"
      ]
    },
    {
      "cell_type": "code",
      "execution_count": null,
      "metadata": {
        "colab": {
          "base_uri": "https://localhost:8080/",
          "height": 35
        },
        "id": "1Oe_bt9TgCZA",
        "outputId": "d736bb4b-feb2-4cbe-b4b8-878991753920"
      },
      "outputs": [
        {
          "data": {
            "application/vnd.google.colaboratory.intrinsic+json": {
              "type": "string"
            },
            "text/plain": [
              "'atinlay'"
            ]
          },
          "execution_count": 39,
          "metadata": {},
          "output_type": "execute_result"
        }
      ],
      "source": [
        "to_pig_latin('latin')"
      ]
    },
    {
      "cell_type": "code",
      "execution_count": null,
      "metadata": {
        "colab": {
          "base_uri": "https://localhost:8080/",
          "height": 35
        },
        "id": "-QJ3HEORgGjc",
        "outputId": "2bc3c210-c33e-45ec-f2e2-b52c91083269"
      },
      "outputs": [
        {
          "data": {
            "application/vnd.google.colaboratory.intrinsic+json": {
              "type": "string"
            },
            "text/plain": [
              "'ilesmay'"
            ]
          },
          "execution_count": 41,
          "metadata": {},
          "output_type": "execute_result"
        }
      ],
      "source": [
        "to_pig_latin('smile')"
      ]
    },
    {
      "cell_type": "code",
      "execution_count": null,
      "metadata": {
        "colab": {
          "base_uri": "https://localhost:8080/",
          "height": 35
        },
        "id": "gtccL9yxgH3C",
        "outputId": "fe96b936-0b04-4ef9-817f-413a32a44f15"
      },
      "outputs": [
        {
          "data": {
            "application/vnd.google.colaboratory.intrinsic+json": {
              "type": "string"
            },
            "text/plain": [
              "'implesay'"
            ]
          },
          "execution_count": 42,
          "metadata": {},
          "output_type": "execute_result"
        }
      ],
      "source": [
        "to_pig_latin('simple')"
      ]
    }
  ],
  "metadata": {
    "accelerator": "GPU",
    "colab": {
      "provenance": []
    },
    "gpuClass": "standard",
    "kernelspec": {
      "display_name": "venv",
      "language": "python",
      "name": "python3"
    },
    "language_info": {
      "codemirror_mode": {
        "name": "ipython",
        "version": 3
      },
      "file_extension": ".py",
      "mimetype": "text/x-python",
      "name": "python",
      "nbconvert_exporter": "python",
      "pygments_lexer": "ipython3",
      "version": "3.8.14 (default, Sep 27 2022, 10:48:18) \n[Clang 13.1.6 (clang-1316.0.21.2.5)]"
    },
    "vscode": {
      "interpreter": {
        "hash": "c86a577c2ee3cd1756d92900367eba84168978c7d1ae96c257f3cab35f5d6e2a"
      }
    }
  },
  "nbformat": 4,
  "nbformat_minor": 0
}
