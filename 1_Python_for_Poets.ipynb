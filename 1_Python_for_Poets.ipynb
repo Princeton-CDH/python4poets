{
  "nbformat": 4,
  "nbformat_minor": 0,
  "metadata": {
    "colab": {
      "provenance": [],
      "include_colab_link": true
    },
    "kernelspec": {
      "name": "python3",
      "display_name": "Python 3"
    },
    "language_info": {
      "name": "python"
    }
  },
  "cells": [
    {
      "cell_type": "markdown",
      "metadata": {
        "id": "view-in-github",
        "colab_type": "text"
      },
      "source": [
        "<a href=\"https://colab.research.google.com/github/Princeton-CDH/python4poets/blob/main/1_Python_for_Poets.ipynb\" target=\"_parent\"><img src=\"https://colab.research.google.com/assets/colab-badge.svg\" alt=\"Open In Colab\"/></a>"
      ]
    },
    {
      "cell_type": "markdown",
      "source": [
        "_Welcome to Wintersession 2023! See course website [here](https://my.princeton.edu/OCE/rsvp_boot?id=1924503)._"
      ],
      "metadata": {
        "id": "oK5JB8reR-6S"
      }
    },
    {
      "cell_type": "markdown",
      "source": [
        "# 1 Python for Poets"
      ],
      "metadata": {
        "id": "NzuEB--JUpYI"
      }
    },
    {
      "cell_type": "markdown",
      "source": [
        "## 1.1 Course introduction\n",
        "\n",
        "Does python have any poetry to it? Is 'programming' also 'poetics' in any way—or are these activities in some way contradictory? \n",
        "\n",
        "This course is an introduction to Python programming that at the same time is asking these questions.\n",
        "\n",
        "Python _for poets_ means we'll be learning and re-imagining the key processes of programming as fundamentally poetic processes."
      ],
      "metadata": {
        "id": "W3t4K-dfAxEW"
      }
    },
    {
      "cell_type": "markdown",
      "source": [
        "\n",
        "### What will you learn?\n",
        "1. What is the poetry of programming?\n",
        "\n",
        "2. Data Types I: On Letters and Numbers (Strings and Integers)\n",
        "\n",
        "3. Data Types II: Putting Things Together (Lists and Dictionaries)\n",
        "\n",
        "4. Adding conditions and functions: `If` & Functions\n",
        "\n",
        "5. Designing our own complex functions\n",
        "\n",
        "6. Applying what we've learned to poetry\n",
        "\n",
        "\n"
      ],
      "metadata": {
        "id": "HTEBPOeZCObT"
      }
    },
    {
      "cell_type": "markdown",
      "source": [
        "### Why python? Why poetry?\n",
        "\n",
        "#### Some big questions about \"python\" and \"poetry\":\n",
        "* Can Python or code be poetic or a kind of poetry?\n",
        "* Can poetry be pythonic, or can its patterns be shown in code?\n",
        "\n",
        "#### How can code be poetic? \n",
        "\n",
        "* Transform something into something else through a custom process. Metaphor? Verbs? Input -> (function/process) -> output. \n",
        "\n",
        "* Concepts: variables, functions, loops – these are like a metaphysics poets should know\n",
        "\n",
        "* It can find patterns! Like a poem...\n",
        "\n",
        "* Practices abstraction: for any given thing, design the abstract process producing it. (e.g. the process of \"greeting\" ought not hardwire the person's name but makes it a parameter.)\n",
        "\n",
        "* Automate boring stuff, and so ... make more time for poetry.\n",
        "\n",
        "#### Examples of python and poetry at work\n",
        "\n",
        "* [Verse by Verse](https://sites.research.google/versebyverse/). An AI-human hybrid method for generating poetry. "
      ],
      "metadata": {
        "id": "l0EmkOCY_xss"
      }
    },
    {
      "cell_type": "markdown",
      "source": [
        "## Using concepts from poetry/language to understand concepts from python/coding"
      ],
      "metadata": {
        "id": "K2c_ItIWEwUm"
      }
    },
    {
      "cell_type": "markdown",
      "metadata": {
        "id": "uwfpij-pncuE"
      },
      "source": [
        "### **Variables** are the **names** we give to things\n",
        "    \n",
        "_Juliet_:\n",
        "<br/>... O, be some other *name*!\n",
        "<br/>What's in a *name*? That which we call a rose\n",
        "<br/>By any other *name* would smell as sweet;\n",
        "<br/>So Romeo would, were he not Romeo call'd,\n",
        "<br/>Retain that dear perfection which he owes\n",
        "<br/>Without that title. Romeo, doff thy *name*,\n",
        "<br/>And for that *name* which is no part of thee\n",
        "<br/>Take all myself.\n",
        "<br/>\n",
        "<br/>_Romeo_:\n",
        "<br/>I take thee at thy word:\n",
        "<br/>_Call me but love, and I'll be new baptized;\n",
        "<br/>Henceforth I never will be Romeo._"
      ]
    },
    {
      "cell_type": "code",
      "execution_count": null,
      "metadata": {
        "id": "mK1HtAbcncuF"
      },
      "outputs": [],
      "source": [
        "# give the name 'juliet' to this sequence of characters (between the r\"\"\" and \"\"\")\n",
        "juliet=r\"\"\"\n",
        "            ________________________\n",
        "         ///\\\\//\\\\//\\\\//\\\\//\\\\//\\\\/\\\\\\\n",
        "       //\\{}//\\\\//\\\\//\\\\//\\\\//\\\\//{}/\\\\\n",
        "      ///&%&%&%&/~~~~~~~~~~~~\\&%&%&%&\\\\\\\n",
        "      ||&%&%&_.'              '._&%&%&||\n",
        "      ||&%'''                o~  '''%&||\n",
        "      ||&%&                  /`\\   &%&||\n",
        "      ||&%&                  [ /%\\ &%&||\n",
        "      ||&%&                  [_|_\\_&%&||\n",
        "\"\"\""
      ]
    },
    {
      "cell_type": "code",
      "execution_count": null,
      "metadata": {
        "id": "tWfjrPaHncuF"
      },
      "outputs": [],
      "source": [
        "# what does the name 'juliet' refer to?\n",
        "print(juliet)"
      ]
    },
    {
      "cell_type": "markdown",
      "source": [
        "∇ *Did this work? Do you see how the I/O of colab works? Try hitting Shift+Enter to execute a cell and move down a cell.*\n",
        "\n"
      ],
      "metadata": {
        "id": "3UBg9lPc1v_h"
      }
    },
    {
      "cell_type": "code",
      "source": [
        "# give the name 'romeo' to this sequence of characters:\n",
        "romeo=r\"\"\"\n",
        "      ||&%&            c           &%&||\n",
        "      ||&%&           <)\\/         &%&||\n",
        "      ||&%&            /\\          &%&||\n",
        "ejm97 ||&%&&          / /         &&%&||\n",
        "______||&%&&&====================&&&%&||______\n",
        "\"\"\""
      ],
      "metadata": {
        "id": "O827d3tkFwHa"
      },
      "execution_count": null,
      "outputs": []
    },
    {
      "cell_type": "code",
      "execution_count": null,
      "metadata": {
        "id": "UtZk-l9dncuF"
      },
      "outputs": [],
      "source": [
        "# what does the name 'romeo' refer to?\n",
        "print(romeo)"
      ]
    },
    {
      "cell_type": "code",
      "execution_count": null,
      "metadata": {
        "id": "0hzv6mS4ncuF"
      },
      "outputs": [],
      "source": [
        "# \"Call me but love, and I'll be new baptized;\"\n",
        "\n",
        "# give the name 'love' to what is named by 'romeo'\n",
        "love = romeo"
      ]
    },
    {
      "cell_type": "code",
      "execution_count": null,
      "metadata": {
        "id": "Ekeyd9E2ncuG"
      },
      "outputs": [],
      "source": [
        "# show/print us love\n",
        "print(love)"
      ]
    },
    {
      "cell_type": "code",
      "execution_count": null,
      "metadata": {
        "id": "3Z8w-IQBncuG"
      },
      "outputs": [],
      "source": [
        "# \"Romeo, doff thy name,\"\n",
        "# \"Henceforth I never will be Romeo\"\n",
        "\n",
        "# remove the name 'romeo' from our memory\n",
        "del romeo"
      ]
    },
    {
      "cell_type": "code",
      "execution_count": null,
      "metadata": {
        "id": "x-vPOb-qncuG"
      },
      "outputs": [],
      "source": [
        "# show/print us romeo?\n",
        "print(romeo)"
      ]
    },
    {
      "cell_type": "code",
      "execution_count": null,
      "metadata": {
        "id": "X7mLc70KncuG"
      },
      "outputs": [],
      "source": [
        "# show/print us love?\n",
        "print(love)"
      ]
    },
    {
      "cell_type": "markdown",
      "source": [
        "#### Aside: On `NameError`, the most common of all errors\n",
        "\n",
        "∇ *Based on the discussion and outputs above and below, as well as the name of `NameError` itself, can you guess what `NameError` this means?*"
      ],
      "metadata": {
        "id": "bPR7iHYWwZch"
      }
    },
    {
      "cell_type": "code",
      "source": [
        "mercutio"
      ],
      "metadata": {
        "id": "gL2Dup5PJdM8"
      },
      "execution_count": null,
      "outputs": []
    },
    {
      "cell_type": "code",
      "source": [
        "thenurse"
      ],
      "metadata": {
        "id": "jecBhQ_AJjOR"
      },
      "execution_count": null,
      "outputs": []
    },
    {
      "cell_type": "markdown",
      "source": [
        "#### _Aside_: Using dependencies and pre-built tools\n",
        "\n",
        "Sometimes – often – we want to use pieces of code already written by someone else in our own code. One way to do this is to `!pip install` it and then `import` it in our code. \n",
        "\n",
        "Let's `!pip install` the `python4poets` package of code. This just contains some simple utility functions. You can look at the code and readme on github [here](https://github.com/Princeton-CDH/python4poets)."
      ],
      "metadata": {
        "id": "f0HSdVuDqTRA"
      }
    },
    {
      "cell_type": "code",
      "source": [
        "# Install a \"python4poets\" package of code (-q means quietly and -U means update)\n",
        "!pip install -qU git+https://github.com/Princeton-CDH/python4poets\n",
        "\n",
        "# Let's import everything (all the names and functions) from inside it\n",
        "from python4poets import *"
      ],
      "metadata": {
        "id": "v9duDBYGHqc4"
      },
      "execution_count": null,
      "outputs": []
    },
    {
      "cell_type": "markdown",
      "metadata": {
        "id": "4bLrtX-xncuG"
      },
      "source": [
        "### **Functions** are **verbs** transforming things\n",
        "\n",
        "Functions are fundamentally a creative, transformative, even metaphorical process.\n",
        "\n",
        "In the simplest formulation of a function, `y = f(x)`, the input `x` is transformed by the function `f` into some totally new output `y`."
      ]
    },
    {
      "cell_type": "markdown",
      "source": [
        "#### Functions are often explained in a (kind of boring mathematical way\n",
        "\n",
        "<center><img src=\"https://upload.wikimedia.org/wikipedia/commons/4/4d/TI-83.png\" height=\"200\" /><br/><i>Graphing calculator circa 1996</i></center>"
      ],
      "metadata": {
        "id": "7yL01MHmURDE"
      }
    },
    {
      "cell_type": "code",
      "source": [
        "# A mathematical function\n",
        "\n",
        "# define the function f such that for any given x...\n",
        "def f(x):\n",
        "    # we give back x squared\n",
        "    return x**2"
      ],
      "metadata": {
        "id": "SazwNsSHL60X"
      },
      "execution_count": null,
      "outputs": []
    },
    {
      "cell_type": "code",
      "source": [
        "# Show the value of f(x) for a few values of x.\n",
        "printm(f\"\"\"\n",
        "If the function `f(x)` returns x squared, then\n",
        "\n",
        "* The value of `f(2)` is {f(2)}.\n",
        "\n",
        "* The value of `f(10)` is {f(10)}.\n",
        "\n",
        "* The value of `f(200)` is {f(200):,}.\n",
        "\n",
        "* The value of `f(0.5)` is {f(0.5)}.\n",
        "\n",
        "* The value of `f(0.25)` is {f(0.25)}.\n",
        "\n",
        "\"\"\")"
      ],
      "metadata": {
        "id": "viVOEHdXMAaW"
      },
      "execution_count": null,
      "outputs": []
    },
    {
      "cell_type": "code",
      "source": [
        "# Or we can quickly plot the result of f(x) -- the stuff of TI-83 calculators\n",
        "Xs = [1, 2, 3, 4, 5, 6, 7, 8, 9, 10]\n",
        "Ys = [f(x) for x in Xs]\n",
        "quick_plot(Xs, Ys)"
      ],
      "metadata": {
        "id": "the35rX8MSoR"
      },
      "execution_count": null,
      "outputs": []
    },
    {
      "cell_type": "markdown",
      "source": [
        "#### But functions are fundamentally transformative – and poetic? – processes\n",
        "\n",
        "Consider a function which performs a textual – and political – transformation on a text. Jerome McGann and Lisa Samuels call this creative process of changing an input into a new output [\"deformance\"](http://www2.iath.virginia.edu/jjm2f/old/deform.html)."
      ],
      "metadata": {
        "id": "5cW1aPksqPNj"
      }
    },
    {
      "cell_type": "code",
      "execution_count": null,
      "metadata": {
        "id": "_b9tr9XBncuG"
      },
      "outputs": [],
      "source": [
        "# Consider the process of gender-\"flipping\" a text\n",
        "\n",
        "def genderflip(text):\n",
        "    swap = {\n",
        "        'he':'she',\n",
        "        'him':'her',\n",
        "        'his':'her',\n",
        "        'man':'woman',\n",
        "        'men':'women',\n",
        "        'husband':'wife',\n",
        "        '???':'???', # add more if you like!\n",
        "    }\n",
        "    return swap_words(text, swap)"
      ]
    },
    {
      "cell_type": "code",
      "source": [
        "# try it out\n",
        "genderflip(\"Iron Man saved the day.\")"
      ],
      "metadata": {
        "id": "ZvZw7IpOJG5B"
      },
      "execution_count": null,
      "outputs": []
    },
    {
      "cell_type": "code",
      "source": [
        "# Let's give the name \"potter\" to this passage\n",
        "potter = '''\n",
        "Harry had a thin face, knobbly knees, black hair and bright-green eyes.\n",
        "He wore round glasses held together with a lot of Sellotape because of\n",
        "all the times Dudley had punched him on the nose. The only thing Harry\n",
        "liked about his own appearance was a very thin scar zon his forehead\n",
        "which was shaped like a bolt of lightning.'''"
      ],
      "metadata": {
        "id": "3hpjlVMFZK27"
      },
      "execution_count": null,
      "outputs": []
    },
    {
      "cell_type": "code",
      "source": [
        "# gender flip the same passage -- something JK Rowling might not appreciate!\n",
        "genderflip(potter)"
      ],
      "metadata": {
        "id": "wRWeZGCAZLzw"
      },
      "execution_count": null,
      "outputs": []
    },
    {
      "cell_type": "code",
      "source": [
        "# Or, more canonically: Let's give the name \"austen\" to this sentence\n",
        "austen = 'It is a truth universally acknowledged, that a single man in possession of a good fortune, must be in want of a wife.'"
      ],
      "metadata": {
        "id": "NUqjAD7TApK1"
      },
      "execution_count": null,
      "outputs": []
    },
    {
      "cell_type": "code",
      "source": [
        "# Now gender flip it\n",
        "genderflip(austen)"
      ],
      "metadata": {
        "id": "xubFaSFKZGx5"
      },
      "execution_count": null,
      "outputs": []
    },
    {
      "cell_type": "code",
      "execution_count": null,
      "metadata": {
        "id": "bkMKStXOncuG"
      },
      "outputs": [],
      "source": [
        "# What if we wanted to de-binarize gender instead of \"flip\" it? Let's try this instead\n",
        "\n",
        "def debinarize(text):\n",
        "    swap={\n",
        "        'he':'they',\n",
        "        'she':'they',\n",
        "        'him':'them',\n",
        "        'his':'their',\n",
        "        'her':'their',\n",
        "        'man':'person',\n",
        "        'woman':'person',\n",
        "        'husband':'spouse',\n",
        "        'wife':'spouse',\n",
        "        '???':'???', # ...\n",
        "    }\n",
        "    return swap_words(text, swap)"
      ]
    },
    {
      "cell_type": "code",
      "execution_count": null,
      "metadata": {
        "id": "owwDS2ZVncuG"
      },
      "outputs": [],
      "source": [
        "# try it on austen\n",
        "debinarize(austen)"
      ]
    },
    {
      "cell_type": "code",
      "execution_count": null,
      "metadata": {
        "id": "4sP4EUZdncuG"
      },
      "outputs": [],
      "source": [
        "# try it on potter\n",
        "debinarize(potter)"
      ]
    },
    {
      "cell_type": "code",
      "execution_count": null,
      "metadata": {
        "id": "LFGh1CK7ncuG"
      },
      "outputs": [],
      "source": [
        "# Any other functions we can think of? What about this...\n",
        "\n",
        "def problematize(text):\n",
        "    swap = {\n",
        "        'universally':'in some circumstances',\n",
        "        'truth':'position',\n",
        "        'must':'might',  # replace the ??'s here to continue\n",
        "        '??':'??',\n",
        "    }\n",
        "    return swap_words(text, swap)"
      ]
    },
    {
      "cell_type": "code",
      "execution_count": null,
      "metadata": {
        "id": "baFm1AxkncuG"
      },
      "outputs": [],
      "source": [
        "# problematize the austen sentence\n",
        "problematize(austen)"
      ]
    },
    {
      "cell_type": "code",
      "execution_count": null,
      "metadata": {
        "id": "ht0sn4Z3ncuH"
      },
      "outputs": [],
      "source": [
        "# problematize the _debinarized_ austen sentence\n",
        "problematize(\n",
        "    debinarize(\n",
        "        austen\n",
        "    )\n",
        ")"
      ]
    },
    {
      "cell_type": "code",
      "source": [
        "# debinarize the problematized austen sentence\n",
        "debinarize(\n",
        "    problematize(\n",
        "        austen\n",
        "    )\n",
        ")"
      ],
      "metadata": {
        "id": "ywPvZ8ZqZwEb"
      },
      "execution_count": null,
      "outputs": []
    },
    {
      "cell_type": "markdown",
      "source": [
        "∇ *Why is the output in the following two cells the same?*"
      ],
      "metadata": {
        "id": "ZrDVBnUyZ1iJ"
      }
    },
    {
      "cell_type": "markdown",
      "source": [
        "∇ *What other functions might we imagine designing?*"
      ],
      "metadata": {
        "id": "C3jmhgtuabwZ"
      }
    }
  ]
}