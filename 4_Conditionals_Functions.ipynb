{
  "nbformat": 4,
  "nbformat_minor": 0,
  "metadata": {
    "colab": {
      "provenance": [],
      "include_colab_link": true
    },
    "kernelspec": {
      "name": "python3",
      "display_name": "Python 3"
    },
    "language_info": {
      "name": "python"
    }
  },
  "cells": [
    {
      "cell_type": "markdown",
      "metadata": {
        "id": "view-in-github",
        "colab_type": "text"
      },
      "source": [
        "<a href=\"https://colab.research.google.com/github/Princeton-CDH/python4poets/blob/main/4_Conditionals_Functions.ipynb\" target=\"_parent\"><img src=\"https://colab.research.google.com/assets/colab-badge.svg\" alt=\"Open In Colab\"/></a>"
      ]
    },
    {
      "cell_type": "markdown",
      "source": [
        "# 4. Conditionals: The Whens and Ifs of Things"
      ],
      "metadata": {
        "id": "7l4CJoz4ZIJ0"
      }
    },
    {
      "cell_type": "markdown",
      "source": [
        "##4.1 `if` Statements"
      ],
      "metadata": {
        "id": "oL_xsyWrnUNH"
      }
    },
    {
      "cell_type": "markdown",
      "source": [
        "As we've learned before in `2.4.1`, conditions return a Boolean value (`True` or `False`). For example,\n",
        "\n",
        "\n",
        "\n",
        "> 34 < 57 --> `True`\n",
        ">\n",
        "> 60 > 92 --> `False`\n",
        "> \n",
        "> 9 <= 10 --> `True`\n",
        ">\n",
        "> 7 != 10 --> `True`\n",
        "\n",
        "\n",
        "You can use conditions with `if` statements to check *if* a certain condition is met. For example:\n",
        "\n",
        "\n"
      ],
      "metadata": {
        "id": "v-WDMG3QpoBM"
      }
    },
    {
      "cell_type": "code",
      "source": [
        "x = 5\n",
        "y = 7\n",
        "\n",
        "if x < y:\n",
        "  print(str(x) + \" is smaller than \" + str(y))"
      ],
      "metadata": {
        "colab": {
          "base_uri": "https://localhost:8080/"
        },
        "id": "e81oOQxVZOwA",
        "outputId": "de5d24f6-0e23-47c1-c441-60d483d1a9b4"
      },
      "execution_count": null,
      "outputs": [
        {
          "output_type": "stream",
          "name": "stdout",
          "text": [
            "5 is smaller than y\n"
          ]
        }
      ]
    },
    {
      "cell_type": "markdown",
      "source": [
        "You'll notice that the second line only executes if the statement of the first line is `True`. In the example above, since `5 < 7`, we print the specified `str`.\n",
        "\n",
        "∇ *What happens if you change* `y` *to* `3`*?*"
      ],
      "metadata": {
        "id": "rl82I3dtZr9O"
      }
    },
    {
      "cell_type": "markdown",
      "source": [
        "###4.1.1 Architecture of `if` statements\n",
        "\n",
        "In sum, then, an `if` statement is -- minimally -- construed the following way: \n",
        "\n",
        "1.   a line starting with `if` and the condition that should be met, closed with a colon `:`\n",
        "2.   a line that executes *if* the condition specified in line 1 is met.\n"
      ],
      "metadata": {
        "id": "Cq6m1dYFZC3-"
      }
    },
    {
      "cell_type": "code",
      "source": [
        "name = \"Toni Morrison\"\n",
        "\n",
        "if name == \"Toni Morrison\":\n",
        "  print(name + \" was awarded the Nobel Prize in Literature in 1993\")"
      ],
      "metadata": {
        "colab": {
          "base_uri": "https://localhost:8080/"
        },
        "id": "Bwil6JaBqOiM",
        "outputId": "9192627d-792c-46c8-d107-b35596cce15f"
      },
      "execution_count": null,
      "outputs": [
        {
          "output_type": "stream",
          "name": "stdout",
          "text": [
            "Toni Morrison was awarded the Nobel Prize in Literature in 1993\n"
          ]
        }
      ]
    },
    {
      "cell_type": "markdown",
      "source": [
        "###4.1.2 `if` and `else`\n",
        "You can use `else` to specify what should be executed if the `if` statement is `False`. \n",
        "\n",
        "At the same time, you can also check an `if` statement against dictionary values. In the following example, we are interested whether the user-provided `str` -- specified through the function `input()` -- is *in* the `dict`. Try out a couple of names:"
      ],
      "metadata": {
        "id": "kitpqVQ5rP00"
      }
    },
    {
      "cell_type": "code",
      "source": [
        "laureates_selection = {\n",
        "    \"Gao Xingjian\": 2000, \"Sir Vidiadhar Surajprasad Naipaul\": 2001, \"Imre Kertész\": 2002, \"John M. Coetzee\": 2003, \n",
        "    \"Elfriede Jelinek\": 2004, \"Harold Pinter\": 2005, \"Orhan Pamuk\": 2006, \"Doris Lessing\": 2007, \n",
        "    \"Jean-Marie Gustave Le Clézio\": 2008, \"Herta Müller\": 2009, \"Mario Vargas Llosa\": 2010, \"Tomas Tranströmer\": 2011, \n",
        "    \"Mo Yan\": 2012, \"Alice Munro\": 2013, \"Patrick Modiano\": 2013, \"Svetlana Alexievich\": 2014, \n",
        "    \"Bob Dylan\": 2016, \"Kazuo Ishiguro\": 2017, \"Olga Tokarczuk\": 2018, \"Peter Handke\": 2019,\n",
        "    \"Louise Glück\": 2020, \"Abdulrazak Gurnah\": 2021, \"Annie Ernaux\": 2022}\n",
        "\n",
        "\n",
        "print(\"Enter a name\")\n",
        "user_input = input()\n",
        "if user_input in laureates_selection.keys():\n",
        "  print(user_input + \" was awarded the Nobel Prize in Literature in \" + str(laureates_selection.get(user_input)))\n",
        "else: \n",
        "  print(user_input + \" is not among the list of people who were awarded a Nobel Prize in Literature since 2000\")"
      ],
      "metadata": {
        "colab": {
          "base_uri": "https://localhost:8080/"
        },
        "id": "ugNYnKHarQt8",
        "outputId": "16133488-de25-42f0-b21c-3b1ef4c648b0"
      },
      "execution_count": null,
      "outputs": [
        {
          "output_type": "stream",
          "name": "stdout",
          "text": [
            "Enter a name\n",
            "Herta Muller\n",
            "Herta Muller is not among the list of people who were awarded a Nobel Prize in Literature since 2000\n"
          ]
        }
      ]
    },
    {
      "cell_type": "markdown",
      "source": [
        "∇  *What happens if you misspell a name? Can you imagine why that happens?*\n",
        "\n",
        "\n",
        "\n",
        "\n"
      ],
      "metadata": {
        "id": "Nd2y4Yr9qO0D"
      }
    },
    {
      "cell_type": "markdown",
      "source": [
        "###4.1.3 `elif`\n",
        "\n",
        "Should there be more than two possible outcomes (so not just `True` and `False`), you can use `elif`. You use this clause to check if a *second* (or third, or fourth...) statement is `True`. Compare the following:"
      ],
      "metadata": {
        "id": "1jk-tvZbehbh"
      }
    },
    {
      "cell_type": "code",
      "execution_count": null,
      "metadata": {
        "id": "b2lVWbrFX3fx",
        "colab": {
          "base_uri": "https://localhost:8080/"
        },
        "outputId": "910805cc-f334-4d31-c6f3-11521cb7d9cf"
      },
      "outputs": [
        {
          "output_type": "stream",
          "name": "stdout",
          "text": [
            "13\n",
            "81\n",
            "4\n",
            "98\n"
          ]
        }
      ],
      "source": [
        "test_string = \"We die. That may be the meaning of life. But we do language. That may be the measure of our lives.\"\n",
        "\n",
        "\n",
        "overall_counter = 0\n",
        "e_counter = 0\n",
        "rest_counter = 0\n",
        "punctuation_counter = 0\n",
        "\n",
        "\n",
        "\n",
        "for char in test_string: \n",
        "  overall_counter += 1\n",
        "  if char == \"e\":\n",
        "    e_counter += 1\n",
        "  elif (char != \".\") and (char != \"\\n\"):\n",
        "    rest_counter += 1\n",
        "  elif char == \".\":\n",
        "    punctuation_counter += 1\n",
        "\n",
        "\n",
        "print(e_counter)\n",
        "print(rest_counter)\n",
        "print(punctuation_counter)\n",
        "print(overall_counter)"
      ]
    },
    {
      "cell_type": "markdown",
      "source": [
        "∇  *Can you read what gets counted in the lines of code above?*\n",
        "\n",
        "You *can* specify a final `else`, but you *do not have* to. \n",
        "\n",
        "∇  *What* `char` *would fall under a final* `else` *in the lines of code above?*\n"
      ],
      "metadata": {
        "id": "NHYGW_ivJyfR"
      }
    },
    {
      "cell_type": "markdown",
      "source": [
        "##4.2 Functions\n"
      ],
      "metadata": {
        "id": "w6PoBe-pnXp4"
      }
    },
    {
      "cell_type": "markdown",
      "source": [
        "### 4.2.1 Introduction to Functions, Second Act\n",
        "Instead of writing lines of code repeatedly, you can also store full lines as **functions**. A function only executes when called. As you might recall, we've talked about functions already in lesson one, as (metaphorically speaking) **verbs** to our variables. They do the heavy-lifting of transforming things! \n",
        "\n",
        "We had introduced functions already at the beginning of this course -- along mathematical lines, for example in the function `y = f(x)`, wherein the input `x` is transformed by the function `f` into the output `y`. \n",
        "\n",
        "But throughout the past notebooks, you've encountered other functions repeatedly. For example, at this point, you're comfortable writing the following:"
      ],
      "metadata": {
        "id": "Z7UyA_qsK1N_"
      }
    },
    {
      "cell_type": "code",
      "source": [
        "print(\"Hello, World!\")"
      ],
      "metadata": {
        "id": "_zXt2ptpqRD2"
      },
      "execution_count": null,
      "outputs": []
    },
    {
      "cell_type": "markdown",
      "source": [
        "This is a function, and while you may not know *what specifically* is happening behind the scenes (yet), by now you should know how you can use this function. Specifically, in `print()`, you are providing the parameter or argument of *what* you want to print (in the example above, specifically, `Hello, World!`). \n",
        "\n",
        "Now imagine you wanted to print `Hello, World!` repeatedly in your code -- you'd have to type that specific line multiple times. So let's just imagine you wanted to write *another* function just to print the specific string `Hello, World!`, whenever you call the function. You'd first have to *define* the function, using the `def` keyword:"
      ],
      "metadata": {
        "id": "EfIMzSRnNUhw"
      }
    },
    {
      "cell_type": "code",
      "source": [
        "def greet_world():\n",
        "  print(\"Hello, World!\")"
      ],
      "metadata": {
        "id": "5L2jPNwZr5Yh"
      },
      "execution_count": null,
      "outputs": []
    },
    {
      "cell_type": "markdown",
      "source": [
        "After defining the function, you still have to call that same function to execute it. Let's do that in the following `if` statement:"
      ],
      "metadata": {
        "id": "vUPowG3CsKtI"
      }
    },
    {
      "cell_type": "code",
      "source": [
        "x = \"worldlings\"\n",
        "y = x[:5]\n",
        "\n",
        "if y == \"world\":\n",
        "  greet_world()"
      ],
      "metadata": {
        "colab": {
          "base_uri": "https://localhost:8080/"
        },
        "id": "pypxmTMssX5W",
        "outputId": "c8eea6ed-6746-4f2a-e794-dae6df988acf"
      },
      "execution_count": null,
      "outputs": [
        {
          "output_type": "stream",
          "name": "stdout",
          "text": [
            "Hello, World!\n"
          ]
        }
      ]
    },
    {
      "cell_type": "markdown",
      "source": [
        "∇  *Can you explain why the lines of code above return* `Hello, World!`*?*\n",
        "\n",
        "Now, imagine that you greeted the world throughout writing code. At some point you may forget how you actually defined the function you use constantly -- and that's ok. Similarly, using other functions that you don't fully \"get\" yet is ok (and you'll certainly do it all the time). \n",
        "\n",
        "But if you need to get help, well... another function comes to your rescue! Specifically, Python has a built-in `help()` function, so let's try to get help for `print()`:\n",
        "\n"
      ],
      "metadata": {
        "id": "BTCfveV7vAQE"
      }
    },
    {
      "cell_type": "code",
      "source": [
        "help(print)"
      ],
      "metadata": {
        "colab": {
          "base_uri": "https://localhost:8080/"
        },
        "id": "f_Ft4L5YIhoP",
        "outputId": "96d05ba6-b76f-4716-b799-8156976eb9ff"
      },
      "execution_count": null,
      "outputs": [
        {
          "output_type": "stream",
          "name": "stdout",
          "text": [
            "Help on built-in function print in module builtins:\n",
            "\n",
            "print(...)\n",
            "    print(value, ..., sep=' ', end='\\n', file=sys.stdout, flush=False)\n",
            "    \n",
            "    Prints the values to a stream, or to sys.stdout by default.\n",
            "    Optional keyword arguments:\n",
            "    file:  a file-like object (stream); defaults to the current sys.stdout.\n",
            "    sep:   string inserted between values, default a space.\n",
            "    end:   string appended after the last value, default a newline.\n",
            "    flush: whether to forcibly flush the stream.\n",
            "\n"
          ]
        }
      ]
    },
    {
      "cell_type": "markdown",
      "source": [
        "That might be a little... confusing? But let's try to read that documentation. \n",
        "\n",
        "∇  *Can you understand some of the things in the documentation above?* "
      ],
      "metadata": {
        "id": "RerGeA6bJG3b"
      }
    },
    {
      "cell_type": "markdown",
      "metadata": {
        "id": "Zrcp-XuB2ivh"
      },
      "source": [
        "###4.2.2 Ascending the Ladder of Abstraction\n",
        "\n",
        "One thing to keep in mind though is that you will encounter functions of increasing levels of abstraction. Take our example of the act of greeting someone again: while we have, above, defined `greet_world()` as a distinct function, we could also abstract it further -- greeting *someone* or *something* does much of the same thing as greeting the world, only that the input argument or parameter differs.\n"
      ]
    },
    {
      "cell_type": "markdown",
      "metadata": {
        "id": "owEEcAvP4X2S"
      },
      "source": [
        "#### Level 1: Concrete (\"hard coded\") greetings"
      ]
    },
    {
      "cell_type": "markdown",
      "source": [
        "So in a sense, by defining our function `greet_world()` we actually hard-coded the parameter of *what* is greeted. Whoops!"
      ],
      "metadata": {
        "id": "Vb3AQVtFARY6"
      }
    },
    {
      "cell_type": "code",
      "execution_count": null,
      "metadata": {
        "colab": {
          "base_uri": "https://localhost:8080/"
        },
        "id": "dMDoneus4bz6",
        "outputId": "afce6a35-29ee-4837-e50a-ab63ee3ef030"
      },
      "outputs": [
        {
          "output_type": "stream",
          "name": "stdout",
          "text": [
            "Hello, World!\n"
          ]
        }
      ],
      "source": [
        "greet_world()"
      ]
    },
    {
      "cell_type": "markdown",
      "source": [
        "Now, we could again hard-code that you wanted to greet something else than the world. You could, again, define and call a specific function to that end:"
      ],
      "metadata": {
        "id": "9bgOZ3aROlNS"
      }
    },
    {
      "cell_type": "code",
      "execution_count": null,
      "metadata": {
        "colab": {
          "base_uri": "https://localhost:8080/"
        },
        "id": "jEOiLydn4OBy",
        "outputId": "33204ab9-8afa-459d-8f4e-d584f7da9c51"
      },
      "outputs": [
        {
          "output_type": "stream",
          "name": "stdout",
          "text": [
            "Hello, Ishmael!\n"
          ]
        }
      ],
      "source": [
        "def greet_ishmael():\n",
        "  print(\"Hello, Ishmael!\")\n",
        "\n",
        "greet_ishmael()"
      ]
    },
    {
      "cell_type": "markdown",
      "metadata": {
        "id": "wFjU4u5x2gb2"
      },
      "source": [
        "#### Level 2: Abstracting the person greeted\n",
        "\n",
        "It's clear that there's a considerable overall between `greet_world()` and `greet_ishmael()`, not just in the output(`Hello, World!` and `Hello, Ishmael!`), but also in the structure of how we defined these functions. Now... realistically speaking, how often would you `greet_world()` and `greet_ishmael()`, and how often would you just greet *someone or something*? So... why not just write a function that would allow you to do the latter and that in other words allows for a more flexible parameter?\n",
        "\n",
        "You can do so the following way:"
      ]
    },
    {
      "cell_type": "code",
      "execution_count": null,
      "metadata": {
        "id": "MbyP1g603ORS"
      },
      "outputs": [],
      "source": [
        "def greet(x):\n",
        "  print(f'Hello, {x}!')"
      ]
    },
    {
      "cell_type": "markdown",
      "source": [
        "We're here *again* defining `greet()`, which here takes, however, an argument or parameter `x`. Crucially, in the second line, we define that that variable `x` should take the place of what or who is greeted. So let's try that: "
      ],
      "metadata": {
        "id": "u3jeSTT_GXrZ"
      }
    },
    {
      "cell_type": "code",
      "execution_count": null,
      "metadata": {
        "colab": {
          "base_uri": "https://localhost:8080/"
        },
        "id": "rv9e5AQz6DE9",
        "outputId": "a8909f29-c89f-4bd9-c836-9c80d328eae4"
      },
      "outputs": [
        {
          "output_type": "stream",
          "name": "stdout",
          "text": [
            "Hello, World!\n"
          ]
        }
      ],
      "source": [
        "greet('World')"
      ]
    },
    {
      "cell_type": "code",
      "execution_count": null,
      "metadata": {
        "colab": {
          "base_uri": "https://localhost:8080/"
        },
        "id": "NLZciXga2nvh",
        "outputId": "46e78804-f4c0-4d39-c8b7-e4226f2c28f7"
      },
      "outputs": [
        {
          "output_type": "stream",
          "name": "stdout",
          "text": [
            "Hello, Ishmael!\n"
          ]
        }
      ],
      "source": [
        "greet('Ishmael')"
      ]
    },
    {
      "cell_type": "markdown",
      "source": [
        "Because `x` can stand in for anything, you can also greet others without defining a new function:"
      ],
      "metadata": {
        "id": "pJ6JfeO-HFhX"
      }
    },
    {
      "cell_type": "code",
      "execution_count": null,
      "metadata": {
        "id": "BEytVbBXBx93",
        "colab": {
          "base_uri": "https://localhost:8080/"
        },
        "outputId": "cd11eec0-ac29-4d93-b283-de3be53032b5"
      },
      "outputs": [
        {
          "output_type": "stream",
          "name": "stdout",
          "text": [
            "Hello, 'Python for Poets' group!\n"
          ]
        }
      ],
      "source": [
        "greet(\"'Python for Poets' group\")"
      ]
    },
    {
      "cell_type": "markdown",
      "source": [
        "Also, we didn't define any limits for `x`, so now you can also do the amazing thing of greeting a `bool`: "
      ],
      "metadata": {
        "id": "BrZEf11kHlaF"
      }
    },
    {
      "cell_type": "code",
      "execution_count": null,
      "metadata": {
        "id": "cT6MvJXxBzdq",
        "colab": {
          "base_uri": "https://localhost:8080/"
        },
        "outputId": "d2e96caf-3cf7-426d-fb7d-7542948d7cbb"
      },
      "outputs": [
        {
          "output_type": "stream",
          "name": "stdout",
          "text": [
            "Hello, True!\n"
          ]
        }
      ],
      "source": [
        "greet(True)"
      ]
    },
    {
      "cell_type": "markdown",
      "metadata": {
        "id": "LbBF1H_c2gCP"
      },
      "source": [
        "#### Level 3: Abstracting the greeting used"
      ]
    },
    {
      "cell_type": "markdown",
      "source": [
        "Now, let's go one step further. What if the greeting itself (`Hello` thus far) is also just another variable in our process of greeting? \n",
        "\n",
        "So let's redefine `greet()` accordingly:"
      ],
      "metadata": {
        "id": "FsTq_owrIMPH"
      }
    },
    {
      "cell_type": "code",
      "execution_count": null,
      "metadata": {
        "id": "L1zvnFe-2erQ"
      },
      "outputs": [],
      "source": [
        "def greet(person, greeting = 'Hello'):\n",
        "    print(f'{greeting}, {person}!')"
      ]
    },
    {
      "cell_type": "markdown",
      "source": [
        "You'll notice that `person` is a necessary argument of the function, while `greeting` is optional. This means that `greeting = 'Hello'` specifies the default greeting as `Hello`. Try it out:"
      ],
      "metadata": {
        "id": "M7bQZXfknFSl"
      }
    },
    {
      "cell_type": "code",
      "execution_count": null,
      "metadata": {
        "colab": {
          "base_uri": "https://localhost:8080/"
        },
        "id": "49TfoPai6fPX",
        "outputId": "1076650c-5cdc-44c8-f214-a81de92e96cd"
      },
      "outputs": [
        {
          "output_type": "stream",
          "name": "stdout",
          "text": [
            "Hello, Ishmael!\n"
          ]
        }
      ],
      "source": [
        "greet(\"Ishmael\")"
      ]
    },
    {
      "cell_type": "markdown",
      "source": [
        "We can specify the `greeting` in a second argument. When the function is called subsequently, however, the `greeting` reverts back to the default value `Hello`:"
      ],
      "metadata": {
        "id": "x7-ltiNmq7-n"
      }
    },
    {
      "cell_type": "code",
      "source": [
        "greet(\"all of you\", \"Good afternoon\")\n",
        "greet(\"you there\")"
      ],
      "metadata": {
        "id": "zE7K-myiq7js"
      },
      "execution_count": null,
      "outputs": []
    },
    {
      "cell_type": "markdown",
      "source": [
        "It's also ok to clarify the arguments as follows:"
      ],
      "metadata": {
        "id": "iUZcHsiKpenE"
      }
    },
    {
      "cell_type": "code",
      "execution_count": null,
      "metadata": {
        "colab": {
          "base_uri": "https://localhost:8080/"
        },
        "id": "aBfI_9l0LqSI",
        "outputId": "142803ef-ca47-4183-cddc-2e533d9aabcd"
      },
      "outputs": [
        {
          "name": "stdout",
          "output_type": "stream",
          "text": [
            "Hello, Ishmael!\n"
          ]
        }
      ],
      "source": [
        "greet(person=\"Ishmael\")"
      ]
    },
    {
      "cell_type": "markdown",
      "source": [
        "What doesn't work, however, is any attempt to skip the necessary `person` argument:"
      ],
      "metadata": {
        "id": "wHCQ-w56rmNC"
      }
    },
    {
      "cell_type": "code",
      "source": [
        "greet(greeting=\"Good night\")"
      ],
      "metadata": {
        "colab": {
          "base_uri": "https://localhost:8080/",
          "height": 164
        },
        "id": "jvzFDdURryBP",
        "outputId": "2037b0cb-f8aa-4c36-deb9-6706d3c468a5"
      },
      "execution_count": null,
      "outputs": [
        {
          "output_type": "error",
          "ename": "TypeError",
          "evalue": "ignored",
          "traceback": [
            "\u001b[0;31m---------------------------------------------------------------------------\u001b[0m",
            "\u001b[0;31mTypeError\u001b[0m                                 Traceback (most recent call last)",
            "\u001b[0;32m<ipython-input-28-06934d0b60ad>\u001b[0m in \u001b[0;36m<module>\u001b[0;34m\u001b[0m\n\u001b[0;32m----> 1\u001b[0;31m \u001b[0mgreet\u001b[0m\u001b[0;34m(\u001b[0m\u001b[0mgreeting\u001b[0m\u001b[0;34m=\u001b[0m\u001b[0;34m\"Good night\"\u001b[0m\u001b[0;34m)\u001b[0m\u001b[0;34m\u001b[0m\u001b[0;34m\u001b[0m\u001b[0m\n\u001b[0m",
            "\u001b[0;31mTypeError\u001b[0m: greet() missing 1 required positional argument: 'person'"
          ]
        }
      ]
    },
    {
      "cell_type": "markdown",
      "source": [
        "Remember? We defined `greeting()` as greeting *someone* or *something*. So make sure to include the key argument(s) in your functions:"
      ],
      "metadata": {
        "id": "HeWzWRk1r3ai"
      }
    },
    {
      "cell_type": "code",
      "execution_count": null,
      "metadata": {
        "colab": {
          "base_uri": "https://localhost:8080/"
        },
        "id": "bhuVctTO6g8b",
        "outputId": "0c219c68-47de-4147-c1f4-4244e04cb7c7"
      },
      "outputs": [
        {
          "output_type": "stream",
          "name": "stdout",
          "text": [
            "Goodnight, cow jumping over the moon!\n"
          ]
        }
      ],
      "source": [
        "greet(person=\"cow jumping over the moon\", greeting=\"Goodnight\")"
      ]
    },
    {
      "cell_type": "markdown",
      "source": [
        "Of course, you can write much more elaborate functions, including also other functions. In that regard, compare the following example from the introductory notebook:"
      ],
      "metadata": {
        "id": "09IZAv5Prt6o"
      }
    },
    {
      "cell_type": "code",
      "execution_count": null,
      "metadata": {
        "id": "RYd21q0i6k81"
      },
      "outputs": [],
      "source": [
        "def greet_by_the_hour(person, utc_offset=-5):\n",
        "    # get the hour\n",
        "    import datetime\n",
        "    hour = datetime.datetime.now().hour + utc_offset\n",
        "\n",
        "    # if morning?\n",
        "    if hour < 12:\n",
        "        greeting = \"Good morning\"\n",
        "    elif hour < 17:\n",
        "        greeting = \"Good afternoon\"\n",
        "    elif hour < 21:\n",
        "        greeting = \"Good night\"\n",
        "    \n",
        "    return greet(person, greeting)\n"
      ]
    },
    {
      "cell_type": "code",
      "execution_count": null,
      "metadata": {
        "colab": {
          "base_uri": "https://localhost:8080/"
        },
        "id": "td2-E40R7KZ-",
        "outputId": "25879c30-a002-467f-9906-cd8de3eb9fd8"
      },
      "outputs": [
        {
          "output_type": "stream",
          "name": "stdout",
          "text": [
            "Good morning, Ishmael!\n"
          ]
        }
      ],
      "source": [
        "greet_by_the_hour('Ishmael')"
      ]
    },
    {
      "cell_type": "markdown",
      "source": [
        "∇  *Can you read the function above?*"
      ],
      "metadata": {
        "id": "WZ5YyzKZtTv3"
      }
    },
    {
      "cell_type": "markdown",
      "source": [
        "###4.2.3 More on Functions in Functions\n",
        "\n",
        "Embedding functions *into* functions can hence be very powerful, but may require some practice at first. You may also struggle to read a function you're using -- but that's ok; remember, you do not need to fully grasp every bit of code that your using. More important is understanding the process behind the code, and how to get the information you need. \n",
        "\n",
        "In the following, we'll walk you through this process, taking again functions we defined in notebook 1:"
      ],
      "metadata": {
        "id": "DYYuoqAFhgTG"
      }
    },
    {
      "cell_type": "code",
      "execution_count": null,
      "metadata": {
        "id": "LFGh1CK7ncuG",
        "colab": {
          "base_uri": "https://localhost:8080/"
        },
        "outputId": "048c5bb4-20d3-4748-976f-a2f43e7e0d9a"
      },
      "outputs": [
        {
          "output_type": "stream",
          "name": "stdout",
          "text": [
            "  Preparing metadata (setup.py) ... \u001b[?25l\u001b[?25hdone\n"
          ]
        }
      ],
      "source": [
        "# Install a \"python4poets\" package of code (-q means quietly and -U means update)\n",
        "!pip install -qU git+https://github.com/Princeton-CDH/python4poets\n",
        "\n",
        "# import everything\n",
        "from python4poets import *\n",
        "\n",
        "# define debinarize() and problematize()\n",
        "def debinarize(text):\n",
        "    swap={\n",
        "        'he':'they',\n",
        "        'she':'they',\n",
        "        'him':'them',\n",
        "        'his':'their',\n",
        "        'her':'their',\n",
        "        'man':'person',\n",
        "        'woman':'person',\n",
        "        'husband':'spouse',\n",
        "        'wife':'spouse'\n",
        "    }\n",
        "    return swap_words(text, swap)\n",
        "  \n",
        "def problematize(text):\n",
        "    swap = {\n",
        "        'universally':'in some circumstances',\n",
        "        'truth':'position',\n",
        "        'must':'might'\n",
        "    }\n",
        "    return swap_words(text, swap)"
      ]
    },
    {
      "cell_type": "markdown",
      "source": [
        "∇ *What are things you notice about the two functions* `debinarize()` *and* `problematize()`*?*\n",
        "\n",
        "It's also a good idea to test out whether the function fulfills its intended purpose:"
      ],
      "metadata": {
        "id": "YtuQA73WmDLc"
      }
    },
    {
      "cell_type": "code",
      "execution_count": null,
      "metadata": {
        "id": "baFm1AxkncuG",
        "outputId": "f907587f-56a4-4652-b3d8-534e4df5da0f",
        "colab": {
          "base_uri": "https://localhost:8080/",
          "height": 54
        }
      },
      "outputs": [
        {
          "output_type": "execute_result",
          "data": {
            "text/plain": [
              "'It is a position in some circumstances acknowledged, that a single person in possession of a good fortune, might be in want of a spouse.'"
            ],
            "application/vnd.google.colaboratory.intrinsic+json": {
              "type": "string"
            }
          },
          "metadata": {},
          "execution_count": 25
        }
      ],
      "source": [
        "# problematize the austen sentence\n",
        "austen = 'It is a truth universally acknowledged, that a single man in possession of a good fortune, must be in want of a wife.'\n",
        "problematize(debinarize(austen))"
      ]
    },
    {
      "cell_type": "markdown",
      "source": [
        "You should be equipped by now to understand the full syntax of the functions listed above; the only thing you wouldn't know is the embedded function `swap_words()`.\n",
        "\n"
      ],
      "metadata": {
        "id": "ueEBWrFD20SX"
      }
    },
    {
      "cell_type": "markdown",
      "source": [
        "∇ *How could you find more information on that function?*"
      ],
      "metadata": {
        "id": "CECVUhkDNDH_"
      }
    },
    {
      "cell_type": "code",
      "source": [
        "# maybe a line of code?\n"
      ],
      "metadata": {
        "id": "yZ9N1fluNKnI"
      },
      "execution_count": null,
      "outputs": []
    },
    {
      "cell_type": "markdown",
      "source": [
        "Once you have managed to track down `swap_words()`, you'll find it declared as follows:\n",
        "\n",
        "\n",
        "\n"
      ],
      "metadata": {
        "id": "7J-pMLZ6NGmY"
      }
    },
    {
      "cell_type": "code",
      "source": [
        "def swap_words(text, swap):\n",
        "    orig_words = tokenize(text)\n",
        "    swap = {\n",
        "        **dict((v,k) for k,v in swap.items()),\n",
        "        **dict((k.title(), v.title()) for k,v in swap.items()),\n",
        "        **dict((v.title(), k.title()) for k,v in swap.items()),\n",
        "        **swap, \n",
        "    }\n",
        "\n",
        "    new_words = [\n",
        "        swap.get(orig_word, orig_word)\n",
        "        for orig_word in orig_words\n",
        "    ]\n",
        "    \n",
        "    return untokenize(new_words)"
      ],
      "metadata": {
        "id": "fd2FkxFYUS0M"
      },
      "execution_count": null,
      "outputs": []
    },
    {
      "cell_type": "markdown",
      "source": [
        "∇ *Can you understand parts of this?* \n",
        "\n",
        "∇ *Let's go back to* `debinarize()` *and* `problematize()` *-- do those functions make a little more sense to you now?* \n",
        "\n",
        "You may have to go through the [Python documentation](https://docs.python.org/3/tutorial/controlflow.html#more-on-defining-functions) or [Stackoverflow](https://stackoverflow.com/questions/36901/what-does-double-star-asterisk-and-star-asterisk-do-for-parameters) to understand parts of this function. Again, that's ok -- looking things up is a normal part of learning Python. \n",
        "\n",
        "You will *again* encounter functions in there -- actually two: `tokenize()` and `untokenize()`.\n",
        "\n",
        "∇ *Judging by the names of these functions, what should they do?* \n",
        "\n",
        "(Additionally, you may have also noticed the dictionary method `dict.items()` and the string method `str.title()`, but let's not go down those routes right now).\n",
        "\n",
        "So if you were to again look up `tokenize()` and `untokenize()`, you'd find the following:"
      ],
      "metadata": {
        "id": "CV_YodDRP0ez"
      }
    },
    {
      "cell_type": "code",
      "source": [
        "def tokenize(text):\n",
        "    \"\"\"\n",
        "    Split a text into tokens (words, morphemes we can separate such as\n",
        "    \"n't\", and punctuation).\n",
        "    \"\"\"\n",
        "    return list(_tokenize_gen(text))\n",
        "    \n",
        "def _tokenize_gen(text):\n",
        "    for sent in nltk.sent_tokenize(text):\n",
        "        for word in nltk.word_tokenize(sent):\n",
        "            yield word\n",
        "\n",
        "def untokenize(words):\n",
        "    \"\"\"\n",
        "    Untokenizing a text undoes the tokenizing operation, restoring\n",
        "    punctuation and spaces to the places that people expect them to be.\n",
        "    Ideally, `untokenize(tokenize(text))` should be identical to `text`,\n",
        "    except for line breaks.\n",
        "    \"\"\"\n",
        "    text = ' '.join(words)\n",
        "    step1 = text.replace(\"`` \", '\"').replace(\" ''\", '\"').replace('. . .', '...')\n",
        "    step2 = step1.replace(\" ( \", \" (\").replace(\" ) \", \") \")\n",
        "    step3 = re.sub(r' ([.,:;?!%]+)([ \\'\"`])', r\"\\1\\2\", step2)\n",
        "    step4 = re.sub(r' ([.,:;?!%]+)$', r\"\\1\", step3)\n",
        "    step5 = step4.replace(\" '\", \"'\").replace(\" n't\", \"n't\").replace(\n",
        "        \"can not\", \"cannot\")\n",
        "    step6 = step5.replace(\" ` \", \" '\")\n",
        "    return step6.strip()"
      ],
      "metadata": {
        "id": "4ngD4l0jR1bd"
      },
      "execution_count": null,
      "outputs": []
    },
    {
      "cell_type": "markdown",
      "source": [
        "∇ *Can you understand parts of this?* \n",
        "\n",
        "Now, you'll notice that `tokenize()` again depends on another function (`_tokenize_gen()`, which, in turn, has its own dependencies, drawing in particular on an external library), so we might want to stop this game now. So let's instead try to use these functions as the comment of `untokenize()` suggests, on a `str` by Ursula Le Guin:"
      ],
      "metadata": {
        "id": "iZIh-9EVV3pc"
      }
    },
    {
      "cell_type": "code",
      "source": [
        "test_str = \"I talk about the gods, I am an atheist. But I am an artist too, and therefore a liar. Distrust everything I say. I am telling the truth.\"\n",
        "untokenize(tokenize(test_str))"
      ],
      "metadata": {
        "colab": {
          "base_uri": "https://localhost:8080/",
          "height": 54
        },
        "id": "p1MHw88ZWkIO",
        "outputId": "1c7d304c-fe1a-4010-e733-c7ea6b03cbc9"
      },
      "execution_count": null,
      "outputs": [
        {
          "output_type": "execute_result",
          "data": {
            "text/plain": [
              "'I talk about the gods, I am an atheist. But I am an artist too, and therefore a liar. Distrust everything I say. I am telling the truth.'"
            ],
            "application/vnd.google.colaboratory.intrinsic+json": {
              "type": "string"
            }
          },
          "metadata": {},
          "execution_count": 42
        }
      ]
    },
    {
      "cell_type": "markdown",
      "source": [
        "Well, that worked (whatever happened behind the scenes)!\n",
        "Now, let's just skip the `untokenize()` part to see what actually happened:"
      ],
      "metadata": {
        "id": "QeTp3ASvXMDP"
      }
    },
    {
      "cell_type": "code",
      "source": [
        "tokenize(test_str)"
      ],
      "metadata": {
        "colab": {
          "base_uri": "https://localhost:8080/"
        },
        "id": "YVRqxyx_XTUh",
        "outputId": "bdb6104f-e666-4f96-9761-cb176cfb0baf"
      },
      "execution_count": null,
      "outputs": [
        {
          "output_type": "execute_result",
          "data": {
            "text/plain": [
              "['I',\n",
              " 'talk',\n",
              " 'about',\n",
              " 'the',\n",
              " 'gods',\n",
              " ',',\n",
              " 'I',\n",
              " 'am',\n",
              " 'an',\n",
              " 'atheist',\n",
              " '.',\n",
              " 'But',\n",
              " 'I',\n",
              " 'am',\n",
              " 'an',\n",
              " 'artist',\n",
              " 'too',\n",
              " ',',\n",
              " 'and',\n",
              " 'therefore',\n",
              " 'a',\n",
              " 'liar',\n",
              " '.',\n",
              " 'Distrust',\n",
              " 'everything',\n",
              " 'I',\n",
              " 'say',\n",
              " '.',\n",
              " 'I',\n",
              " 'am',\n",
              " 'telling',\n",
              " 'the',\n",
              " 'truth',\n",
              " '.']"
            ]
          },
          "metadata": {},
          "execution_count": 43
        }
      ]
    }
  ]
}