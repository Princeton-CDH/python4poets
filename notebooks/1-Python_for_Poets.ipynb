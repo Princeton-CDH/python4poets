{
  "cells": [
    {
      "cell_type": "markdown",
      "metadata": {
        "id": "QwGAqecuZTUY"
      },
      "source": [
        "# Python for Poets"
      ]
    },
    {
      "cell_type": "code",
      "execution_count": 1,
      "metadata": {
        "colab": {
          "base_uri": "https://localhost:8080/"
        },
        "id": "8dfA4WbWM5OA",
        "outputId": "1dbd0f95-a1bd-4f3a-9f71-ded09df6570e"
      },
      "outputs": [
        {
          "name": "stdout",
          "output_type": "stream",
          "text": [
            "LICENSE          \u001b[34mdata\u001b[m\u001b[m             \u001b[34mpython4poets\u001b[m\u001b[m\n",
            "README.md        \u001b[34mnotebooks\u001b[m\u001b[m        requirements.txt\n"
          ]
        }
      ],
      "source": [
        "!ls ../"
      ]
    },
    {
      "cell_type": "code",
      "execution_count": null,
      "metadata": {
        "id": "2VMnCq94QNo0"
      },
      "outputs": [],
      "source": []
    },
    {
      "cell_type": "code",
      "execution_count": null,
      "metadata": {
        "id": "i-aVUjEPQOOa"
      },
      "outputs": [],
      "source": []
    },
    {
      "cell_type": "markdown",
      "metadata": {
        "id": "BGUDwRPE38Af"
      },
      "source": [
        "## Poetics of programming"
      ]
    },
    {
      "cell_type": "markdown",
      "metadata": {
        "id": "Zrcp-XuB2ivh"
      },
      "source": [
        "### Programming often means ascending the ladder of abstraction\n",
        "\n",
        "Take the act of greeting someone. We can think about that act concretely, like particular acts of greeting particular people at particular times and places. Or we can think about it abstractly, as the _process_ of greeting someone separate from any particular greetings."
      ]
    },
    {
      "cell_type": "markdown",
      "metadata": {
        "id": "owEEcAvP4X2S"
      },
      "source": [
        "#### Level 1: Concrete (\"hard coded\") greetings"
      ]
    },
    {
      "cell_type": "code",
      "execution_count": null,
      "metadata": {
        "colab": {
          "base_uri": "https://localhost:8080/"
        },
        "id": "dMDoneus4bz6",
        "outputId": "fc6800e2-e797-405d-8f3c-b6c55ff37b74"
      },
      "outputs": [
        {
          "name": "stdout",
          "output_type": "stream",
          "text": [
            "Hello, World!\n"
          ]
        }
      ],
      "source": [
        "# the first command: saying hello to the world\n",
        "print('Hello, World!')"
      ]
    },
    {
      "cell_type": "code",
      "execution_count": null,
      "metadata": {
        "colab": {
          "base_uri": "https://localhost:8080/"
        },
        "id": "jEOiLydn4OBy",
        "outputId": "c68bf0c4-9fbb-47c3-8623-86699646c68a"
      },
      "outputs": [
        {
          "name": "stdout",
          "output_type": "stream",
          "text": [
            "Hello, Ishmael\n"
          ]
        }
      ],
      "source": [
        "# saying hello to particular people\n",
        "print('Hello, Ishmael')"
      ]
    },
    {
      "cell_type": "code",
      "execution_count": null,
      "metadata": {
        "id": "-gwXFAnI31ez"
      },
      "outputs": [],
      "source": [
        "# say hello to yourself here:\n",
        "# @todo: type it in exactly as above\n",
        "\n"
      ]
    },
    {
      "cell_type": "code",
      "execution_count": null,
      "metadata": {
        "id": "a1ocKDgaCh5r"
      },
      "outputs": [],
      "source": [
        "# what about greeting a person in a different language?\n",
        "# try it!\n",
        "\n"
      ]
    },
    {
      "cell_type": "code",
      "execution_count": null,
      "metadata": {
        "id": "uopV4qED3UJP"
      },
      "outputs": [],
      "source": [
        "# What about at a particular time?\n",
        "# try it!\n",
        "\n"
      ]
    },
    {
      "cell_type": "markdown",
      "metadata": {
        "id": "wFjU4u5x2gb2"
      },
      "source": [
        "#### Level 2: Abstracting the person greeted\n",
        "\n",
        "What's involved in the abstract process of greeting someone? What *repeated* above that we can formalize?"
      ]
    },
    {
      "cell_type": "code",
      "execution_count": null,
      "metadata": {
        "id": "MbyP1g603ORS"
      },
      "outputs": [],
      "source": [
        "def greet(x):\n",
        "    print(f'Hello, {x}!')"
      ]
    },
    {
      "cell_type": "code",
      "execution_count": null,
      "metadata": {
        "colab": {
          "base_uri": "https://localhost:8080/"
        },
        "id": "rv9e5AQz6DE9",
        "outputId": "dae9c311-d9ed-4e7d-c127-579cf1f28b71"
      },
      "outputs": [
        {
          "name": "stdout",
          "output_type": "stream",
          "text": [
            "Hello, World!\n"
          ]
        }
      ],
      "source": [
        "greet('World')"
      ]
    },
    {
      "cell_type": "code",
      "execution_count": null,
      "metadata": {
        "colab": {
          "base_uri": "https://localhost:8080/"
        },
        "id": "NLZciXga2nvh",
        "outputId": "8f31a508-121f-4586-b902-6a0f0f59cebf"
      },
      "outputs": [
        {
          "name": "stdout",
          "output_type": "stream",
          "text": [
            "Hello, Ishmael!\n"
          ]
        }
      ],
      "source": [
        "greet('Ishmael')"
      ]
    },
    {
      "cell_type": "code",
      "execution_count": null,
      "metadata": {
        "id": "BEytVbBXBx93"
      },
      "outputs": [],
      "source": [
        "# Now greet yourself"
      ]
    },
    {
      "cell_type": "code",
      "execution_count": null,
      "metadata": {
        "id": "cT6MvJXxBzdq"
      },
      "outputs": [],
      "source": [
        "# Greet someone else"
      ]
    },
    {
      "cell_type": "markdown",
      "metadata": {
        "id": "LbBF1H_c2gCP"
      },
      "source": [
        "#### Level 3: Abstracting the greeting used"
      ]
    },
    {
      "cell_type": "code",
      "execution_count": null,
      "metadata": {
        "id": "L1zvnFe-2erQ"
      },
      "outputs": [],
      "source": [
        "def greet(person, greeting = 'Hello'):\n",
        "    print(f'{greeting}, {person}!')"
      ]
    },
    {
      "cell_type": "code",
      "execution_count": null,
      "metadata": {
        "colab": {
          "base_uri": "https://localhost:8080/"
        },
        "id": "49TfoPai6fPX",
        "outputId": "d4672a2b-287b-4b02-c15c-db472726b8bf"
      },
      "outputs": [
        {
          "name": "stdout",
          "output_type": "stream",
          "text": [
            "Hello, Ishmael!\n"
          ]
        }
      ],
      "source": [
        "greet(\"Ishmael\")"
      ]
    },
    {
      "cell_type": "code",
      "execution_count": null,
      "metadata": {
        "colab": {
          "base_uri": "https://localhost:8080/"
        },
        "id": "aBfI_9l0LqSI",
        "outputId": "142803ef-ca47-4183-cddc-2e533d9aabcd"
      },
      "outputs": [
        {
          "name": "stdout",
          "output_type": "stream",
          "text": [
            "Hello, Ishmael!\n"
          ]
        }
      ],
      "source": [
        "greet(person=\"Ishmael\")"
      ]
    },
    {
      "cell_type": "code",
      "execution_count": null,
      "metadata": {
        "colab": {
          "base_uri": "https://localhost:8080/"
        },
        "id": "bhuVctTO6g8b",
        "outputId": "f9560d33-2edd-4557-9a5e-8b25e37849b7"
      },
      "outputs": [
        {
          "name": "stdout",
          "output_type": "stream",
          "text": [
            "Good morning, Ishmael!\n"
          ]
        }
      ],
      "source": [
        "greet(person=\"Ishmael\", greeting=\"Good morning\")"
      ]
    },
    {
      "cell_type": "code",
      "execution_count": null,
      "metadata": {
        "id": "RYd21q0i6k81"
      },
      "outputs": [],
      "source": [
        "def greet_by_the_hour(person, utc_offset=-5):\n",
        "    # get the hour\n",
        "    import datetime\n",
        "    hour = datetime.datetime.now().hour + utc_offset\n",
        "\n",
        "    # if morning?\n",
        "    if hour < 12:\n",
        "        greeting = \"Good morning\"\n",
        "    elif hour < 17:\n",
        "        greeting = \"Good afternoon\"\n",
        "    elif hour < 21:\n",
        "        greeting = \"Good night\"\n",
        "    \n",
        "    return greet(person, greeting)\n"
      ]
    },
    {
      "cell_type": "code",
      "execution_count": null,
      "metadata": {
        "colab": {
          "base_uri": "https://localhost:8080/"
        },
        "id": "td2-E40R7KZ-",
        "outputId": "e172488d-2180-46b6-82c7-51d4386c603d"
      },
      "outputs": [
        {
          "name": "stdout",
          "output_type": "stream",
          "text": [
            "Good afternoon, Ishmael!\n"
          ]
        }
      ],
      "source": [
        "greet_by_the_hour('Ishmael')"
      ]
    },
    {
      "cell_type": "markdown",
      "metadata": {
        "id": "iOx7AYK1aI3s"
      },
      "source": [
        "### Language functions\n",
        "\n",
        "\n",
        "#### Pig-latin?\n",
        "\n",
        "* pig latin -> igpay atinlay\n",
        "* simple -> implesay\n",
        "* smile -> ilesmay"
      ]
    },
    {
      "cell_type": "code",
      "execution_count": null,
      "metadata": {
        "id": "9G-0yRC9aLDV"
      },
      "outputs": [],
      "source": [
        "def to_pig_latin(english_word):\n",
        "  # find first consonants\n",
        "  \n",
        "  # put consonants at end of word\n",
        "\n",
        "  # add final vowel\n",
        "\n",
        "  # return finished word\n",
        "  pass"
      ]
    },
    {
      "cell_type": "code",
      "execution_count": null,
      "metadata": {
        "id": "Kru-luXderzC"
      },
      "outputs": [],
      "source": [
        "def find_first_consonants(word, vowels = {'a','e','i','o','u'}):\n",
        "    \"\"\"\n",
        "    A function which finds the first consonants of any word.\n",
        "    Give it the input `word`, return the first few consonant letters (if any).\n",
        "\n",
        "    For example:\n",
        "    * \"pig\" -> \"p\"\n",
        "    * \"smile\" -> \"sm\"\n",
        "    \"\"\"\n",
        "\n",
        "    # start an empty \"string\" of letters\n",
        "    first_consonants = ''\n",
        "\n",
        "    # for each letter in the word we were given...\n",
        "    for letter in word:\n",
        "\n",
        "        # if this letter is a vowel...\n",
        "        if letter in vowels:\n",
        "            # stop the loop! we've gone too far!\n",
        "            break\n",
        "\n",
        "        # otherwise, it's a consonant\n",
        "        else: \n",
        "            # add this consonant to string above\n",
        "            first_consonants += letter\n",
        "\n",
        "    # return back the string of consonants\n",
        "    return first_consonants"
      ]
    },
    {
      "cell_type": "code",
      "execution_count": null,
      "metadata": {
        "colab": {
          "base_uri": "https://localhost:8080/",
          "height": 35
        },
        "id": "iu56TLVVg46P",
        "outputId": "0445128e-6198-40e1-a918-ffa304ad3420"
      },
      "outputs": [
        {
          "data": {
            "application/vnd.google.colaboratory.intrinsic+json": {
              "type": "string"
            },
            "text/plain": [
              "'p'"
            ]
          },
          "execution_count": 4,
          "metadata": {},
          "output_type": "execute_result"
        }
      ],
      "source": [
        "# Is this \"p\"?\n",
        "find_first_consonants('pig')"
      ]
    },
    {
      "cell_type": "code",
      "execution_count": null,
      "metadata": {
        "colab": {
          "base_uri": "https://localhost:8080/",
          "height": 35
        },
        "id": "L5_9uMjJhPA5",
        "outputId": "1ec3e482-1e26-4ce7-8961-f53f1a2f4a8b"
      },
      "outputs": [
        {
          "data": {
            "application/vnd.google.colaboratory.intrinsic+json": {
              "type": "string"
            },
            "text/plain": [
              "'sm'"
            ]
          },
          "execution_count": 5,
          "metadata": {},
          "output_type": "execute_result"
        }
      ],
      "source": [
        "# Is this \"sm\"?\n",
        "find_first_consonants('smile')"
      ]
    },
    {
      "cell_type": "code",
      "execution_count": null,
      "metadata": {
        "colab": {
          "base_uri": "https://localhost:8080/",
          "height": 35
        },
        "id": "dtQqKyoLhWBY",
        "outputId": "de3ab18c-04c9-41e1-af91-27872256d089"
      },
      "outputs": [
        {
          "data": {
            "application/vnd.google.colaboratory.intrinsic+json": {
              "type": "string"
            },
            "text/plain": [
              "''"
            ]
          },
          "execution_count": 6,
          "metadata": {},
          "output_type": "execute_result"
        }
      ],
      "source": [
        "# Is this... empty?\n",
        "find_first_consonants('energy')"
      ]
    },
    {
      "cell_type": "code",
      "execution_count": null,
      "metadata": {
        "id": "t7g6XRpeer6x"
      },
      "outputs": [],
      "source": [
        "# Let's make a bunch of assertions that OUGHT to be true!\n",
        "# if any of them break, we'll know to fix the function\n",
        "\n",
        "assert find_first_consonants('pig') == 'p'\n",
        "assert find_first_consonants('smile') == 'sm'\n",
        "assert find_first_consonants('joke') == 'j'\n",
        "assert find_first_consonants('energy') == ''\n",
        "assert find_first_consonants('yellow') == 'y'"
      ]
    },
    {
      "cell_type": "code",
      "execution_count": null,
      "metadata": {
        "id": "9K7Id047hQ52"
      },
      "outputs": [],
      "source": []
    },
    {
      "cell_type": "code",
      "execution_count": null,
      "metadata": {
        "id": "W6xtQjm6fMB9"
      },
      "outputs": [],
      "source": []
    },
    {
      "cell_type": "code",
      "execution_count": null,
      "metadata": {
        "id": "LjIYClrLfQOi"
      },
      "outputs": [],
      "source": [
        "def to_pig_latin(word):\n",
        "  # find first consonants\n",
        "  first_consonants = find_first_consonants(word)\n",
        "\n",
        "  # move consonants to end of word\n",
        "  num_first_consonants = len(first_consonants)\n",
        "  word_without_first_consonants = word[num_first_consonants:]\n",
        "  word_with_first_consonants_moved_to_end = word_without_first_consonants + first_consonants\n",
        "\n",
        "  # add final vowel\n",
        "  word_with_first_consonants_moved_to_end_plus_final_vowel = word_with_first_consonants_moved_to_end + 'ay'\n",
        "\n",
        "  # return finished word\n",
        "  return word_with_first_consonants_moved_to_end_plus_final_vowel"
      ]
    },
    {
      "cell_type": "code",
      "execution_count": null,
      "metadata": {
        "colab": {
          "base_uri": "https://localhost:8080/",
          "height": 35
        },
        "id": "z_ptvzL2gBDc",
        "outputId": "0d4a3208-d5e7-4acf-e4e6-25413fd37faf"
      },
      "outputs": [
        {
          "data": {
            "application/vnd.google.colaboratory.intrinsic+json": {
              "type": "string"
            },
            "text/plain": [
              "'igpay'"
            ]
          },
          "execution_count": 38,
          "metadata": {},
          "output_type": "execute_result"
        }
      ],
      "source": [
        "to_pig_latin('pig')"
      ]
    },
    {
      "cell_type": "code",
      "execution_count": null,
      "metadata": {
        "colab": {
          "base_uri": "https://localhost:8080/",
          "height": 35
        },
        "id": "1Oe_bt9TgCZA",
        "outputId": "d736bb4b-feb2-4cbe-b4b8-878991753920"
      },
      "outputs": [
        {
          "data": {
            "application/vnd.google.colaboratory.intrinsic+json": {
              "type": "string"
            },
            "text/plain": [
              "'atinlay'"
            ]
          },
          "execution_count": 39,
          "metadata": {},
          "output_type": "execute_result"
        }
      ],
      "source": [
        "to_pig_latin('latin')"
      ]
    },
    {
      "cell_type": "code",
      "execution_count": null,
      "metadata": {
        "colab": {
          "base_uri": "https://localhost:8080/",
          "height": 35
        },
        "id": "-QJ3HEORgGjc",
        "outputId": "2bc3c210-c33e-45ec-f2e2-b52c91083269"
      },
      "outputs": [
        {
          "data": {
            "application/vnd.google.colaboratory.intrinsic+json": {
              "type": "string"
            },
            "text/plain": [
              "'ilesmay'"
            ]
          },
          "execution_count": 41,
          "metadata": {},
          "output_type": "execute_result"
        }
      ],
      "source": [
        "to_pig_latin('smile')"
      ]
    },
    {
      "cell_type": "code",
      "execution_count": null,
      "metadata": {
        "colab": {
          "base_uri": "https://localhost:8080/",
          "height": 35
        },
        "id": "gtccL9yxgH3C",
        "outputId": "fe96b936-0b04-4ef9-817f-413a32a44f15"
      },
      "outputs": [
        {
          "data": {
            "application/vnd.google.colaboratory.intrinsic+json": {
              "type": "string"
            },
            "text/plain": [
              "'implesay'"
            ]
          },
          "execution_count": 42,
          "metadata": {},
          "output_type": "execute_result"
        }
      ],
      "source": [
        "to_pig_latin('simple')"
      ]
    },
    {
      "cell_type": "markdown",
      "metadata": {
        "id": "4pXHtz5hZlE9"
      },
      "source": [
        "### Oulipo constraints\n",
        "\n",
        "\n",
        "#### S+7, sometimes called N+7\n",
        "Replace every noun in a text with the seventh noun after it in a dictionary. For example, \"Call me Ishmael. Some years ago...\" becomes \"Call me islander. Some yeggs ago...\". Results will vary depending upon the dictionary used. This technique can also be performed on other lexical classes, such as verbs.\n",
        "\n",
        "Draft:\n",
        "\n",
        "```python\n",
        "def oulipo_n7_constraint(text):\n",
        "    # 1) get list of nouns\n",
        "    all_nouns = get_list_of_nouns()\n",
        "\n",
        "    # 2) find nouns in this text\n",
        "    text_nouns = get_nouns_in_text(text)\n",
        "    \n",
        "    # 3) replace nouns with noun in list 7 nouns up\n",
        "    text_n7 = replace_nouns_in_text(text, text_nouns)\n",
        "\n",
        "    # 4) return back\n",
        "    return text_n7\n",
        "\n",
        "```"
      ]
    },
    {
      "cell_type": "code",
      "execution_count": null,
      "metadata": {
        "id": "iTILMUaeNGNH"
      },
      "outputs": [],
      "source": [
        "text = \"Call me Ishmael. Some years ago...\""
      ]
    },
    {
      "cell_type": "code",
      "execution_count": null,
      "metadata": {
        "id": "JY78M9mgGS73"
      },
      "outputs": [],
      "source": [
        "# Step 1. Getting list of nouns\n",
        "def get_list_of_nouns():\n",
        "    # cached already?\n",
        "    global cache_nouns\n",
        "    if cache_nouns: return cache_nouns\n",
        "    \n",
        "    # set url\n",
        "    url = 'https://raw.githubusercontent.com/Princeton-CDH/python-for-poets/main/data/nouns.txt'\n",
        "    \n",
        "    # download the url to a text string\n",
        "    text = requests.get(url).text\n",
        "\n",
        "    # split it by new lines\n",
        "    words = text.strip().split('\\n')\n",
        "\n",
        "    # sort\n",
        "    words.sort()\n",
        "\n",
        "    # add it to cache\n",
        "    cache_nouns = words\n",
        "\n",
        "    # return list of words\n",
        "    return words\n",
        "    "
      ]
    },
    {
      "cell_type": "code",
      "execution_count": null,
      "metadata": {
        "colab": {
          "base_uri": "https://localhost:8080/"
        },
        "id": "tyMUaO2bKq4B",
        "outputId": "81f5fac7-0ada-4f7a-a4fa-2a3fb91f453e"
      },
      "outputs": [
        {
          "data": {
            "text/plain": [
              "['a-bomb',\n",
              " 'a-hole',\n",
              " 'a-listers',\n",
              " 'a-team',\n",
              " 'aahs',\n",
              " 'aardvark',\n",
              " 'abacus',\n",
              " 'abalone',\n",
              " 'abandonment',\n",
              " 'abasement']"
            ]
          },
          "execution_count": 193,
          "metadata": {},
          "output_type": "execute_result"
        }
      ],
      "source": [
        "get_list_of_nouns()[:10]"
      ]
    },
    {
      "cell_type": "code",
      "execution_count": null,
      "metadata": {
        "colab": {
          "base_uri": "https://localhost:8080/"
        },
        "id": "Xtkl-E7yLSG2",
        "outputId": "0ce1c00b-63c3-4f0a-8534-65aba2ecae83"
      },
      "outputs": [
        {
          "data": {
            "text/plain": [
              "['zoroastrianism',\n",
              " 'zoroastrians',\n",
              " 'zoster',\n",
              " 'zoysia',\n",
              " 'zucchini',\n",
              " 'zucchinis',\n",
              " 'zulus',\n",
              " 'zydeco',\n",
              " 'zygote',\n",
              " 'zygotes']"
            ]
          },
          "execution_count": 194,
          "metadata": {},
          "output_type": "execute_result"
        }
      ],
      "source": [
        "get_list_of_nouns()[-10:]"
      ]
    },
    {
      "cell_type": "code",
      "execution_count": null,
      "metadata": {
        "id": "AjgWIGOnOVID"
      },
      "outputs": [],
      "source": [
        "def word_is_noun(w):\n",
        "    all_nouns = set(get_list_of_nouns())\n",
        "    return w.lower() in all_nouns"
      ]
    },
    {
      "cell_type": "code",
      "execution_count": null,
      "metadata": {
        "colab": {
          "base_uri": "https://localhost:8080/"
        },
        "id": "8iEe8BJPOcnQ",
        "outputId": "388f87bb-5fd2-4a10-c5b4-04c5730d8d35"
      },
      "outputs": [
        {
          "data": {
            "text/plain": [
              "True"
            ]
          },
          "execution_count": 225,
          "metadata": {},
          "output_type": "execute_result"
        }
      ],
      "source": [
        "word_is_noun('zygote')"
      ]
    },
    {
      "cell_type": "code",
      "execution_count": null,
      "metadata": {
        "colab": {
          "base_uri": "https://localhost:8080/"
        },
        "id": "1IqQACSKOeq7",
        "outputId": "e8364e30-ba32-4781-fa5d-0a9028512d35"
      },
      "outputs": [
        {
          "data": {
            "text/plain": [
              "True"
            ]
          },
          "execution_count": 226,
          "metadata": {},
          "output_type": "execute_result"
        }
      ],
      "source": [
        "word_is_noun('congress')"
      ]
    },
    {
      "cell_type": "code",
      "execution_count": null,
      "metadata": {
        "id": "njDVLtyaOlbD"
      },
      "outputs": [],
      "source": []
    },
    {
      "cell_type": "code",
      "execution_count": null,
      "metadata": {
        "colab": {
          "base_uri": "https://localhost:8080/"
        },
        "id": "LMrp4dggOjxw",
        "outputId": "9966819e-609b-4cd8-f9dc-468305ab501a"
      },
      "outputs": [
        {
          "data": {
            "text/plain": [
              "False"
            ]
          },
          "execution_count": 227,
          "metadata": {},
          "output_type": "execute_result"
        }
      ],
      "source": [
        "word_is_noun('congressional')"
      ]
    },
    {
      "cell_type": "code",
      "execution_count": null,
      "metadata": {
        "id": "F0vlKA1eGebO"
      },
      "outputs": [],
      "source": [
        "def word_n7(word):\n",
        "    word = word.lower()\n",
        "    noun_list = get_list_of_nouns()\n",
        "    if word in noun_list:\n",
        "        word_index = noun_list.index(word)\n",
        "        new_word_index = word_index+7\n",
        "        if new_word_index < len(noun_list):\n",
        "            return noun_list[new_word_index]"
      ]
    },
    {
      "cell_type": "code",
      "execution_count": null,
      "metadata": {
        "id": "p_aajM2JPJka"
      },
      "outputs": [],
      "source": [
        "word_n7('congressional')"
      ]
    },
    {
      "cell_type": "code",
      "execution_count": null,
      "metadata": {
        "colab": {
          "base_uri": "https://localhost:8080/",
          "height": 35
        },
        "id": "YoffXD4-PVKn",
        "outputId": "e6f5fb77-400c-4c4f-c12b-d0a161817c46"
      },
      "outputs": [
        {
          "data": {
            "application/vnd.google.colaboratory.intrinsic+json": {
              "type": "string"
            },
            "text/plain": [
              "'congresswoman'"
            ]
          },
          "execution_count": 230,
          "metadata": {},
          "output_type": "execute_result"
        }
      ],
      "source": [
        "word_n7('Congress')"
      ]
    },
    {
      "cell_type": "code",
      "execution_count": null,
      "metadata": {
        "id": "ZrAEVpWNO0fg"
      },
      "outputs": [],
      "source": [
        "word_n7('zygote')"
      ]
    },
    {
      "cell_type": "code",
      "execution_count": null,
      "metadata": {
        "id": "tNzuNN2GPSmF"
      },
      "outputs": [],
      "source": [
        "word_n7('ewrewrewr')"
      ]
    },
    {
      "cell_type": "code",
      "execution_count": null,
      "metadata": {
        "id": "sfMtNmgkMp6m"
      },
      "outputs": [],
      "source": [
        "def get_words_in_text(text):\n",
        "    words = nltk.word_tokenize(text)\n",
        "    return words"
      ]
    },
    {
      "cell_type": "code",
      "execution_count": null,
      "metadata": {
        "colab": {
          "base_uri": "https://localhost:8080/"
        },
        "id": "N_8JvlsQMmX2",
        "outputId": "f6b57d37-a609-421a-c791-39f2e18ed12e"
      },
      "outputs": [
        {
          "data": {
            "text/plain": [
              "['Call', 'me', 'Ishmael', '.', 'Some', 'years', 'ago', '...']"
            ]
          },
          "execution_count": 234,
          "metadata": {},
          "output_type": "execute_result"
        }
      ],
      "source": [
        "get_words_in_text(text)"
      ]
    },
    {
      "cell_type": "code",
      "execution_count": null,
      "metadata": {
        "id": "EIz6YcUANTGJ"
      },
      "outputs": [],
      "source": [
        "def replace_nouns_in_text(text):\n",
        "    # list of nouns\n",
        "    all_nouns = set(get_list_of_nouns())\n",
        "\n",
        "    # get words\n",
        "    words_orig = get_words_in_text(text)\n",
        "    words_new = []\n",
        "\n",
        "    for word in words_orig:\n",
        "        if word_is_noun(word):\n",
        "            word = word_n7(word)\n",
        "        words_new.append(word)\n",
        "\n",
        "    return untokenize(words_new)"
      ]
    },
    {
      "cell_type": "code",
      "execution_count": null,
      "metadata": {
        "colab": {
          "base_uri": "https://localhost:8080/"
        },
        "id": "5RPXYaROGu9M",
        "outputId": "798a74c0-c913-4049-b0c1-46bd0f1b7b87"
      },
      "outputs": [
        {
          "data": {
            "text/plain": [
              "('Call me Ishmael. Some years ago...',\n",
              " 'Call me islander. Some yellowfin ago...')"
            ]
          },
          "execution_count": 244,
          "metadata": {},
          "output_type": "execute_result"
        }
      ],
      "source": [
        "text, replace_nouns_in_text(text)"
      ]
    },
    {
      "cell_type": "markdown",
      "metadata": {
        "id": "c-ruiT6hZX04"
      },
      "source": [
        "\n",
        "#### Snowball, or a Rhopalism\n",
        "A poem in which each line is a single word, and each successive word is one letter longer.\n",
        "\n",
        "#### Stile\n",
        "A method wherein each “new” sentence in a paragraph stems from the last word or phrase in the previous sentence (e.g. “I descend the long ladder brings me to the ground floor is spacious…”). In this technique the sentences in a narrative continually overlap, often turning the grammatical object in a previous sentence into the grammatical subject of the next. The author may also pivot on an adverb, prepositional phrase, or other transitory moment.\n",
        "\n",
        "#### Lipogram\n",
        "Writing that excludes one or more letters. The previous sentence is a lipogram in B, F, J, K, Q, V, Y, and Z (it does not contain any of those letters).\n",
        "\n",
        "#### Prisoner's constraint, also called Macao constraint\n",
        "A type of lipogram that omits letters with ascenders and descenders (b, d, f, g, h, j, k, l, p, q, t, and y).\n",
        "\n",
        "#### Palindromes\n",
        "Sonnets and other poems constructed using palindromic techniques.\n",
        "\n",
        "#### Univocalism\n",
        "A poem using only one vowel letter. In English and some other languages the same vowel letter can represent different sounds, which means that, for example, \"born\" and \"cot\" could both be used in a univocalism. (Words with the same American English vowel sound but represented by different 'vowel' letters could not be used – e.g. \"blue\" and \"stew\".)\n",
        "\n",
        "#### Mathews' Algorithm\n",
        "Elements in a text are moved around by a set of predetermined rules"
      ]
    }
  ],
  "metadata": {
    "accelerator": "GPU",
    "colab": {
      "provenance": []
    },
    "gpuClass": "standard",
    "kernelspec": {
      "display_name": "Python 3",
      "language": "python",
      "name": "python3"
    },
    "language_info": {
      "codemirror_mode": {
        "name": "ipython",
        "version": 3
      },
      "file_extension": ".py",
      "mimetype": "text/x-python",
      "name": "python",
      "nbconvert_exporter": "python",
      "pygments_lexer": "ipython3",
      "version": "3.10.7"
    },
    "vscode": {
      "interpreter": {
        "hash": "fd885e6996c52258e06d7b41fb512c4cdccab3089eb52b609ad63de9ad6ede35"
      }
    }
  },
  "nbformat": 4,
  "nbformat_minor": 0
}
