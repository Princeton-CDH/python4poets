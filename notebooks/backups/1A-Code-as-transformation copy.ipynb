{
  "cells": [
    {
      "cell_type": "markdown",
      "metadata": {
        "id": "QwGAqecuZTUY"
      },
      "source": [
        "# Python for Poets"
      ]
    },
    {
      "cell_type": "code",
      "execution_count": 25,
      "metadata": {
        "colab": {
          "base_uri": "https://localhost:8080/"
        },
        "id": "8dfA4WbWM5OA",
        "outputId": "1dbd0f95-a1bd-4f3a-9f71-ded09df6570e"
      },
      "outputs": [],
      "source": [
        "%run ../python4poets.py"
      ]
    },
    {
      "cell_type": "markdown",
      "metadata": {
        "id": "BGUDwRPE38Af"
      },
      "source": [
        "## Poetics of programming"
      ]
    },
    {
      "cell_type": "markdown",
      "metadata": {},
      "source": []
    },
    {
      "attachments": {},
      "cell_type": "markdown",
      "metadata": {
        "id": "4pXHtz5hZlE9"
      },
      "source": [
        "### Oulipo constraints\n",
        "\n",
        "\n",
        "#### S+7, sometimes called N+7\n",
        "Replace every noun in a text with the seventh noun after it in a dictionary. For example, \"Call me Ishmael. Some years ago...\" becomes \"Call me islander. Some yeggs ago...\". Results will vary depending upon the dictionary used. This technique can also be performed on other lexical classes, such as verbs.\n",
        "\n",
        "Draft:\n",
        "\n",
        "```python\n",
        "def oulipo_n7_constraint(text):\n",
        "    # get a list of nouns\n",
        "    \n",
        "    # split text into words\n",
        "\n",
        "    # find which of these words are in the list of nouns\n",
        "\n",
        "    # replace those words with words 7 entries up\n",
        "    \n",
        "    # return replaced word\n",
        "\n",
        "```"
      ]
    },
    {
      "cell_type": "code",
      "execution_count": 26,
      "metadata": {
        "id": "iTILMUaeNGNH"
      },
      "outputs": [],
      "source": [
        "text = \"Call me Ishmael. Some years ago...\""
      ]
    },
    {
      "cell_type": "code",
      "execution_count": 28,
      "metadata": {},
      "outputs": [
        {
          "name": "stdout",
          "output_type": "stream",
          "text": [
            "['a-bomb', 'a-hole', 'a-listers', 'a-team', 'aahs', 'aardvark', 'abacus', 'abalone', 'abandonment', 'abasement']\n"
          ]
        }
      ],
      "source": [
        "# get a list of nouns\n",
        "list_of_nouns = get_list_of_nouns()\n",
        "\n",
        "print(list_of_nouns[:10])"
      ]
    },
    {
      "cell_type": "code",
      "execution_count": 29,
      "metadata": {},
      "outputs": [
        {
          "data": {
            "text/plain": [
              "['call', 'me', 'ishmael', '.', 'some', 'years', 'ago', '...']"
            ]
          },
          "execution_count": 29,
          "metadata": {},
          "output_type": "execute_result"
        }
      ],
      "source": [
        "# split text into words\n",
        "text_words = tokenize(text)\n",
        "text_words"
      ]
    },
    {
      "cell_type": "code",
      "execution_count": null,
      "metadata": {
        "id": "F0vlKA1eGebO"
      },
      "outputs": [],
      "source": []
    },
    {
      "cell_type": "code",
      "execution_count": null,
      "metadata": {
        "id": "p_aajM2JPJka"
      },
      "outputs": [],
      "source": [
        "word_n7('congressional')"
      ]
    },
    {
      "cell_type": "code",
      "execution_count": null,
      "metadata": {
        "colab": {
          "base_uri": "https://localhost:8080/",
          "height": 35
        },
        "id": "YoffXD4-PVKn",
        "outputId": "e6f5fb77-400c-4c4f-c12b-d0a161817c46"
      },
      "outputs": [
        {
          "data": {
            "application/vnd.google.colaboratory.intrinsic+json": {
              "type": "string"
            },
            "text/plain": [
              "'congresswoman'"
            ]
          },
          "execution_count": 230,
          "metadata": {},
          "output_type": "execute_result"
        }
      ],
      "source": [
        "word_n7('Congress')"
      ]
    },
    {
      "cell_type": "code",
      "execution_count": null,
      "metadata": {
        "id": "ZrAEVpWNO0fg"
      },
      "outputs": [],
      "source": [
        "word_n7('zygote')"
      ]
    },
    {
      "cell_type": "code",
      "execution_count": null,
      "metadata": {
        "id": "tNzuNN2GPSmF"
      },
      "outputs": [],
      "source": [
        "word_n7('ewrewrewr')"
      ]
    },
    {
      "cell_type": "code",
      "execution_count": null,
      "metadata": {
        "id": "sfMtNmgkMp6m"
      },
      "outputs": [],
      "source": [
        "def get_words_in_text(text):\n",
        "    words = nltk.word_tokenize(text)\n",
        "    return words"
      ]
    },
    {
      "cell_type": "code",
      "execution_count": null,
      "metadata": {
        "colab": {
          "base_uri": "https://localhost:8080/"
        },
        "id": "N_8JvlsQMmX2",
        "outputId": "f6b57d37-a609-421a-c791-39f2e18ed12e"
      },
      "outputs": [
        {
          "data": {
            "text/plain": [
              "['Call', 'me', 'Ishmael', '.', 'Some', 'years', 'ago', '...']"
            ]
          },
          "execution_count": 234,
          "metadata": {},
          "output_type": "execute_result"
        }
      ],
      "source": [
        "get_words_in_text(text)"
      ]
    },
    {
      "cell_type": "code",
      "execution_count": null,
      "metadata": {
        "id": "EIz6YcUANTGJ"
      },
      "outputs": [],
      "source": [
        "def replace_nouns_in_text(text):\n",
        "    # list of nouns\n",
        "    all_nouns = set(get_list_of_nouns())\n",
        "\n",
        "    # get words\n",
        "    words_orig = get_words_in_text(text)\n",
        "    words_new = []\n",
        "\n",
        "    for word in words_orig:\n",
        "        if word_is_noun(word):\n",
        "            word = word_n7(word)\n",
        "        words_new.append(word)\n",
        "\n",
        "    return untokenize(words_new)"
      ]
    },
    {
      "cell_type": "code",
      "execution_count": null,
      "metadata": {
        "colab": {
          "base_uri": "https://localhost:8080/"
        },
        "id": "5RPXYaROGu9M",
        "outputId": "798a74c0-c913-4049-b0c1-46bd0f1b7b87"
      },
      "outputs": [
        {
          "data": {
            "text/plain": [
              "('Call me Ishmael. Some years ago...',\n",
              " 'Call me islander. Some yellowfin ago...')"
            ]
          },
          "execution_count": 244,
          "metadata": {},
          "output_type": "execute_result"
        }
      ],
      "source": [
        "text, replace_nouns_in_text(text)"
      ]
    },
    {
      "cell_type": "markdown",
      "metadata": {
        "id": "c-ruiT6hZX04"
      },
      "source": [
        "\n",
        "#### Snowball, or a Rhopalism\n",
        "A poem in which each line is a single word, and each successive word is one letter longer.\n",
        "\n",
        "#### Stile\n",
        "A method wherein each “new” sentence in a paragraph stems from the last word or phrase in the previous sentence (e.g. “I descend the long ladder brings me to the ground floor is spacious…”). In this technique the sentences in a narrative continually overlap, often turning the grammatical object in a previous sentence into the grammatical subject of the next. The author may also pivot on an adverb, prepositional phrase, or other transitory moment.\n",
        "\n",
        "#### Lipogram\n",
        "Writing that excludes one or more letters. The previous sentence is a lipogram in B, F, J, K, Q, V, Y, and Z (it does not contain any of those letters).\n",
        "\n",
        "#### Prisoner's constraint, also called Macao constraint\n",
        "A type of lipogram that omits letters with ascenders and descenders (b, d, f, g, h, j, k, l, p, q, t, and y).\n",
        "\n",
        "#### Palindromes\n",
        "Sonnets and other poems constructed using palindromic techniques.\n",
        "\n",
        "#### Univocalism\n",
        "A poem using only one vowel letter. In English and some other languages the same vowel letter can represent different sounds, which means that, for example, \"born\" and \"cot\" could both be used in a univocalism. (Words with the same American English vowel sound but represented by different 'vowel' letters could not be used – e.g. \"blue\" and \"stew\".)\n",
        "\n",
        "#### Mathews' Algorithm\n",
        "Elements in a text are moved around by a set of predetermined rules"
      ]
    }
  ],
  "metadata": {
    "accelerator": "GPU",
    "colab": {
      "provenance": []
    },
    "gpuClass": "standard",
    "kernelspec": {
      "display_name": "venv",
      "language": "python",
      "name": "python3"
    },
    "language_info": {
      "codemirror_mode": {
        "name": "ipython",
        "version": 3
      },
      "file_extension": ".py",
      "mimetype": "text/x-python",
      "name": "python",
      "nbconvert_exporter": "python",
      "pygments_lexer": "ipython3",
      "version": "3.10.7"
    },
    "vscode": {
      "interpreter": {
        "hash": "c86a577c2ee3cd1756d92900367eba84168978c7d1ae96c257f3cab35f5d6e2a"
      }
    }
  },
  "nbformat": 4,
  "nbformat_minor": 0
}
