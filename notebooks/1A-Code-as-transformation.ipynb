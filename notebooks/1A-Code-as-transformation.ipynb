{
  "cells": [
    {
      "cell_type": "markdown",
      "metadata": {
        "id": "QwGAqecuZTUY"
      },
      "source": [
        "# Python for Poets"
      ]
    },
    {
      "cell_type": "code",
      "execution_count": 1,
      "metadata": {
        "colab": {
          "base_uri": "https://localhost:8080/"
        },
        "id": "8dfA4WbWM5OA",
        "outputId": "1dbd0f95-a1bd-4f3a-9f71-ded09df6570e"
      },
      "outputs": [],
      "source": [
        "# import sys; sys.path.insert(0,'..')\n",
        "# from python4poets import *\n",
        "import python4poets"
      ]
    },
    {
      "cell_type": "code",
      "execution_count": 2,
      "metadata": {},
      "outputs": [
        {
          "data": {
            "text/plain": [
              "'/Users/ryan/github/python4poets/python4poets/__init__.py'"
            ]
          },
          "execution_count": 2,
          "metadata": {},
          "output_type": "execute_result"
        }
      ],
      "source": [
        "python4poets.__file__"
      ]
    },
    {
      "cell_type": "markdown",
      "metadata": {
        "id": "BGUDwRPE38Af"
      },
      "source": [
        "## Poetics of programming"
      ]
    },
    {
      "attachments": {},
      "cell_type": "markdown",
      "metadata": {},
      "source": [
        "### Transformation"
      ]
    },
    {
      "cell_type": "markdown",
      "metadata": {},
      "source": []
    },
    {
      "cell_type": "code",
      "execution_count": 83,
      "metadata": {},
      "outputs": [],
      "source": [
        "austen = 'It is a truth universally acknowledged, that a single man in possession of a good fortune, must be in want of a wife.'\n",
        "potter = '''Harry had a thin face, knobbly knees, black hair and bright-green eyes. He wore round glasses held together with a lot of Sellotape because of all the times Dudley had punched him on the nose. The only thing Harry liked about his own appearance was a very thin scar on his forehead which was shaped like a bolt of lightning.'''"
      ]
    },
    {
      "cell_type": "code",
      "execution_count": 91,
      "metadata": {},
      "outputs": [],
      "source": [
        "def regender(text):\n",
        "    swap = {\n",
        "        'he':'she',\n",
        "        'He':'She',\n",
        "        'she':'he',\n",
        "        'She':'He',        \n",
        "        'him':'her',\n",
        "        'her':'him',\n",
        "        'his':'her',\n",
        "        'her':'his',\n",
        "        'man':'woman',\n",
        "        'woman':'man',\n",
        "        'husband':'wife',\n",
        "        'wife':'husband',\n",
        "        '???':'???', # ...\n",
        "    }\n",
        "    return swap_words(text, swap)"
      ]
    },
    {
      "cell_type": "code",
      "execution_count": 92,
      "metadata": {},
      "outputs": [
        {
          "data": {
            "text/plain": [
              "'Harry had a thin face, knobbly knees, black hair and bright-green eyes. She wore round glasses held together with a lot of Sellotape because of all the times Dudley had punched her on the nose. The only thing Harry liked about her own appearance was a very thin scar on her forehead which was shaped like a bolt of lightning.'"
            ]
          },
          "execution_count": 92,
          "metadata": {},
          "output_type": "execute_result"
        }
      ],
      "source": [
        "regender(potter)"
      ]
    },
    {
      "cell_type": "code",
      "execution_count": 93,
      "metadata": {},
      "outputs": [
        {
          "data": {
            "text/plain": [
              "'It is a truth universally acknowledged, that a single woman in possession of a good fortune, must be in want of a husband.'"
            ]
          },
          "execution_count": 93,
          "metadata": {},
          "output_type": "execute_result"
        }
      ],
      "source": [
        "regender(austen)"
      ]
    },
    {
      "cell_type": "code",
      "execution_count": 99,
      "metadata": {},
      "outputs": [],
      "source": [
        "def degender(text):\n",
        "    swap={\n",
        "        'he':'?',\n",
        "        'him':'?',\n",
        "        'his':'?',\n",
        "        'man':'?',\n",
        "        'husband':'?',\n",
        "        'wife':'?',\n",
        "        '?':'?',\n",
        "        '??':'??',\n",
        "    }\n",
        "    return swap_words(text, swap)"
      ]
    },
    {
      "cell_type": "code",
      "execution_count": 100,
      "metadata": {},
      "outputs": [
        {
          "data": {
            "text/plain": [
              "'Harry had a thin face, knobbly knees, black hair and bright-green eyes. He wore round glasses held together with a lot of Sellotape because of all the times Dudley had punched? on the nose. The only thing Harry liked about? own appearance was a very thin scar on? forehead which was shaped like a bolt of lightning.'"
            ]
          },
          "execution_count": 100,
          "metadata": {},
          "output_type": "execute_result"
        }
      ],
      "source": [
        "degender(potter)"
      ]
    },
    {
      "cell_type": "code",
      "execution_count": 114,
      "metadata": {},
      "outputs": [],
      "source": [
        "def problematize(text):\n",
        "    swap = {\n",
        "        'universally':'in some circumstances',\n",
        "        'truth':'position',\n",
        "        '??':'??',  # replace the ??'s here to continue\n",
        "        '??':'??',\n",
        "    }\n",
        "    return swap_words(text, swap)"
      ]
    },
    {
      "cell_type": "code",
      "execution_count": 115,
      "metadata": {},
      "outputs": [
        {
          "data": {
            "text/plain": [
              "'It is a position in some circumstances acknowledged, that a single man in possession of a good fortune, must be in want of a wife.'"
            ]
          },
          "execution_count": 115,
          "metadata": {},
          "output_type": "execute_result"
        }
      ],
      "source": [
        "problematize(austen)"
      ]
    },
    {
      "attachments": {},
      "cell_type": "markdown",
      "metadata": {
        "id": "4pXHtz5hZlE9"
      },
      "source": [
        "### Oulipo constraints\n",
        "\n",
        "\n",
        "#### S+7, sometimes called N+7\n",
        "Replace every noun in a text with the seventh noun after it in a dictionary. For example, \"Call me Ishmael. Some years ago...\" becomes \"Call me islander. Some yeggs ago...\". Results will vary depending upon the dictionary used. This technique can also be performed on other lexical classes, such as verbs.\n",
        "\n",
        "Draft:\n",
        "\n",
        "```python\n",
        "def oulipo_n7_constraint(text):\n",
        "    # get a list of nouns\n",
        "    \n",
        "    # split text into words\n",
        "\n",
        "    # find which of these words are in the list of nouns\n",
        "\n",
        "    # replace those words with words 7 entries up\n",
        "    \n",
        "    # return replaced word\n",
        "\n",
        "```"
      ]
    },
    {
      "cell_type": "code",
      "execution_count": 26,
      "metadata": {
        "id": "iTILMUaeNGNH"
      },
      "outputs": [],
      "source": [
        "text = \"Call me Ishmael. Some years ago...\""
      ]
    },
    {
      "cell_type": "code",
      "execution_count": 28,
      "metadata": {},
      "outputs": [
        {
          "name": "stdout",
          "output_type": "stream",
          "text": [
            "['a-bomb', 'a-hole', 'a-listers', 'a-team', 'aahs', 'aardvark', 'abacus', 'abalone', 'abandonment', 'abasement']\n"
          ]
        }
      ],
      "source": [
        "# get a list of nouns\n",
        "list_of_nouns = get_list_of_nouns()\n",
        "\n",
        "print(list_of_nouns[:10])"
      ]
    },
    {
      "cell_type": "code",
      "execution_count": 29,
      "metadata": {},
      "outputs": [
        {
          "data": {
            "text/plain": [
              "['call', 'me', 'ishmael', '.', 'some', 'years', 'ago', '...']"
            ]
          },
          "execution_count": 29,
          "metadata": {},
          "output_type": "execute_result"
        }
      ],
      "source": [
        "# split text into words\n",
        "text_words = tokenize(text)\n",
        "text_words"
      ]
    },
    {
      "cell_type": "code",
      "execution_count": 35,
      "metadata": {},
      "outputs": [
        {
          "name": "stdout",
          "output_type": "stream",
          "text": [
            "call\n",
            "me\n",
            "islander\n",
            ".\n",
            "some\n",
            "yellowfin\n",
            "ago\n",
            "...\n"
          ]
        }
      ],
      "source": [
        "for word in text_words:\n",
        "    if word in list_of_nouns:\n",
        "        word_index = list_of_nouns.index(word)\n",
        "        word = list_of_nouns[ word_index +7 ]\n",
        "    \n",
        "    print(word)\n"
      ]
    },
    {
      "cell_type": "code",
      "execution_count": 36,
      "metadata": {
        "id": "p_aajM2JPJka"
      },
      "outputs": [],
      "source": [
        "def oulipo_n7_constraint(text):\n",
        "    # get a list of nouns\n",
        "    list_of_nouns = get_list_of_nouns()\n",
        "    \n",
        "    # split text into words\n",
        "    text_words_input = tokenize(text)\n",
        "\n",
        "    # new output\n",
        "    text_words_output = []\n",
        "\n",
        "    for word in text_words_input:\n",
        "        \n",
        "        # overwrite word with new word?\n",
        "        if word in list_of_nouns:\n",
        "            word_index = list_of_nouns.index(word)\n",
        "            new_word = list_of_nouns[ word_index +7 ]\n",
        "        else:\n",
        "            new_word = word\n",
        "        \n",
        "        # add back\n",
        "        text_words_output.append(new_word)\n",
        "\n",
        "    return untokenize(text_words_output)\n",
        "    "
      ]
    },
    {
      "cell_type": "code",
      "execution_count": 38,
      "metadata": {
        "colab": {
          "base_uri": "https://localhost:8080/",
          "height": 35
        },
        "id": "YoffXD4-PVKn",
        "outputId": "e6f5fb77-400c-4c4f-c12b-d0a161817c46"
      },
      "outputs": [
        {
          "data": {
            "text/plain": [
              "'congresswoman is resuming its setbacks this afterthought'"
            ]
          },
          "execution_count": 38,
          "metadata": {},
          "output_type": "execute_result"
        }
      ],
      "source": [
        "oulipo_n7_constraint('congress is resuming its session this afternoon')"
      ]
    },
    {
      "cell_type": "markdown",
      "metadata": {
        "id": "c-ruiT6hZX04"
      },
      "source": [
        "\n",
        "#### Snowball, or a Rhopalism\n",
        "A poem in which each line is a single word, and each successive word is one letter longer.\n",
        "\n",
        "#### Stile\n",
        "A method wherein each “new” sentence in a paragraph stems from the last word or phrase in the previous sentence (e.g. “I descend the long ladder brings me to the ground floor is spacious…”). In this technique the sentences in a narrative continually overlap, often turning the grammatical object in a previous sentence into the grammatical subject of the next. The author may also pivot on an adverb, prepositional phrase, or other transitory moment.\n",
        "\n",
        "#### Lipogram\n",
        "Writing that excludes one or more letters. The previous sentence is a lipogram in B, F, J, K, Q, V, Y, and Z (it does not contain any of those letters).\n",
        "\n",
        "#### Prisoner's constraint, also called Macao constraint\n",
        "A type of lipogram that omits letters with ascenders and descenders (b, d, f, g, h, j, k, l, p, q, t, and y).\n",
        "\n",
        "#### Palindromes\n",
        "Sonnets and other poems constructed using palindromic techniques.\n",
        "\n",
        "#### Univocalism\n",
        "A poem using only one vowel letter. In English and some other languages the same vowel letter can represent different sounds, which means that, for example, \"born\" and \"cot\" could both be used in a univocalism. (Words with the same American English vowel sound but represented by different 'vowel' letters could not be used – e.g. \"blue\" and \"stew\".)\n",
        "\n",
        "#### Mathews' Algorithm\n",
        "Elements in a text are moved around by a set of predetermined rules"
      ]
    }
  ],
  "metadata": {
    "accelerator": "GPU",
    "colab": {
      "provenance": []
    },
    "gpuClass": "standard",
    "kernelspec": {
      "display_name": "venv",
      "language": "python",
      "name": "python3"
    },
    "language_info": {
      "codemirror_mode": {
        "name": "ipython",
        "version": 3
      },
      "file_extension": ".py",
      "mimetype": "text/x-python",
      "name": "python",
      "nbconvert_exporter": "python",
      "pygments_lexer": "ipython3",
      "version": "3.8.14 (default, Sep 27 2022, 10:48:18) \n[Clang 13.1.6 (clang-1316.0.21.2.5)]"
    },
    "vscode": {
      "interpreter": {
        "hash": "c86a577c2ee3cd1756d92900367eba84168978c7d1ae96c257f3cab35f5d6e2a"
      }
    }
  },
  "nbformat": 4,
  "nbformat_minor": 0
}
