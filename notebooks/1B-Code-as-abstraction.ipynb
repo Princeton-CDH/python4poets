{
  "cells": [
    {
      "cell_type": "markdown",
      "metadata": {
        "id": "QwGAqecuZTUY"
      },
      "source": [
        "# Python for Poets"
      ]
    },
    {
      "cell_type": "code",
      "execution_count": 1,
      "metadata": {
        "colab": {
          "base_uri": "https://localhost:8080/"
        },
        "id": "8dfA4WbWM5OA",
        "outputId": "1dbd0f95-a1bd-4f3a-9f71-ded09df6570e"
      },
      "outputs": [],
      "source": [
        "%run ../python4poets.py"
      ]
    },
    {
      "cell_type": "markdown",
      "metadata": {
        "id": "BGUDwRPE38Af"
      },
      "source": [
        "## Poetics of programming"
      ]
    },
    {
      "cell_type": "markdown",
      "metadata": {
        "id": "Zrcp-XuB2ivh"
      },
      "source": [
        "### Programming often means ascending the ladder of abstraction\n",
        "\n",
        "Take the act of greeting someone. We can think about that act concretely, like particular acts of greeting particular people at particular times and places. Or we can think about it abstractly, as the _process_ of greeting someone separate from any particular greetings."
      ]
    },
    {
      "cell_type": "markdown",
      "metadata": {
        "id": "owEEcAvP4X2S"
      },
      "source": [
        "#### Level 1: Concrete (\"hard coded\") greetings"
      ]
    },
    {
      "cell_type": "code",
      "execution_count": null,
      "metadata": {
        "colab": {
          "base_uri": "https://localhost:8080/"
        },
        "id": "dMDoneus4bz6",
        "outputId": "fc6800e2-e797-405d-8f3c-b6c55ff37b74"
      },
      "outputs": [
        {
          "name": "stdout",
          "output_type": "stream",
          "text": [
            "Hello, World!\n"
          ]
        }
      ],
      "source": [
        "# the first command: saying hello to the world\n",
        "print('Hello, World!')"
      ]
    },
    {
      "cell_type": "code",
      "execution_count": null,
      "metadata": {
        "colab": {
          "base_uri": "https://localhost:8080/"
        },
        "id": "jEOiLydn4OBy",
        "outputId": "c68bf0c4-9fbb-47c3-8623-86699646c68a"
      },
      "outputs": [
        {
          "name": "stdout",
          "output_type": "stream",
          "text": [
            "Hello, Ishmael\n"
          ]
        }
      ],
      "source": [
        "# saying hello to particular people\n",
        "print('Hello, Ishmael')"
      ]
    },
    {
      "cell_type": "code",
      "execution_count": null,
      "metadata": {
        "id": "-gwXFAnI31ez"
      },
      "outputs": [],
      "source": [
        "# say hello to yourself here:\n",
        "# @todo: type it in exactly as above\n",
        "\n"
      ]
    },
    {
      "cell_type": "code",
      "execution_count": null,
      "metadata": {
        "id": "a1ocKDgaCh5r"
      },
      "outputs": [],
      "source": [
        "# what about greeting a person in a different language?\n",
        "# try it!\n",
        "\n"
      ]
    },
    {
      "cell_type": "code",
      "execution_count": null,
      "metadata": {
        "id": "uopV4qED3UJP"
      },
      "outputs": [],
      "source": [
        "# What about at a particular time?\n",
        "# try it!\n",
        "\n"
      ]
    },
    {
      "cell_type": "markdown",
      "metadata": {
        "id": "wFjU4u5x2gb2"
      },
      "source": [
        "#### Level 2: Abstracting the person greeted\n",
        "\n",
        "What's involved in the abstract process of greeting someone? What *repeated* above that we can formalize?"
      ]
    },
    {
      "cell_type": "code",
      "execution_count": null,
      "metadata": {
        "id": "MbyP1g603ORS"
      },
      "outputs": [],
      "source": [
        "def greet(x):\n",
        "    print(f'Hello, {x}!')"
      ]
    },
    {
      "cell_type": "code",
      "execution_count": null,
      "metadata": {
        "colab": {
          "base_uri": "https://localhost:8080/"
        },
        "id": "rv9e5AQz6DE9",
        "outputId": "dae9c311-d9ed-4e7d-c127-579cf1f28b71"
      },
      "outputs": [
        {
          "name": "stdout",
          "output_type": "stream",
          "text": [
            "Hello, World!\n"
          ]
        }
      ],
      "source": [
        "greet('World')"
      ]
    },
    {
      "cell_type": "code",
      "execution_count": null,
      "metadata": {
        "colab": {
          "base_uri": "https://localhost:8080/"
        },
        "id": "NLZciXga2nvh",
        "outputId": "8f31a508-121f-4586-b902-6a0f0f59cebf"
      },
      "outputs": [
        {
          "name": "stdout",
          "output_type": "stream",
          "text": [
            "Hello, Ishmael!\n"
          ]
        }
      ],
      "source": [
        "greet('Ishmael')"
      ]
    },
    {
      "cell_type": "code",
      "execution_count": null,
      "metadata": {
        "id": "BEytVbBXBx93"
      },
      "outputs": [],
      "source": [
        "# Now greet yourself"
      ]
    },
    {
      "cell_type": "code",
      "execution_count": null,
      "metadata": {
        "id": "cT6MvJXxBzdq"
      },
      "outputs": [],
      "source": [
        "# Greet someone else"
      ]
    },
    {
      "cell_type": "markdown",
      "metadata": {
        "id": "LbBF1H_c2gCP"
      },
      "source": [
        "#### Level 3: Abstracting the greeting used"
      ]
    },
    {
      "cell_type": "code",
      "execution_count": null,
      "metadata": {
        "id": "L1zvnFe-2erQ"
      },
      "outputs": [],
      "source": [
        "def greet(person, greeting = 'Hello'):\n",
        "    print(f'{greeting}, {person}!')"
      ]
    },
    {
      "cell_type": "code",
      "execution_count": null,
      "metadata": {
        "colab": {
          "base_uri": "https://localhost:8080/"
        },
        "id": "49TfoPai6fPX",
        "outputId": "d4672a2b-287b-4b02-c15c-db472726b8bf"
      },
      "outputs": [
        {
          "name": "stdout",
          "output_type": "stream",
          "text": [
            "Hello, Ishmael!\n"
          ]
        }
      ],
      "source": [
        "greet(\"Ishmael\")"
      ]
    },
    {
      "cell_type": "code",
      "execution_count": null,
      "metadata": {
        "colab": {
          "base_uri": "https://localhost:8080/"
        },
        "id": "aBfI_9l0LqSI",
        "outputId": "142803ef-ca47-4183-cddc-2e533d9aabcd"
      },
      "outputs": [
        {
          "name": "stdout",
          "output_type": "stream",
          "text": [
            "Hello, Ishmael!\n"
          ]
        }
      ],
      "source": [
        "greet(person=\"Ishmael\")"
      ]
    },
    {
      "cell_type": "code",
      "execution_count": null,
      "metadata": {
        "colab": {
          "base_uri": "https://localhost:8080/"
        },
        "id": "bhuVctTO6g8b",
        "outputId": "f9560d33-2edd-4557-9a5e-8b25e37849b7"
      },
      "outputs": [
        {
          "name": "stdout",
          "output_type": "stream",
          "text": [
            "Good morning, Ishmael!\n"
          ]
        }
      ],
      "source": [
        "greet(person=\"Ishmael\", greeting=\"Good morning\")"
      ]
    },
    {
      "cell_type": "code",
      "execution_count": null,
      "metadata": {
        "id": "RYd21q0i6k81"
      },
      "outputs": [],
      "source": [
        "def greet_by_the_hour(person, utc_offset=-5):\n",
        "    # get the hour\n",
        "    import datetime\n",
        "    hour = datetime.datetime.now().hour + utc_offset\n",
        "\n",
        "    # if morning?\n",
        "    if hour < 12:\n",
        "        greeting = \"Good morning\"\n",
        "    elif hour < 17:\n",
        "        greeting = \"Good afternoon\"\n",
        "    elif hour < 21:\n",
        "        greeting = \"Good night\"\n",
        "    \n",
        "    return greet(person, greeting)\n"
      ]
    },
    {
      "cell_type": "code",
      "execution_count": null,
      "metadata": {
        "colab": {
          "base_uri": "https://localhost:8080/"
        },
        "id": "td2-E40R7KZ-",
        "outputId": "e172488d-2180-46b6-82c7-51d4386c603d"
      },
      "outputs": [
        {
          "name": "stdout",
          "output_type": "stream",
          "text": [
            "Good afternoon, Ishmael!\n"
          ]
        }
      ],
      "source": [
        "greet_by_the_hour('Ishmael')"
      ]
    }
  ],
  "metadata": {
    "accelerator": "GPU",
    "colab": {
      "provenance": []
    },
    "gpuClass": "standard",
    "kernelspec": {
      "display_name": "venv",
      "language": "python",
      "name": "python3"
    },
    "language_info": {
      "codemirror_mode": {
        "name": "ipython",
        "version": 3
      },
      "file_extension": ".py",
      "mimetype": "text/x-python",
      "name": "python",
      "nbconvert_exporter": "python",
      "pygments_lexer": "ipython3",
      "version": "3.8.14 (default, Sep 27 2022, 10:48:18) \n[Clang 13.1.6 (clang-1316.0.21.2.5)]"
    },
    "vscode": {
      "interpreter": {
        "hash": "c86a577c2ee3cd1756d92900367eba84168978c7d1ae96c257f3cab35f5d6e2a"
      }
    }
  },
  "nbformat": 4,
  "nbformat_minor": 0
}
