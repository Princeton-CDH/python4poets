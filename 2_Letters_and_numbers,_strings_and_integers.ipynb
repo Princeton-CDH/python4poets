{
  "nbformat": 4,
  "nbformat_minor": 0,
  "metadata": {
    "colab": {
      "provenance": [],
      "include_colab_link": true
    },
    "kernelspec": {
      "name": "python3",
      "display_name": "Python 3"
    },
    "language_info": {
      "name": "python"
    }
  },
  "cells": [
    {
      "cell_type": "markdown",
      "metadata": {
        "id": "view-in-github",
        "colab_type": "text"
      },
      "source": [
        "<a href=\"https://colab.research.google.com/github/Princeton-CDH/python4poets/blob/main/2_Letters_and_numbers%2C_strings_and_integers.ipynb\" target=\"_parent\"><img src=\"https://colab.research.google.com/assets/colab-badge.svg\" alt=\"Open In Colab\"/></a>"
      ]
    },
    {
      "cell_type": "markdown",
      "source": [
        "# **2 Data Types 1: on Letters and Numbers, or on Strings and Integers**\n",
        "\n"
      ],
      "metadata": {
        "id": "krvBF_HX6GRF"
      }
    },
    {
      "cell_type": "markdown",
      "source": [
        "## 2.1 Introduction\n",
        "\n",
        "This lesson, you'll learn about a few different **data types**. \n",
        "\n",
        " \n",
        "\n",
        "\n"
      ],
      "metadata": {
        "id": "aeeUpPpWSRdn"
      }
    },
    {
      "cell_type": "markdown",
      "source": [
        "###2.1.1 Overview -- why Data Types?\n",
        "\n",
        "Let's start with the obvious questions: \n",
        "\n",
        "What are data types? And why do they matter? Can't we do the cool stuff right away?\n",
        "\n",
        "The short answer: data types are important stuff that you just need to learn about if you want to program. Period. \n",
        "\n",
        "The longer answer goes as follows: A data type is a *specification* associated with some data, and it specifies how a computer system ought to interpret its value. Note tat there are *constraints* regarding the possible values that an expression could take; I promise you that you'll run into such constraints on a regular basis -- we'll get to some later."
      ],
      "metadata": {
        "id": "z5Y3-eTTT_-G"
      }
    },
    {
      "cell_type": "markdown",
      "source": [
        "###2.1.2 Data Types Examples\n",
        "\n",
        "Here are some examples of data types:\n",
        "\n",
        "| Data Type | Explanation | Examples | \n",
        "|-----------|:-----------|:-----------|\n",
        "|Integer|Whole Numbers| `1` `2` `3` `-1` `110` `-23` `99999999`|\n",
        "|Float|Decimal Numbers|`11.1` `9.12784` `-0.841` `10.0`|\n",
        "|String|Text|`\"This is a line of text.\"` `\"Caboozle\"`|\n",
        "|Boolean|either True or False | `True` `False`|\n",
        "|None|Null Value, no value at all|`None`|\n",
        "\n",
        "\n",
        "This may sound complicated, but you'll get used to some of these types relatively quickly. Others might take a little longer, but that's ok; also, there are more types, just to warn you. \n",
        "Below, we'll go into a bit more detail on different types. \n",
        "\n",
        "\n",
        "\n"
      ],
      "metadata": {
        "id": "icNDH-vbT5uN"
      }
    },
    {
      "cell_type": "markdown",
      "source": [
        "###2.1.3 Type Error\n",
        "\n",
        "Now, you might ask: why do these things have to be specified?\n",
        "\n",
        "Imagine the following scenario:\n",
        "\n",
        "\n",
        "> A friend asks you the following: \"What's larger, the product of `62 * 123` or `\"A Colony of Ants\"`?\"\n",
        "\n",
        "\n",
        "Sounds nonsensical, right? That's because it's essentially a `TypeError` (something you'll encounter A LOT), in which we put inappropriate data types together. \n",
        "\n",
        "Expressed in Python, a possible answer could be formulated as follows (if we assumed that the latter was larger):\n"
      ],
      "metadata": {
        "id": "XBHtGvaYTo4I"
      }
    },
    {
      "cell_type": "code",
      "source": [
        "62 * 123 < \"A Colony of Ants\""
      ],
      "metadata": {
        "colab": {
          "base_uri": "https://localhost:8080/",
          "height": 164
        },
        "id": "dIO5CVB4mf5w",
        "outputId": "ad61d999-a46a-466a-bd8f-ba0fd1dc4ffa"
      },
      "execution_count": null,
      "outputs": [
        {
          "output_type": "error",
          "ename": "TypeError",
          "evalue": "ignored",
          "traceback": [
            "\u001b[0;31m---------------------------------------------------------------------------\u001b[0m",
            "\u001b[0;31mTypeError\u001b[0m                                 Traceback (most recent call last)",
            "\u001b[0;32m<ipython-input-50-dad3583709b6>\u001b[0m in \u001b[0;36m<module>\u001b[0;34m\u001b[0m\n\u001b[0;32m----> 1\u001b[0;31m \u001b[0;36m62\u001b[0m \u001b[0;34m*\u001b[0m \u001b[0;36m123\u001b[0m \u001b[0;34m<\u001b[0m \u001b[0;34m\"A Colony of Ants\"\u001b[0m\u001b[0;34m\u001b[0m\u001b[0;34m\u001b[0m\u001b[0m\n\u001b[0m",
            "\u001b[0;31mTypeError\u001b[0m: '<' not supported between instances of 'int' and 'str'"
          ]
        }
      ]
    },
    {
      "cell_type": "markdown",
      "source": [
        "You'll notice an error message above. The `TypeError` you'll receive will explain *why* that error came up. In this instance, it's because there's different data types, and the `<` operator does not support a comparison between `int`, integers, and `str`, strings. \n",
        "\n",
        "So try to keep your data types proper. And that's why you need to know about types in the first place.\n",
        "\n",
        "> As a side note: Should you not understand the explanation provided in the error message, it's a good idea to search online for an explanation. Stack Overflow usually has you covered. \n",
        "\n",
        "\n",
        "So how can you check what data type a variable is? To make your life easier, Python has the built-in function `type()` for that:"
      ],
      "metadata": {
        "id": "N3ztxdyKk3NS"
      }
    },
    {
      "cell_type": "code",
      "source": [
        "x = 62 * 123\n",
        "type(x)"
      ],
      "metadata": {
        "colab": {
          "base_uri": "https://localhost:8080/"
        },
        "id": "9QEEsSSeSzxj",
        "outputId": "8b3ff05c-d436-40b8-a508-ef89dcfde7ff"
      },
      "execution_count": null,
      "outputs": [
        {
          "output_type": "execute_result",
          "data": {
            "text/plain": [
              "int"
            ]
          },
          "metadata": {},
          "execution_count": 33
        }
      ]
    },
    {
      "cell_type": "markdown",
      "source": [
        "So that returns the type of `x`, which here is `int`, an integer. Let's do the same for \"Caboozle\":"
      ],
      "metadata": {
        "id": "KmaLPJEITj2I"
      }
    },
    {
      "cell_type": "code",
      "source": [
        "type(\"A Colony of Ants\")"
      ],
      "metadata": {
        "colab": {
          "base_uri": "https://localhost:8080/"
        },
        "id": "FAuQuxKfT1qO",
        "outputId": "224b44f5-99a5-4255-8b55-2b3e4052aaeb"
      },
      "execution_count": null,
      "outputs": [
        {
          "output_type": "execute_result",
          "data": {
            "text/plain": [
              "str"
            ]
          },
          "metadata": {},
          "execution_count": 25
        }
      ]
    },
    {
      "cell_type": "markdown",
      "source": [
        "In other words, `\"A Colony of Ants\"` is a `'str'`, a string. We were hence asking our machine to compare an integer, `int`, to a string, `str`. But they're different, so we need to treat them differently.\n",
        "\n",
        "And if you're still confused about what was going on above, that's ok too -- we'll explain in more detail below."
      ],
      "metadata": {
        "id": "PNQoVvWPT_X_"
      }
    },
    {
      "cell_type": "markdown",
      "source": [
        "## **2.2 Numbers**\n",
        "\n",
        "The first category we'll learn about in more detail here actually has multiple different data types: numbers come not only as `int`, *integers* (whole numbers), but also as `float`, *floating point numbers* (decimal numbers). Plus, there's also `complex` *complex numbers* (but let's skip these here). We've all learned about numbers in school, right? So a lot of this will look familiar to you.\n",
        "\n",
        "So... let's solve the example above: Multiply 62 by 123, and print the result."
      ],
      "metadata": {
        "id": "0fuCS96u9Dgk"
      }
    },
    {
      "cell_type": "code",
      "execution_count": null,
      "metadata": {
        "id": "fAb9TSeHYAut"
      },
      "outputs": [],
      "source": [
        "print(62 * 123)"
      ]
    },
    {
      "cell_type": "markdown",
      "source": [
        "Straightforward, right? We're multiplying two `int` and get another `int` in return. What would you expect to happen in the following:"
      ],
      "metadata": {
        "id": "948tT26j96FF"
      }
    },
    {
      "cell_type": "code",
      "source": [
        "x = 1\n",
        "y = 3\n",
        "z = x / y\n",
        "type(z)"
      ],
      "metadata": {
        "colab": {
          "base_uri": "https://localhost:8080/"
        },
        "id": "ag5_EpCxRI1k",
        "outputId": "5f10aca3-fd64-4e23-f3d0-7d46d605896f"
      },
      "execution_count": null,
      "outputs": [
        {
          "output_type": "execute_result",
          "data": {
            "text/plain": [
              "float"
            ]
          },
          "metadata": {},
          "execution_count": 39
        }
      ]
    },
    {
      "cell_type": "code",
      "source": [
        "z * 2"
      ],
      "metadata": {
        "colab": {
          "base_uri": "https://localhost:8080/"
        },
        "id": "d6BvLHFxY0VP",
        "outputId": "5544b19e-d2fb-43fd-fd6e-af4b0501b46d"
      },
      "execution_count": null,
      "outputs": [
        {
          "output_type": "execute_result",
          "data": {
            "text/plain": [
              "0.6666666666666666"
            ]
          },
          "metadata": {},
          "execution_count": 49
        }
      ]
    },
    {
      "cell_type": "markdown",
      "source": [
        "That's right, you *can* mix the types `int` and `float`. If you need to convert them into one another -- for whatever reason -- Python again has built-in functions for that: `int()` and `float()`. Try it out!"
      ],
      "metadata": {
        "id": "BAthZDzOYe8P"
      }
    },
    {
      "cell_type": "code",
      "source": [
        "float(10)"
      ],
      "metadata": {
        "colab": {
          "base_uri": "https://localhost:8080/"
        },
        "id": "Yd3USBBdaAxY",
        "outputId": "cfa45ce3-97b8-4cba-b983-fcbea622f726"
      },
      "execution_count": null,
      "outputs": [
        {
          "output_type": "execute_result",
          "data": {
            "text/plain": [
              "10.0"
            ]
          },
          "metadata": {},
          "execution_count": 47
        }
      ]
    },
    {
      "cell_type": "markdown",
      "source": [
        "`float()` is straight-forward, right? `int()` is a little trickier:"
      ],
      "metadata": {
        "id": "1idQSiiwaEyJ"
      }
    },
    {
      "cell_type": "code",
      "source": [
        "int(4.0001)"
      ],
      "metadata": {
        "colab": {
          "base_uri": "https://localhost:8080/"
        },
        "id": "VSshYR8XZ0Hq",
        "outputId": "b2ebb890-0647-49f9-8d4d-d3995ae11bee"
      },
      "execution_count": null,
      "outputs": [
        {
          "output_type": "execute_result",
          "data": {
            "text/plain": [
              "4"
            ]
          },
          "metadata": {},
          "execution_count": 46
        }
      ]
    },
    {
      "cell_type": "code",
      "source": [
        "int(4.9999)"
      ],
      "metadata": {
        "colab": {
          "base_uri": "https://localhost:8080/"
        },
        "id": "_x-d6mqMZ8ZZ",
        "outputId": "703d5c79-78c5-43bd-df98-5e0061526085"
      },
      "execution_count": null,
      "outputs": [
        {
          "output_type": "execute_result",
          "data": {
            "text/plain": [
              "4"
            ]
          },
          "metadata": {},
          "execution_count": 45
        }
      ]
    },
    {
      "cell_type": "markdown",
      "source": [
        "There's a considerable loss of data here, so be careful! Remember our variable `z` above, which we happened to define as `0.3333333333333333`? Let's try the following:"
      ],
      "metadata": {
        "id": "jGHtBv0kaNAm"
      }
    },
    {
      "cell_type": "code",
      "source": [
        "int_z = int(z)\n",
        "float(int_z)"
      ],
      "metadata": {
        "colab": {
          "base_uri": "https://localhost:8080/"
        },
        "id": "ege5qkI5Zthz",
        "outputId": "3880ac72-5b55-40d2-a4f0-6df10c587277"
      },
      "execution_count": null,
      "outputs": [
        {
          "output_type": "execute_result",
          "data": {
            "text/plain": [
              "0.0"
            ]
          },
          "metadata": {},
          "execution_count": 48
        }
      ]
    },
    {
      "cell_type": "markdown",
      "source": [
        "For more on numbers, compare also Python's documentation on [Numeric Types](https://docs.python.org/3/library/stdtypes.html#numeric-types-int-float-complex). In general, Python's documentation is a great resource to read about specifics.\n"
      ],
      "metadata": {
        "id": "vPI-bPQ4WZog"
      }
    },
    {
      "cell_type": "markdown",
      "source": [
        "## **2.3 Strings**\n",
        "\n",
        "Let's get to the other example we encountered above -- `\"A Colony of Ants\"`, which was a `str`, a string. \n",
        "\n",
        "\n"
      ],
      "metadata": {
        "id": "nSExOkNEa-5i"
      }
    },
    {
      "cell_type": "markdown",
      "source": [
        "###2.3.1 How to form Strings\n",
        "\n",
        "A string is a data type in Python that is treated like text. It's enclosed by either single quotation marks (`'like this'`) or double quotation marks (`\"like this\"`). You could even use three quotation marks (`'''like this'''`).\n",
        "\n",
        "\n",
        "\n",
        "> But you **cannot** use a mix these!\n",
        "\n",
        "Try printing the strings (three lines from [a poem by Emily Dickinson](https://www.poetryfoundation.org/poems/44085/it-was-not-death-for-i-stood-up-355)) below:\n",
        "\n",
        "\n"
      ],
      "metadata": {
        "id": "PsPpDzRuU-YO"
      }
    },
    {
      "cell_type": "code",
      "source": [
        "print(\"It was not Death, for I stood up,\")\n",
        "print('And all the Dead, lie down -')\n",
        "print('''It was not Night, for all the Bells''')"
      ],
      "metadata": {
        "colab": {
          "base_uri": "https://localhost:8080/"
        },
        "id": "XK70gtUV7sn0",
        "outputId": "acc29a3f-637e-42b4-ab56-fae808c22f80"
      },
      "execution_count": null,
      "outputs": [
        {
          "output_type": "stream",
          "name": "stdout",
          "text": [
            "It was not Death, for I stood up,\n",
            "And all the Dead, lie down -\n",
            "It was not Night, for all the Bells\n"
          ]
        }
      ]
    },
    {
      "cell_type": "markdown",
      "source": [
        "###2.3.2 More on Quotation Marks\n",
        "\n",
        "Now, imagine you'd want to include quotation marks *as part of* the string. For example, you'd want to have a string displaying like this: `In an early poem, \"There’s a certain Slant of light, (320)\" Dickinson located meaning in a geography of \"internal difference.\"` (to take a sentence from the [Poetry Foundation on Dickinson's poetry](https://www.poetryfoundation.org/poets/emily-dickinson)). There's two ways to achieve this:\n",
        "\n",
        "*   Use one set of quotation marks to mark the `str`, a different one to mark the quotation therein;\n",
        "*   Use the backslash character `\\` before the quotation marks, which tells Python to *not* treat the next character like it usually would (like this: `\\\"There’s a certain Slant of light, (320)\\\"`)\n",
        "\n",
        "Try it, but read the syntax below carefully:"
      ],
      "metadata": {
        "id": "swonzdTK8MKs"
      }
    },
    {
      "cell_type": "code",
      "source": [
        "print('\"It was not Death, for I stood up, (355)\"')\n",
        "print(\"\\\"It was not Death, for I stood up, (355)\\\"\")"
      ],
      "metadata": {
        "colab": {
          "base_uri": "https://localhost:8080/"
        },
        "id": "_sSBo9Bx8Ocx",
        "outputId": "b941e0ae-50a6-4b47-ccf7-1c47c925f114"
      },
      "execution_count": null,
      "outputs": [
        {
          "output_type": "stream",
          "name": "stdout",
          "text": [
            "\"It was not Death, for I stood up, (355)\"\n",
            "\"It was not Death, for I stood up, (355)\"\n"
          ]
        }
      ]
    },
    {
      "cell_type": "markdown",
      "source": [
        "Now read the following line of code, and predict what will happen when you execute it:"
      ],
      "metadata": {
        "id": "ZjaqBfvmIOI4"
      }
    },
    {
      "cell_type": "code",
      "source": [
        "print(\"\\\"It was not Death, for I stood up, (355)\"\")"
      ],
      "metadata": {
        "colab": {
          "base_uri": "https://localhost:8080/",
          "height": 130
        },
        "id": "ztjdqswcIRAM",
        "outputId": "73ebe308-04bd-4098-bcdf-0a4e21c7336e"
      },
      "execution_count": null,
      "outputs": [
        {
          "output_type": "error",
          "ename": "SyntaxError",
          "evalue": "ignored",
          "traceback": [
            "\u001b[0;36m  File \u001b[0;32m\"<ipython-input-73-2e58b77964c2>\"\u001b[0;36m, line \u001b[0;32m1\u001b[0m\n\u001b[0;31m    print(\"\\\"It was not Death, for I stood up, (355)\"\")\u001b[0m\n\u001b[0m                                                       ^\u001b[0m\n\u001b[0;31mSyntaxError\u001b[0m\u001b[0;31m:\u001b[0m EOL while scanning string literal\n"
          ]
        }
      ]
    },
    {
      "cell_type": "markdown",
      "source": [
        "∇  *Do you know what went wrong there?*\n",
        "\n",
        "\n",
        "Now imagine you wanted to include *both* single and double quotation marks in a string, as in a statement like this: `The word 'Yes' does not occur in \"It was not Death, for I stood up, (355)\"`.\n",
        "\n",
        "∇  *How would you do that? Try it in the line of code below.*\n"
      ],
      "metadata": {
        "id": "Tg6PzrysIi8a"
      }
    },
    {
      "cell_type": "code",
      "source": [
        "print(The word 'Yes' does not occur in \"It was not Death, for I stood up, (355)\")"
      ],
      "metadata": {
        "colab": {
          "base_uri": "https://localhost:8080/",
          "height": 130
        },
        "id": "9RLKsOC0I57K",
        "outputId": "a86b0828-84f5-41b8-84e3-7872b761c5b7"
      },
      "execution_count": null,
      "outputs": [
        {
          "output_type": "error",
          "ename": "SyntaxError",
          "evalue": "ignored",
          "traceback": [
            "\u001b[0;36m  File \u001b[0;32m\"<ipython-input-6-f732573bb1af>\"\u001b[0;36m, line \u001b[0;32m1\u001b[0m\n\u001b[0;31m    print(The word 'Yes' does not occur in \"It was not Death, for I stood up, (355)\")\u001b[0m\n\u001b[0m              ^\u001b[0m\n\u001b[0;31mSyntaxError\u001b[0m\u001b[0;31m:\u001b[0m invalid syntax\n"
          ]
        }
      ]
    },
    {
      "cell_type": "markdown",
      "source": [
        "Let's go back to the overall poem, and put in the next line:"
      ],
      "metadata": {
        "id": "U_63S_tWKLRf"
      }
    },
    {
      "cell_type": "code",
      "source": [
        "print(\"Put out their Tongues, for Noon.')"
      ],
      "metadata": {
        "id": "feB62uP2D4I5"
      },
      "execution_count": null,
      "outputs": []
    },
    {
      "cell_type": "markdown",
      "source": [
        "Hold up, something went wrong there! \n",
        "\n",
        "∇ *Can you spot the issue?*\n",
        "\n",
        "As always, the error message can help you -- for more on these, compare the Python documentation on [Errors and Exceptions](https://docs.python.org/3/tutorial/errors.html), where you'll find the following description on `SyntaxError`:\n",
        "\n",
        "\n",
        "> Syntax errors, also known as parsing errors, are perhaps the most common kind of complaint you get while you are still learning Python (...)\n",
        "> \n",
        "> (...) The parser repeats the offending line and displays a little ‘arrow’ pointing at the earliest point in the line where the error was detected. The error is caused by (or at least detected at) the token preceding the arrow (...)\n",
        "\n",
        "∇  *So what does the little 'arrow' point out in the example above?*\n",
        "\n",
        "\n"
      ],
      "metadata": {
        "id": "VipJQ2Sd8SWk"
      }
    },
    {
      "cell_type": "markdown",
      "source": [
        "###2.3.3 Combining Strings\n",
        "\n",
        "Ok, so let's redo it. But this time, let's assign variable names to each line:"
      ],
      "metadata": {
        "id": "P22u7SkFVgqJ"
      }
    },
    {
      "cell_type": "code",
      "source": [
        "line1 = \"It was not Death, for I stood up,\"\n",
        "line2 = 'And all the Dead, lie down -'\n",
        "line3 = '''It was not Night, for all the Bells'''\n",
        "line4 = \"Put out their Tongues, for Noon.\""
      ],
      "metadata": {
        "id": "C3fAVxQ3KUqe"
      },
      "execution_count": null,
      "outputs": []
    },
    {
      "cell_type": "markdown",
      "source": [
        "And let's put that all together:"
      ],
      "metadata": {
        "id": "3kOqc4eLLNIT"
      }
    },
    {
      "cell_type": "code",
      "source": [
        "stanza1 = line1 + line2 + line3 + line4\n",
        "print(stanza1)"
      ],
      "metadata": {
        "colab": {
          "base_uri": "https://localhost:8080/"
        },
        "id": "7SHFzZcoLMkh",
        "outputId": "9607e807-ff6e-4c7b-e031-c6da38df7fe3"
      },
      "execution_count": null,
      "outputs": [
        {
          "output_type": "stream",
          "name": "stdout",
          "text": [
            "It was not Death, for I stood up,And all the Dead, lie down -It was not Night, for all the BellsPut out their Tongues, for Noon.\n"
          ]
        }
      ]
    },
    {
      "cell_type": "markdown",
      "source": [
        "That looks... not quite right! \n",
        "\n",
        "∇ *Can you fathom why it all ended up in one long line?*\n",
        "\n"
      ],
      "metadata": {
        "id": "aTrMkH7aLcgg"
      }
    },
    {
      "cell_type": "markdown",
      "source": [
        "###2.3.4 Newline \n",
        "\n",
        "Let's try to fix it:"
      ],
      "metadata": {
        "id": "EgHGZfJFVqE5"
      }
    },
    {
      "cell_type": "code",
      "source": [
        "new_line = \"\\n\"\n",
        "stanza1 = line1 + new_line + line2 + new_line + line3 + new_line + line4\n",
        "print(stanza1)"
      ],
      "metadata": {
        "colab": {
          "base_uri": "https://localhost:8080/"
        },
        "id": "LVLvspHhL2WP",
        "outputId": "9ef5efcf-a3fa-4453-f5eb-028a17a778c3"
      },
      "execution_count": null,
      "outputs": [
        {
          "output_type": "stream",
          "name": "stdout",
          "text": [
            "It was not Death, for I stood up,\n",
            "And all the Dead, lie down -\n",
            "It was not Night, for all the Bells\n",
            "Put out their Tongues, for Noon.\n"
          ]
        }
      ]
    },
    {
      "cell_type": "markdown",
      "source": [
        "`\\n` is the new line character and denote a new line within a string. So that did the trick! Now let's collect all the other stanzas:"
      ],
      "metadata": {
        "id": "_t8uSIVpMM9b"
      }
    },
    {
      "cell_type": "code",
      "source": [
        "stanza2 = \"\\n\\nAnd yet, it tasted, like them all,\\nThe Figures I have seen\\nSet orderly, for Burial\\nReminded me, of mine -\"\n",
        "\n",
        "stanza3 = \"\\n\\nAs if my life were shaven,\\nAnd fitted to a frame,\\nAnd could not breathe without a key,\\nAnd ’twas like Midnight, some -\"\n",
        "\n",
        "stanza4 = \"\\n\\nWhen everything that ticked - has stopped -\\nAnd space stares - all around -\\nOr Grisly frosts - first Autumn morns,\\nRepeal the Beating Ground -\"\n",
        "\n",
        "stanza5 = \"\\n\\nBut most, like Chaos - Stopless - cool -\\nWithout a Chance, or spar -\\nOr even a Report of Land -\\nTo justify - Despair.\"\n",
        "\n",
        "poem1 = stanza1 + stanza2 + stanza3 + stanza4 + stanza5\n",
        "\n",
        "print(poem1)"
      ],
      "metadata": {
        "colab": {
          "base_uri": "https://localhost:8080/"
        },
        "id": "ktIWuvxPMcCc",
        "outputId": "3571bdba-91c3-45ed-bd16-b38433458144"
      },
      "execution_count": null,
      "outputs": [
        {
          "output_type": "stream",
          "name": "stdout",
          "text": [
            "It was not Death, for I stood up,\n",
            "And all the Dead, lie down -\n",
            "It was not Night, for all the Bells\n",
            "Put out their Tongues, for Noon.\n",
            "\n",
            "And yet, it tasted, like them all,\n",
            "The Figures I have seen\n",
            "Set orderly, for Burial\n",
            "Reminded me, of mine -\n",
            "\n",
            "As if my life were shaven,\n",
            "And fitted to a frame,\n",
            "And could not breathe without a key,\n",
            "And ’twas like Midnight, some -\n",
            "\n",
            "When everything that ticked - has stopped -\n",
            "And space stares - all around -\n",
            "Or Grisly frosts - first Autumn morns,\n",
            "Repeal the Beating Ground -\n",
            "\n",
            "But most, like Chaos - Stopless - cool -\n",
            "Without a Chance, or spar -\n",
            "Or even a Report of Land -\n",
            "To justify - Despair.\n"
          ]
        }
      ]
    },
    {
      "cell_type": "markdown",
      "source": [
        "###2.3.5 Back to `romeo` and `juliet`\n",
        "\n",
        "You might have noticed that *everything* between the quotation marks is therefore a `str`. Like, really, everything. Remember Romeo and Juliet, the variables from lesson one? That's right, they were each also just a `str`."
      ],
      "metadata": {
        "id": "bmaZMLeGL0kY"
      }
    },
    {
      "cell_type": "code",
      "source": [
        "juliet=r\"\"\"\n",
        "            ________________________\n",
        "         ///\\\\//\\\\//\\\\//\\\\//\\\\//\\\\/\\\\\\\n",
        "       //\\{}//\\\\//\\\\//\\\\//\\\\//\\\\//{}/\\\\\n",
        "      ///&%&%&%&/~~~~~~~~~~~~\\&%&%&%&\\\\\\\n",
        "      ||&%&%&_.'              '._&%&%&||\n",
        "      ||&%'''                o~  '''%&||\n",
        "      ||&%&                  /`\\   &%&||\n",
        "      ||&%&                  [ /%\\ &%&||\n",
        "      ||&%&                  [_|_\\_&%&||\n",
        "\"\"\"\n",
        "romeo=r\"\"\"\n",
        "      ||&%&            c           &%&||\n",
        "      ||&%&           <)\\/         &%&||\n",
        "      ||&%&            /\\          &%&||\n",
        "ejm97 ||&%&&          / /         &&%&||\n",
        "______||&%&&&====================&&&%&||______\n",
        "\"\"\""
      ],
      "metadata": {
        "id": "eN_lPNI8LzaF"
      },
      "execution_count": null,
      "outputs": []
    },
    {
      "cell_type": "markdown",
      "source": [
        "While perhaps an particular type of `str` to the human eye, `romeo` and `juliet` do not differ much from other strings.\n",
        "\n",
        "> The prefix `r` marks the content of the following quotation marks as [raw strings](https://docs.python.org/2/reference/lexical_analysis.html#string-literals). The backslash `\\` is hence just treated as a character itself.\n",
        "\n"
      ],
      "metadata": {
        "id": "BT6h4SxsMAAd"
      }
    },
    {
      "cell_type": "markdown",
      "source": [
        "###2.3.6 The `==` Condition\n",
        "\n",
        "We have thus defined `romeo` and `juliet` as strings. In this sense, `romeo` and `juliet` are one of a kind! Compare `romeo` and `juliet`, using both the function `type()` and the comparison operation `==` (which checks that the variables in question are equal):"
      ],
      "metadata": {
        "id": "atseWL5-WgzD"
      }
    },
    {
      "cell_type": "code",
      "source": [
        "type(juliet) == type(romeo)"
      ],
      "metadata": {
        "colab": {
          "base_uri": "https://localhost:8080/"
        },
        "id": "J3WgXGZ7MaH9",
        "outputId": "1c7072a1-6caf-4db5-d392-e48a49cfb5e5"
      },
      "execution_count": null,
      "outputs": [
        {
          "output_type": "execute_result",
          "data": {
            "text/plain": [
              "True"
            ]
          },
          "metadata": {},
          "execution_count": 9
        }
      ]
    },
    {
      "cell_type": "markdown",
      "source": [
        "Try also the following:"
      ],
      "metadata": {
        "id": "ouxfPz9FBEwD"
      }
    },
    {
      "cell_type": "code",
      "source": [
        "type(romeo) == type(\"A string\") == type('\"\"') == type('''3''') == type('-0.052') == type(\"+\") == type(\"True\") == type(\"None\")"
      ],
      "metadata": {
        "colab": {
          "base_uri": "https://localhost:8080/"
        },
        "id": "m0UEZctX_oxK",
        "outputId": "ac9dd8ec-e82d-4bb9-bb60-84da8876eddd"
      },
      "execution_count": null,
      "outputs": [
        {
          "output_type": "execute_result",
          "data": {
            "text/plain": [
              "True"
            ]
          },
          "metadata": {},
          "execution_count": 10
        }
      ]
    },
    {
      "cell_type": "markdown",
      "source": [
        "∇  *Can you parse the above statement? Why does it return that value?*\n",
        "\n",
        "Also try the following:"
      ],
      "metadata": {
        "id": "ZUuH1_GrD419"
      }
    },
    {
      "cell_type": "code",
      "source": [
        "type(\"Hello World!\") == type(3)"
      ],
      "metadata": {
        "colab": {
          "base_uri": "https://localhost:8080/"
        },
        "id": "azKK1qh3EdKW",
        "outputId": "d5c10b67-5976-47ac-9f2b-17d07d1e543a"
      },
      "execution_count": null,
      "outputs": [
        {
          "output_type": "execute_result",
          "data": {
            "text/plain": [
              "False"
            ]
          },
          "metadata": {},
          "execution_count": 7
        }
      ]
    },
    {
      "cell_type": "markdown",
      "source": [
        "∇  *What do you think that means, and why did it return that value?*"
      ],
      "metadata": {
        "id": "sT9h9CfXE_21"
      }
    },
    {
      "cell_type": "markdown",
      "source": [
        "###2.3.7 Slicing \n",
        "\n",
        "You can also do other neat things with a `str`. For example, you can return the *first* character of a given string as follows (and let's draw on our poem from above):"
      ],
      "metadata": {
        "id": "vhXdIiQFO1H7"
      }
    },
    {
      "cell_type": "code",
      "source": [
        "poem1[0]"
      ],
      "metadata": {
        "colab": {
          "base_uri": "https://localhost:8080/",
          "height": 37
        },
        "id": "k_LU_VagZ_4K",
        "outputId": "e275bbe1-d8c9-4ca3-e957-237dca7158cf"
      },
      "execution_count": null,
      "outputs": [
        {
          "output_type": "execute_result",
          "data": {
            "text/plain": [
              "'I'"
            ],
            "application/vnd.google.colaboratory.intrinsic+json": {
              "type": "string"
            }
          },
          "metadata": {},
          "execution_count": 8
        }
      ]
    },
    {
      "cell_type": "markdown",
      "source": [
        "This is the *slice* syntax. We're asking our machine here to return the character at position 0 from what we declared as `poem1`. \n",
        "\n",
        "Note here in particular that:\n",
        "> Python starts counting at 0 as the lowest unsigned integer value\n",
        "\n",
        "\n",
        "Compare that to numbering floors numbering. While you start with `1` in the US, in Europe you generally start with `0` or an equivalent of `Ground floor`.\n",
        "\n",
        "\n"
      ],
      "metadata": {
        "id": "y3PHXOAkZSyU"
      }
    },
    {
      "cell_type": "code",
      "source": [
        "poem1[-1:]"
      ],
      "metadata": {
        "colab": {
          "base_uri": "https://localhost:8080/",
          "height": 164
        },
        "id": "4FzJdQddb_9U",
        "outputId": "b55a04ae-f08d-4d25-de4d-7e07379b86dd"
      },
      "execution_count": null,
      "outputs": [
        {
          "output_type": "error",
          "ename": "NameError",
          "evalue": "ignored",
          "traceback": [
            "\u001b[0;31m---------------------------------------------------------------------------\u001b[0m",
            "\u001b[0;31mNameError\u001b[0m                                 Traceback (most recent call last)",
            "\u001b[0;32m<ipython-input-11-7bfca0d55dfb>\u001b[0m in \u001b[0;36m<module>\u001b[0;34m\u001b[0m\n\u001b[0;32m----> 1\u001b[0;31m \u001b[0mpoem1\u001b[0m\u001b[0;34m[\u001b[0m\u001b[0;34m-\u001b[0m\u001b[0;36m1\u001b[0m\u001b[0;34m]\u001b[0m\u001b[0;34m\u001b[0m\u001b[0;34m\u001b[0m\u001b[0m\n\u001b[0m",
            "\u001b[0;31mNameError\u001b[0m: name 'poem1' is not defined"
          ]
        }
      ]
    },
    {
      "cell_type": "markdown",
      "source": [
        "∇  *Why do you think we need to include* `:` *here?*\n",
        "\n",
        "(That's called slicing, and might become clearer through the next few examples)\n",
        "\n",
        "With slicing, you can also specify a range:"
      ],
      "metadata": {
        "id": "Q2LJvbGZcFs5"
      }
    },
    {
      "cell_type": "code",
      "source": [
        "poem1[5:-5]"
      ],
      "metadata": {
        "colab": {
          "base_uri": "https://localhost:8080/",
          "height": 88
        },
        "id": "hVCWf-ADcTy8",
        "outputId": "e2816d71-5a4e-46c2-a269-3eb13665447e"
      },
      "execution_count": null,
      "outputs": [
        {
          "output_type": "execute_result",
          "data": {
            "text/plain": [
              "'s not Death, for I stood up,\\nAnd all the Dead, lie down -\\nIt was not Night, for all the Bells\\nPut out their Tongues, for Noon.\\n\\nAnd yet, it tasted, like them all,\\nThe Figures I have seen\\nSet orderly, for Burial\\nReminded me, of mine -\\n\\nAs if my life were shaven,\\nAnd fitted to a frame,\\nAnd could not breathe without a key,\\nAnd ’twas like Midnight, some -\\n\\nWhen everything that ticked - has stopped -\\nAnd space stares - all around -\\nOr Grisly frosts - first Autumn morns,\\nRepeal the Beating Ground -\\n\\nBut most, like Chaos - Stopless - cool -\\nWithout a Chance, or spar -\\nOr even a Report of Land -\\nTo justify - Des'"
            ],
            "application/vnd.google.colaboratory.intrinsic+json": {
              "type": "string"
            }
          },
          "metadata": {},
          "execution_count": 10
        }
      ]
    },
    {
      "cell_type": "markdown",
      "source": [
        "Or, if you only care about the last few graphs of a given `str`:"
      ],
      "metadata": {
        "id": "VA4zEyHDdDtm"
      }
    },
    {
      "cell_type": "code",
      "source": [
        "poem1[-8:]"
      ],
      "metadata": {
        "colab": {
          "base_uri": "https://localhost:8080/",
          "height": 37
        },
        "id": "51tKj8zXdPaw",
        "outputId": "636757b4-9ee5-49e6-bc94-72d168c6426b"
      },
      "execution_count": null,
      "outputs": [
        {
          "output_type": "execute_result",
          "data": {
            "text/plain": [
              "'Despair.'"
            ],
            "application/vnd.google.colaboratory.intrinsic+json": {
              "type": "string"
            }
          },
          "metadata": {},
          "execution_count": 16
        }
      ]
    },
    {
      "cell_type": "markdown",
      "source": [
        "In other words, we're asking the computer to return characters in index position `5` to `-5`. Note that the end index (here `-5`), will not be included.\n",
        "\n",
        "\n"
      ],
      "metadata": {
        "id": "RPmoiXHocd_r"
      }
    },
    {
      "cell_type": "markdown",
      "source": [
        "### 2.3.8 String Methods\n",
        "\n",
        "Another neat thing is that you can turn a set a whole string in upper or lower case: "
      ],
      "metadata": {
        "id": "cLy-65-uPR9e"
      }
    },
    {
      "cell_type": "code",
      "source": [
        "poem1[7:10].upper()"
      ],
      "metadata": {
        "colab": {
          "base_uri": "https://localhost:8080/",
          "height": 37
        },
        "id": "tGk_Ugz2dAmX",
        "outputId": "b9289bb4-5b51-4c40-c404-a0680ca13347"
      },
      "execution_count": null,
      "outputs": [
        {
          "output_type": "execute_result",
          "data": {
            "text/plain": [
              "'NOT'"
            ],
            "application/vnd.google.colaboratory.intrinsic+json": {
              "type": "string"
            }
          },
          "metadata": {},
          "execution_count": 17
        }
      ]
    },
    {
      "cell_type": "code",
      "source": [
        "poem1[0:32].lower()"
      ],
      "metadata": {
        "colab": {
          "base_uri": "https://localhost:8080/",
          "height": 37
        },
        "id": "GdY8cYjOeBxQ",
        "outputId": "52b35acb-0464-4a14-bdf4-3dee60f3ad4c"
      },
      "execution_count": null,
      "outputs": [
        {
          "output_type": "execute_result",
          "data": {
            "text/plain": [
              "'it was not death, for i stood up'"
            ],
            "application/vnd.google.colaboratory.intrinsic+json": {
              "type": "string"
            }
          },
          "metadata": {},
          "execution_count": 21
        }
      ]
    },
    {
      "cell_type": "markdown",
      "source": [
        "There's other neat things you can do with the `str` data type; we won't be able to cover all of this here, but there are plenty of resources out there that introduce you to more features Python offers. As always, the [Python documentation](https://docs.python.org/3/library/string.html#) forms a fantastic resource, but other sites, such as [W3Schools](https://www.w3schools.com/python/python_strings.asp), may be easier to understand at first."
      ],
      "metadata": {
        "id": "1CLN3i9lfEWB"
      }
    },
    {
      "cell_type": "markdown",
      "source": [
        "## 2.4 Booleans\n",
        "\n",
        "These last two examples already brought up a third data type: Booleans, or `bool`. These are statements about \"truth\", for statements that are either `True` or `False`. \n",
        "\n"
      ],
      "metadata": {
        "id": "Cb2I6IZXE6qF"
      }
    },
    {
      "cell_type": "markdown",
      "source": [
        "###2.4.1 Conditions and Booleans\n",
        "\n",
        "Usual logical conditions from mathematics are fully supported in Python. \n",
        "\n",
        "We've already encountered the operator `==`, which always returns a Boolean, as two (or more) variables are either equal or not. \n",
        "\n",
        "Quite a few operators, including comparison operators such as `>` (greater than), `<` (less than), or `<=` (less than or equal), do the same. Compare the following examples:"
      ],
      "metadata": {
        "id": "Def_r0xoW8xJ"
      }
    },
    {
      "cell_type": "code",
      "source": [
        "3 < 5"
      ],
      "metadata": {
        "colab": {
          "base_uri": "https://localhost:8080/"
        },
        "id": "W6QCMFVCQx0H",
        "outputId": "7c54a998-7211-4973-f2cc-09b4db80435c"
      },
      "execution_count": null,
      "outputs": [
        {
          "output_type": "execute_result",
          "data": {
            "text/plain": [
              "True"
            ]
          },
          "metadata": {},
          "execution_count": 89
        }
      ]
    },
    {
      "cell_type": "code",
      "source": [
        "9 > 10"
      ],
      "metadata": {
        "colab": {
          "base_uri": "https://localhost:8080/"
        },
        "id": "WyxKpc6CRH5z",
        "outputId": "f391095e-d44e-4a89-d9b3-475d584fa989"
      },
      "execution_count": null,
      "outputs": [
        {
          "output_type": "execute_result",
          "data": {
            "text/plain": [
              "False"
            ]
          },
          "metadata": {},
          "execution_count": 92
        }
      ]
    },
    {
      "cell_type": "code",
      "source": [
        "5 <= 5"
      ],
      "metadata": {
        "colab": {
          "base_uri": "https://localhost:8080/"
        },
        "id": "sg5NrLIlRJRb",
        "outputId": "71d92b65-71d0-4f47-941c-36707538aaeb"
      },
      "execution_count": null,
      "outputs": [
        {
          "output_type": "execute_result",
          "data": {
            "text/plain": [
              "True"
            ]
          },
          "metadata": {},
          "execution_count": 91
        }
      ]
    },
    {
      "cell_type": "code",
      "source": [
        "True == False"
      ],
      "metadata": {
        "colab": {
          "base_uri": "https://localhost:8080/"
        },
        "id": "1zkQep26TuFx",
        "outputId": "a221f697-52da-4b84-c428-14f8580bb718"
      },
      "execution_count": null,
      "outputs": [
        {
          "output_type": "execute_result",
          "data": {
            "text/plain": [
              "False"
            ]
          },
          "metadata": {},
          "execution_count": 105
        }
      ]
    },
    {
      "cell_type": "markdown",
      "source": [
        "You can also call the Boolean value through the built-in `bool()` function:"
      ],
      "metadata": {
        "id": "RzXXeysZUG6K"
      }
    },
    {
      "cell_type": "code",
      "source": [
        "bool(True)"
      ],
      "metadata": {
        "colab": {
          "base_uri": "https://localhost:8080/"
        },
        "id": "C0J28GQ_UGTC",
        "outputId": "5e8c3f30-45cd-43b6-c3fc-54943bd43212"
      },
      "execution_count": null,
      "outputs": [
        {
          "output_type": "execute_result",
          "data": {
            "text/plain": [
              "True"
            ]
          },
          "metadata": {},
          "execution_count": 110
        }
      ]
    },
    {
      "cell_type": "code",
      "source": [
        "bool(False)"
      ],
      "metadata": {
        "colab": {
          "base_uri": "https://localhost:8080/"
        },
        "id": "_qFdre7PUULO",
        "outputId": "89b2f3ae-26fb-44f6-c956-fc96e41046f5"
      },
      "execution_count": null,
      "outputs": [
        {
          "output_type": "execute_result",
          "data": {
            "text/plain": [
              "False"
            ]
          },
          "metadata": {},
          "execution_count": 111
        }
      ]
    },
    {
      "cell_type": "markdown",
      "source": [
        "These are straight-forward, right? \n",
        "\n",
        "∇ *So what's the Boolean value of the following?*"
      ],
      "metadata": {
        "id": "dK5OGVsuUWdf"
      }
    },
    {
      "cell_type": "code",
      "source": [
        "bool(1)"
      ],
      "metadata": {
        "colab": {
          "base_uri": "https://localhost:8080/"
        },
        "id": "lIpY52KwUc_l",
        "outputId": "73ef1c24-761a-4fbb-9513-bb1fd0454a17"
      },
      "execution_count": null,
      "outputs": [
        {
          "output_type": "execute_result",
          "data": {
            "text/plain": [
              "True"
            ]
          },
          "metadata": {},
          "execution_count": 112
        }
      ]
    },
    {
      "cell_type": "code",
      "source": [
        "bool(0)"
      ],
      "metadata": {
        "colab": {
          "base_uri": "https://localhost:8080/"
        },
        "id": "WCofUKczUh66",
        "outputId": "180a083a-4e37-4a03-ea32-177a22d73254"
      },
      "execution_count": null,
      "outputs": [
        {
          "output_type": "execute_result",
          "data": {
            "text/plain": [
              "False"
            ]
          },
          "metadata": {},
          "execution_count": 113
        }
      ]
    },
    {
      "cell_type": "code",
      "source": [
        "bool(None)"
      ],
      "metadata": {
        "colab": {
          "base_uri": "https://localhost:8080/"
        },
        "id": "_DLICr7SUm2_",
        "outputId": "b4050421-c23a-4a21-fe83-a016c1415ced"
      },
      "execution_count": null,
      "outputs": [
        {
          "output_type": "execute_result",
          "data": {
            "text/plain": [
              "False"
            ]
          },
          "metadata": {},
          "execution_count": 114
        }
      ]
    },
    {
      "cell_type": "code",
      "source": [
        "bool(\"Hello\")"
      ],
      "metadata": {
        "colab": {
          "base_uri": "https://localhost:8080/"
        },
        "id": "y1i3QYrgUo2m",
        "outputId": "938264f4-b981-47fe-8a81-058977701894"
      },
      "execution_count": null,
      "outputs": [
        {
          "output_type": "execute_result",
          "data": {
            "text/plain": [
              "True"
            ]
          },
          "metadata": {},
          "execution_count": 115
        }
      ]
    },
    {
      "cell_type": "code",
      "source": [
        "bool(\"\")"
      ],
      "metadata": {
        "colab": {
          "base_uri": "https://localhost:8080/"
        },
        "id": "CH-5x5kQUrj-",
        "outputId": "1ec0ccbb-eebf-4bb2-db97-b77b20665f20"
      },
      "execution_count": null,
      "outputs": [
        {
          "output_type": "execute_result",
          "data": {
            "text/plain": [
              "False"
            ]
          },
          "metadata": {},
          "execution_count": 116
        }
      ]
    },
    {
      "cell_type": "markdown",
      "source": [
        "So in sum, `bool()` returns either `True` or `False`, according to the following schema:\n",
        "\n",
        "*   `False` - if argument is empty, False, 0 or None\n",
        "* `True` - if argument is any number (besides 0), True or a string\n",
        "\n",
        "\n"
      ],
      "metadata": {
        "id": "7c8R7AeWR-8z"
      }
    },
    {
      "cell_type": "markdown",
      "source": [
        "### 2.4.2 `not` Statements\n",
        "\n",
        "Let's get a bit poetic with what we learned about Booleans.\n",
        "\n",
        "∇ *What would you expect to happen in the following?*"
      ],
      "metadata": {
        "id": "98JhzbU1R_VS"
      }
    },
    {
      "cell_type": "code",
      "source": [
        "not False"
      ],
      "metadata": {
        "colab": {
          "base_uri": "https://localhost:8080/"
        },
        "id": "bjPn2OQ3RRuI",
        "outputId": "3aa73971-6514-4ceb-d942-ee30a78eb2d0"
      },
      "execution_count": null,
      "outputs": [
        {
          "output_type": "execute_result",
          "data": {
            "text/plain": [
              "True"
            ]
          },
          "metadata": {},
          "execution_count": 1
        }
      ]
    },
    {
      "cell_type": "code",
      "source": [
        "not True"
      ],
      "metadata": {
        "colab": {
          "base_uri": "https://localhost:8080/"
        },
        "id": "MIk4xT2WRWQ_",
        "outputId": "833eaf8e-0f09-4ecf-fef6-4e29bf3f9e06"
      },
      "execution_count": null,
      "outputs": [
        {
          "output_type": "execute_result",
          "data": {
            "text/plain": [
              "False"
            ]
          },
          "metadata": {},
          "execution_count": 2
        }
      ]
    },
    {
      "cell_type": "markdown",
      "source": [
        "With `not`, you can negate any Boolean expression or object. That's how `False` becomes `True` above, and vice-versa.\n",
        "\n",
        "Negating other objects results in the following:"
      ],
      "metadata": {
        "id": "5m61y4BxSwRp"
      }
    },
    {
      "cell_type": "code",
      "source": [
        "not \"\""
      ],
      "metadata": {
        "colab": {
          "base_uri": "https://localhost:8080/"
        },
        "id": "-hMsuUwSSmJu",
        "outputId": "49c4f417-c276-4208-89b5-41ef245036b9"
      },
      "execution_count": null,
      "outputs": [
        {
          "output_type": "execute_result",
          "data": {
            "text/plain": [
              "True"
            ]
          },
          "metadata": {},
          "execution_count": 3
        }
      ]
    },
    {
      "cell_type": "code",
      "source": [
        "not 0"
      ],
      "metadata": {
        "colab": {
          "base_uri": "https://localhost:8080/"
        },
        "id": "CDFiBoM-SeOi",
        "outputId": "9f35623f-78a9-4edb-ee37-7f454f95deaf"
      },
      "execution_count": null,
      "outputs": [
        {
          "output_type": "execute_result",
          "data": {
            "text/plain": [
              "True"
            ]
          },
          "metadata": {},
          "execution_count": 97
        }
      ]
    },
    {
      "cell_type": "code",
      "source": [
        "not 1"
      ],
      "metadata": {
        "colab": {
          "base_uri": "https://localhost:8080/"
        },
        "id": "qb36EtVySgu9",
        "outputId": "fa77d0e1-1bf7-409e-d50d-63ea0cd155b1"
      },
      "execution_count": null,
      "outputs": [
        {
          "output_type": "execute_result",
          "data": {
            "text/plain": [
              "False"
            ]
          },
          "metadata": {},
          "execution_count": 98
        }
      ]
    },
    {
      "cell_type": "code",
      "source": [
        "not \"Asparagus\""
      ],
      "metadata": {
        "colab": {
          "base_uri": "https://localhost:8080/"
        },
        "id": "7Vu8WEBjTXnq",
        "outputId": "0840f3e2-287f-4760-b106-bde6dc3759e3"
      },
      "execution_count": null,
      "outputs": [
        {
          "output_type": "execute_result",
          "data": {
            "text/plain": [
              "False"
            ]
          },
          "metadata": {},
          "execution_count": 102
        }
      ]
    },
    {
      "cell_type": "code",
      "source": [
        "not -1.213879127489"
      ],
      "metadata": {
        "colab": {
          "base_uri": "https://localhost:8080/"
        },
        "id": "HmLcO75bSin2",
        "outputId": "009a8f6a-b58c-4002-db8a-93f161d2f227"
      },
      "execution_count": null,
      "outputs": [
        {
          "output_type": "execute_result",
          "data": {
            "text/plain": [
              "False"
            ]
          },
          "metadata": {},
          "execution_count": 106
        }
      ]
    },
    {
      "cell_type": "code",
      "source": [
        "not None"
      ],
      "metadata": {
        "colab": {
          "base_uri": "https://localhost:8080/"
        },
        "id": "xVxcpgudTeXg",
        "outputId": "2ef42b54-3368-4fd9-807b-af3e8121d349"
      },
      "execution_count": null,
      "outputs": [
        {
          "output_type": "execute_result",
          "data": {
            "text/plain": [
              "True"
            ]
          },
          "metadata": {},
          "execution_count": 103
        }
      ]
    },
    {
      "cell_type": "markdown",
      "source": [
        "In sum, you can use `not` with common Python objects, such as `str`, `int`, or `float`. You can also use it on Boolean expressions:"
      ],
      "metadata": {
        "id": "nLvQOKyiTiKB"
      }
    },
    {
      "cell_type": "code",
      "source": [
        "not True == False"
      ],
      "metadata": {
        "colab": {
          "base_uri": "https://localhost:8080/"
        },
        "id": "Pbr09TfhTman",
        "outputId": "1a336564-6cdd-482e-c122-7e83f9e310a8"
      },
      "execution_count": null,
      "outputs": [
        {
          "output_type": "execute_result",
          "data": {
            "text/plain": [
              "True"
            ]
          },
          "metadata": {},
          "execution_count": 104
        }
      ]
    },
    {
      "cell_type": "markdown",
      "source": [
        "###2.4.3 `is` Statements\n",
        "\n",
        "You can also attach yet another object to this statement, but then you'd need to include the `is` operator:"
      ],
      "metadata": {
        "id": "BUpLeDQ9k1Td"
      }
    },
    {
      "cell_type": "code",
      "source": [
        "(True == False) is not True"
      ],
      "metadata": {
        "colab": {
          "base_uri": "https://localhost:8080/"
        },
        "id": "7kD0Y-dsmtRx",
        "outputId": "825d0d2a-187e-4078-ac0d-d41ae758156b"
      },
      "execution_count": null,
      "outputs": [
        {
          "output_type": "execute_result",
          "data": {
            "text/plain": [
              "True"
            ]
          },
          "metadata": {},
          "execution_count": 4
        }
      ]
    },
    {
      "cell_type": "markdown",
      "source": [
        "Pretty confusing, right? \n",
        "\n",
        "As a side note, compare the use of `==` (equals) to `is`: the former checks that the two objects have the same *value*; the latter checks that their *identity*. In that regard, note that `True` is always the same thing.\n",
        "\n",
        "Also: `not` also checks the *identity*, while the equivalent `!=` (does not equal) checks the *value*.\n",
        "\n",
        "So compare that to the following statement:\n",
        "\n"
      ],
      "metadata": {
        "id": "A3krSzf1V9VL"
      }
    },
    {
      "cell_type": "code",
      "source": [
        "x = 5\n",
        "y = 5\n",
        "\n",
        "(x == y) is x"
      ],
      "metadata": {
        "colab": {
          "base_uri": "https://localhost:8080/"
        },
        "id": "7_jUtmdVTKdY",
        "outputId": "6ea37571-6808-4c43-f2b3-703c1b272d49"
      },
      "execution_count": null,
      "outputs": [
        {
          "output_type": "execute_result",
          "data": {
            "text/plain": [
              "False"
            ]
          },
          "metadata": {},
          "execution_count": 13
        }
      ]
    },
    {
      "cell_type": "markdown",
      "source": [
        "∇ *What did we compare here?*\n",
        "\n",
        "The more you practice, the more this'll get second nature to you. And don't worry about getting stuck -- remember [Stack Overflow](https://stackoverflow.com) and other resources we looked at in this lesson. "
      ],
      "metadata": {
        "id": "7McLIV9cTFqr"
      }
    },
    {
      "cell_type": "markdown",
      "source": [
        "# Practice Section\n",
        "\n",
        "To get more comfortable with all this, try to debug the lines of code below:\n",
        "\n",
        "1. You should get the following output: `This is a string.`"
      ],
      "metadata": {
        "id": "HnE5JHuLe5VQ"
      }
    },
    {
      "cell_type": "code",
      "source": [
        "type \"This is a string.\""
      ],
      "metadata": {
        "colab": {
          "base_uri": "https://localhost:8080/",
          "height": 130
        },
        "id": "8UNvG7Igeo5K",
        "outputId": "1529904c-b05b-4e20-e479-4e6fe12a9b4f"
      },
      "execution_count": null,
      "outputs": [
        {
          "output_type": "error",
          "ename": "SyntaxError",
          "evalue": "ignored",
          "traceback": [
            "\u001b[0;36m  File \u001b[0;32m\"<ipython-input-121-5c868027028e>\"\u001b[0;36m, line \u001b[0;32m1\u001b[0m\n\u001b[0;31m    type(\"This is a string\"\u001b[0m\n\u001b[0m                           ^\u001b[0m\n\u001b[0;31mSyntaxError\u001b[0m\u001b[0;31m:\u001b[0m unexpected EOF while parsing\n"
          ]
        }
      ]
    },
    {
      "cell_type": "markdown",
      "source": [
        "2. You should get the following output: `5`"
      ],
      "metadata": {
        "id": "9ukeUmGHi2VJ"
      }
    },
    {
      "cell_type": "code",
      "source": [
        "print: [1 + 4]"
      ],
      "metadata": {
        "colab": {
          "base_uri": "https://localhost:8080/",
          "height": 164
        },
        "id": "S1sISJh0faZD",
        "outputId": "d954f557-48d3-48af-fbe5-7902b0005d83"
      },
      "execution_count": null,
      "outputs": [
        {
          "output_type": "error",
          "ename": "TypeError",
          "evalue": "ignored",
          "traceback": [
            "\u001b[0;31m---------------------------------------------------------------------------\u001b[0m",
            "\u001b[0;31mTypeError\u001b[0m                                 Traceback (most recent call last)",
            "\u001b[0;32m<ipython-input-129-92272a7baf7d>\u001b[0m in \u001b[0;36m<module>\u001b[0;34m\u001b[0m\n\u001b[0;32m----> 1\u001b[0;31m \u001b[0mprint\u001b[0m\u001b[0;34m[\u001b[0m\u001b[0;36m1\u001b[0m \u001b[0;34m+\u001b[0m \u001b[0;36m4\u001b[0m\u001b[0;34m]\u001b[0m\u001b[0;34m\u001b[0m\u001b[0;34m\u001b[0m\u001b[0m\n\u001b[0m",
            "\u001b[0;31mTypeError\u001b[0m: 'builtin_function_or_method' object is not subscriptable"
          ]
        }
      ]
    },
    {
      "cell_type": "markdown",
      "source": [
        "3. You should get the following output: `I've read 5 poems today.`"
      ],
      "metadata": {
        "id": "Owm3XpRVi-L1"
      }
    },
    {
      "cell_type": "code",
      "source": [
        "x = 5\n",
        "print(\"I've read\" + x + \"poems today.\")"
      ],
      "metadata": {
        "colab": {
          "base_uri": "https://localhost:8080/",
          "height": 181
        },
        "id": "mEKfKG3Ffyu_",
        "outputId": "5aeb09a8-f216-4d11-9a9a-93c31d9f92f0"
      },
      "execution_count": null,
      "outputs": [
        {
          "output_type": "error",
          "ename": "TypeError",
          "evalue": "ignored",
          "traceback": [
            "\u001b[0;31m---------------------------------------------------------------------------\u001b[0m",
            "\u001b[0;31mTypeError\u001b[0m                                 Traceback (most recent call last)",
            "\u001b[0;32m<ipython-input-5-fe4edc80c55b>\u001b[0m in \u001b[0;36m<module>\u001b[0;34m\u001b[0m\n\u001b[1;32m      1\u001b[0m \u001b[0mx\u001b[0m \u001b[0;34m=\u001b[0m \u001b[0;36m5\u001b[0m\u001b[0;34m\u001b[0m\u001b[0;34m\u001b[0m\u001b[0m\n\u001b[0;32m----> 2\u001b[0;31m \u001b[0mprint\u001b[0m\u001b[0;34m(\u001b[0m\u001b[0;34m\"I've read\"\u001b[0m \u001b[0;34m+\u001b[0m \u001b[0mx\u001b[0m \u001b[0;34m+\u001b[0m \u001b[0;34m\"poems today.\"\u001b[0m\u001b[0;34m)\u001b[0m\u001b[0;34m\u001b[0m\u001b[0;34m\u001b[0m\u001b[0m\n\u001b[0m",
            "\u001b[0;31mTypeError\u001b[0m: can only concatenate str (not \"int\") to str"
          ]
        }
      ]
    },
    {
      "cell_type": "markdown",
      "source": [
        "4. You should get the following output: `word in words`"
      ],
      "metadata": {
        "id": "-ldNvnwMijDB"
      }
    },
    {
      "cell_type": "code",
      "source": [
        "print (word in words)"
      ],
      "metadata": {
        "colab": {
          "base_uri": "https://localhost:8080/",
          "height": 164
        },
        "id": "OFgXvXQ5gOLU",
        "outputId": "1f9bed41-df0c-40e8-ad21-99579181a0bf"
      },
      "execution_count": null,
      "outputs": [
        {
          "output_type": "error",
          "ename": "NameError",
          "evalue": "ignored",
          "traceback": [
            "\u001b[0;31m---------------------------------------------------------------------------\u001b[0m",
            "\u001b[0;31mNameError\u001b[0m                                 Traceback (most recent call last)",
            "\u001b[0;32m<ipython-input-127-eb9bdc39e450>\u001b[0m in \u001b[0;36m<module>\u001b[0;34m\u001b[0m\n\u001b[0;32m----> 1\u001b[0;31m \u001b[0mprint\u001b[0m \u001b[0;34m(\u001b[0m\u001b[0mword\u001b[0m \u001b[0;32min\u001b[0m \u001b[0mwords\u001b[0m\u001b[0;34m)\u001b[0m\u001b[0;34m\u001b[0m\u001b[0;34m\u001b[0m\u001b[0m\n\u001b[0m",
            "\u001b[0;31mNameError\u001b[0m: name 'word' is not defined"
          ]
        }
      ]
    },
    {
      "cell_type": "markdown",
      "source": [
        "5. You should get the following output: \n",
        "\n",
        "> `But most, like Chaos - Stopless - cool -`\n",
        ">\n",
        "> `Without a Chance, or spar -`\n",
        ">\n",
        ">`Or even a Report of Land -`\n",
        ">\n",
        "> `To justify - Despair.`"
      ],
      "metadata": {
        "id": "uazNmHhcid0O"
      }
    },
    {
      "cell_type": "code",
      "source": [
        "line1 == “But most, like Chaos - Stopless - cool -” \n",
        "line2 == '''Without a Chance, or spar -'''\n",
        "line3 == \"Or even a Report of Land -'\n",
        "line4 == 'To justify - Despair.''\n",
        "\n",
        "pritn(line1 + line2 + line2 - line4)"
      ],
      "metadata": {
        "colab": {
          "base_uri": "https://localhost:8080/",
          "height": 130
        },
        "id": "LN7ULgX9ghpg",
        "outputId": "f1268d9e-2e1f-4eb7-8c6d-6bc0a41e2f98"
      },
      "execution_count": null,
      "outputs": [
        {
          "output_type": "error",
          "ename": "SyntaxError",
          "evalue": "ignored",
          "traceback": [
            "\u001b[0;36m  File \u001b[0;32m\"<ipython-input-126-3d09ebca6e61>\"\u001b[0;36m, line \u001b[0;32m1\u001b[0m\n\u001b[0;31m    line1 == “But most, like Chaos - Stopless - cool -”\u001b[0m\n\u001b[0m                ^\u001b[0m\n\u001b[0;31mSyntaxError\u001b[0m\u001b[0;31m:\u001b[0m invalid character in identifier\n"
          ]
        }
      ]
    },
    {
      "cell_type": "markdown",
      "source": [
        "6. You should get the following output: `True`"
      ],
      "metadata": {
        "id": "mFrHbyVTjq7Y"
      }
    },
    {
      "cell_type": "code",
      "source": [
        "bol(6 > 5)"
      ],
      "metadata": {
        "colab": {
          "base_uri": "https://localhost:8080/"
        },
        "id": "N3CEPI0JkNjM",
        "outputId": "c6e46bff-9cd6-48f0-9c81-94dd731064bd"
      },
      "execution_count": null,
      "outputs": [
        {
          "output_type": "execute_result",
          "data": {
            "text/plain": [
              "True"
            ]
          },
          "metadata": {},
          "execution_count": 130
        }
      ]
    },
    {
      "cell_type": "markdown",
      "source": [
        "7. You should get the following output: `True`"
      ],
      "metadata": {
        "id": "l5cz_aZxUBGd"
      }
    },
    {
      "cell_type": "code",
      "source": [
        "x = 8\n",
        "\n",
        "\"Seven tigers\" <= x + \"lions\""
      ],
      "metadata": {
        "colab": {
          "base_uri": "https://localhost:8080/",
          "height": 198
        },
        "id": "sZ8FxU5bUHev",
        "outputId": "dafb32e9-dd77-4708-84fa-21eb074bccd0"
      },
      "execution_count": null,
      "outputs": [
        {
          "output_type": "error",
          "ename": "TypeError",
          "evalue": "ignored",
          "traceback": [
            "\u001b[0;31m---------------------------------------------------------------------------\u001b[0m",
            "\u001b[0;31mTypeError\u001b[0m                                 Traceback (most recent call last)",
            "\u001b[0;32m<ipython-input-5-221804b71678>\u001b[0m in \u001b[0;36m<module>\u001b[0;34m\u001b[0m\n\u001b[1;32m      1\u001b[0m \u001b[0mx\u001b[0m \u001b[0;34m=\u001b[0m \u001b[0;36m8\u001b[0m\u001b[0;34m\u001b[0m\u001b[0;34m\u001b[0m\u001b[0m\n\u001b[1;32m      2\u001b[0m \u001b[0;34m\u001b[0m\u001b[0m\n\u001b[0;32m----> 3\u001b[0;31m \u001b[0;34m\"Seven tigers\"\u001b[0m \u001b[0;34m<=\u001b[0m \u001b[0mx\u001b[0m \u001b[0;34m+\u001b[0m \u001b[0;34m\"lions\"\u001b[0m\u001b[0;34m\u001b[0m\u001b[0;34m\u001b[0m\u001b[0m\n\u001b[0m",
            "\u001b[0;31mTypeError\u001b[0m: unsupported operand type(s) for +: 'int' and 'str'"
          ]
        }
      ]
    },
    {
      "cell_type": "markdown",
      "source": [
        "8. You should get the following output: `True`\n",
        "\n",
        "∇ *How would you figure out what* `!=` *(used below) means?* \n"
      ],
      "metadata": {
        "id": "vkDQvsMIVDjO"
      }
    },
    {
      "cell_type": "code",
      "source": [
        "True is not (True != False)"
      ],
      "metadata": {
        "colab": {
          "base_uri": "https://localhost:8080/"
        },
        "id": "D8NOJJHxkoPu",
        "outputId": "fd53acf3-27ea-4436-be94-1ba760b86b3e"
      },
      "execution_count": null,
      "outputs": [
        {
          "output_type": "execute_result",
          "data": {
            "text/plain": [
              "False"
            ]
          },
          "metadata": {},
          "execution_count": 7
        }
      ]
    },
    {
      "cell_type": "markdown",
      "source": [
        "9. You should get the following output: `int`"
      ],
      "metadata": {
        "id": "LT3gC8xeqrZ8"
      }
    },
    {
      "cell_type": "code",
      "source": [
        "type(\"3\")"
      ],
      "metadata": {
        "colab": {
          "base_uri": "https://localhost:8080/"
        },
        "id": "ZFP-dOsFqvw5",
        "outputId": "a2a8ec38-2f8d-4687-8bb6-37c7702605b9"
      },
      "execution_count": null,
      "outputs": [
        {
          "output_type": "execute_result",
          "data": {
            "text/plain": [
              "int"
            ]
          },
          "metadata": {},
          "execution_count": 23
        }
      ]
    },
    {
      "cell_type": "markdown",
      "source": [
        "10. Translate the description listed below into Python syntax"
      ],
      "metadata": {
        "id": "zfB2lbHqVl7J"
      }
    },
    {
      "cell_type": "code",
      "source": [
        "# declare variables x as a float 4.3\n",
        "\n",
        "# declare variable y as integer 8\n",
        "\n",
        "# declare variable z as product of variables x and y\n",
        "\n",
        "# return whether z is larger than or equal to 34"
      ],
      "metadata": {
        "id": "ICAKCuD-V5TW"
      },
      "execution_count": null,
      "outputs": []
    },
    {
      "cell_type": "markdown",
      "source": [
        "11. Translate the description listed below into Python syntax to create a short poem, using the first line from [one of Emily Dickinson's poems](https://www.poetryfoundation.org/poems/56454/banish-air-from-air-963)\n",
        "\n",
        "Note: the built-in `input()` function can be used as follows: `input(\"what do you want to input?\")`"
      ],
      "metadata": {
        "id": "ozUKtwpwWGcy"
      }
    },
    {
      "cell_type": "code",
      "source": [
        "# build-a-poem script\n",
        "\n",
        "# define line_1 as the following string: “Banish Air from Air -”\n",
        "\n",
        "# use built-in input() function to declare line_2\n",
        "\n",
        "# print the addition of the two strings (make sure to include a new line character!)"
      ],
      "metadata": {
        "id": "mXe1d9QVXb7o"
      },
      "execution_count": null,
      "outputs": []
    },
    {
      "cell_type": "markdown",
      "source": [
        "Leftovers: Need to explain somewhere: (Probably lesson 1)\n",
        "\n",
        "|Operators| perform operations on values | `+` `*` `=` `==` `>` `and` `not` `in` `is not`|\n"
      ],
      "metadata": {
        "id": "wmEIC9kLFa-M"
      }
    }
  ]
}